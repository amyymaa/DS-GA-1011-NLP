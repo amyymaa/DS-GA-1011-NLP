{
 "cells": [
  {
   "cell_type": "markdown",
   "metadata": {
    "colab_type": "text",
    "id": "v5txvaCo-IH6"
   },
   "source": [
    "# HW3 - Transfer learning\n",
    "\n",
    "\n",
    "In this assignment you will learn about transfer learning. This technique is perhaps one of the most important techniques for industry. When a problem you want to solve does not have enough data, we use a different (larger) dataset to learn representations which can help us solve our task using the smaller task.\n",
    "\n",
    "The general steps to transfer learning are as follows:\n",
    "\n",
    "1. Find a huge dataset with similar characteristics to the problem you are interested in.\n",
    "2. Choose a model powerful enough to extract meaningful representations from the huge dataset.\n",
    "3. Train this model on the huge dataset.\n",
    "4. Use this model to train on the smaller dataset.\n",
    "\n",
    "\n",
    "### This homework has the following sections:\n",
    "1. Question 1: MNIST fine-tuning (Parts A, B, C, D).\n",
    "2. Question 2: Pretrain on Wikitext2 (Part A, B, C, D)\n",
    "3. Question 3: Finetune on MNLI (Part A, B, C, D)\n",
    "4. Question 4: Finetune using pretrained BERT (Part A, B, C)"
   ]
  },
  {
   "cell_type": "code",
   "execution_count": 1,
   "metadata": {
    "colab": {
     "base_uri": "https://localhost:8080/",
     "height": 122
    },
    "colab_type": "code",
    "id": "_pg4LS2h0n3y",
    "outputId": "c853a247-881e-468f-cddb-bd6ce2d14545"
   },
   "outputs": [
    {
     "name": "stdout",
     "output_type": "stream",
     "text": [
      "Go to this URL in a browser: https://accounts.google.com/o/oauth2/auth?client_id=947318989803-6bn6qk8qdgf4n4g3pfee6491hc0brc4i.apps.googleusercontent.com&redirect_uri=urn%3Aietf%3Awg%3Aoauth%3A2.0%3Aoob&scope=email%20https%3A%2F%2Fwww.googleapis.com%2Fauth%2Fdocs.test%20https%3A%2F%2Fwww.googleapis.com%2Fauth%2Fdrive%20https%3A%2F%2Fwww.googleapis.com%2Fauth%2Fdrive.photos.readonly%20https%3A%2F%2Fwww.googleapis.com%2Fauth%2Fpeopleapi.readonly&response_type=code\n",
      "\n",
      "Enter your authorization code:\n",
      "··········\n",
      "Mounted at /content/drive\n"
     ]
    }
   ],
   "source": [
    "from google.colab import drive\n",
    "drive.mount('/content/drive')"
   ]
  },
  {
   "cell_type": "markdown",
   "metadata": {
    "colab_type": "text",
    "id": "xURXhNlv-IH_"
   },
   "source": [
    "---   \n",
    "## Question 1 (MNIST transfer learning)\n",
    "To grasp the high-level approach to transfer learning, let's first do a simple example using computer vision. \n",
    "\n",
    "The torchvision library has pretrained models (resnets, vggnets, etc) on the Imagenet dataset. Imagenet is a dataset\n",
    "with 1.3 million images covering over 1000 classes of objects. When you use one of these models, the weights of the model initialize\n",
    "with the weights saved from training on imagenet.\n",
    "\n",
    "In this task we will:\n",
    "1. Choose a pretrained model.\n",
    "2. Freeze the model so that the weights don't change.\n",
    "3. Fine-tune on a few labels of MNIST.   "
   ]
  },
  {
   "cell_type": "markdown",
   "metadata": {
    "colab_type": "text",
    "id": "cRIx3s6q-IIA"
   },
   "source": [
    "#### Choose a model\n",
    "Here we pick any of the models from torchvision"
   ]
  },
  {
   "cell_type": "code",
   "execution_count": 2,
   "metadata": {
    "colab": {
     "base_uri": "https://localhost:8080/",
     "height": 71
    },
    "colab_type": "code",
    "id": "NfXOP6mF-IIB",
    "outputId": "7e748c10-5f1c-446f-ef46-a35b2baac97b"
   },
   "outputs": [
    {
     "name": "stderr",
     "output_type": "stream",
     "text": [
      "Downloading: \"https://download.pytorch.org/models/resnet18-5c106cde.pth\" to /root/.cache/torch/checkpoints/resnet18-5c106cde.pth\n",
      "100%|██████████| 44.7M/44.7M [00:00<00:00, 110MB/s] \n"
     ]
    }
   ],
   "source": [
    "import torch\n",
    "import torchvision.models as models\n",
    "\n",
    "class Identity(torch.nn.Module):\n",
    "    def __init__(self):\n",
    "        super(Identity, self).__init__()\n",
    "        \n",
    "    def forward(self, x):\n",
    "        return x\n",
    "\n",
    "# init the pretrained feature extractor\n",
    "pretrained_resnet18 = models.resnet18(pretrained=True)\n",
    "\n",
    "# we don't want the built in last layer, we're going to modify it ourselves\n",
    "pretrained_resnet18.fc = Identity()"
   ]
  },
  {
   "cell_type": "code",
   "execution_count": 3,
   "metadata": {
    "colab": {
     "base_uri": "https://localhost:8080/",
     "height": 71
    },
    "colab_type": "code",
    "id": "p4-upztKcRp5",
    "outputId": "2b7cc7e3-75c9-4a0b-facc-73121a37ccb7"
   },
   "outputs": [
    {
     "name": "stderr",
     "output_type": "stream",
     "text": [
      "Downloading: \"https://download.pytorch.org/models/resnet50-19c8e357.pth\" to /root/.cache/torch/checkpoints/resnet50-19c8e357.pth\n",
      "100%|██████████| 97.8M/97.8M [00:01<00:00, 71.4MB/s]\n"
     ]
    }
   ],
   "source": [
    "pretrained_resnet50 = models.resnet50(pretrained=True)"
   ]
  },
  {
   "cell_type": "markdown",
   "metadata": {
    "colab_type": "text",
    "id": "JteDO-Am-IIH"
   },
   "source": [
    "#### Freeze the model\n",
    "Here we freeze the weights of the model. Freezing means the gradients will not backpropagate\n",
    "into these weights.\n",
    "\n",
    "By doing this you can think about the model as a feature extractor. This feature extractor outputs\n",
    "a **representation** of an input. This representation is a matrix that encodes information about the input."
   ]
  },
  {
   "cell_type": "code",
   "execution_count": 0,
   "metadata": {
    "colab": {},
    "colab_type": "code",
    "id": "oh6qYpLR-III"
   },
   "outputs": [],
   "source": [
    "def freeze_model(model):\n",
    "    for param in model.parameters():\n",
    "        param.requires_grad = False\n",
    "        \n",
    "def unfreeze_model(model):\n",
    "    for param in model.parameters():\n",
    "        param.requires_grad = True\n",
    "        \n",
    "freeze_model(pretrained_resnet18)"
   ]
  },
  {
   "cell_type": "markdown",
   "metadata": {
    "colab_type": "text",
    "id": "BsAi66W5-IIL"
   },
   "source": [
    "#### Init target dataset\n",
    "Here we define the dataset we are actually interested in."
   ]
  },
  {
   "cell_type": "code",
   "execution_count": 5,
   "metadata": {
    "colab": {
     "base_uri": "https://localhost:8080/",
     "height": 275
    },
    "colab_type": "code",
    "id": "qP1K41PR-IIM",
    "outputId": "5a3095b4-70c1-4068-8292-89e61de0c117"
   },
   "outputs": [
    {
     "name": "stderr",
     "output_type": "stream",
     "text": [
      "  0%|          | 0/9912422 [00:00<?, ?it/s]"
     ]
    },
    {
     "name": "stdout",
     "output_type": "stream",
     "text": [
      "Downloading http://yann.lecun.com/exdb/mnist/train-images-idx3-ubyte.gz to /content/MNIST/raw/train-images-idx3-ubyte.gz\n"
     ]
    },
    {
     "name": "stderr",
     "output_type": "stream",
     "text": [
      "9920512it [00:02, 3599855.24it/s]                             \n"
     ]
    },
    {
     "name": "stdout",
     "output_type": "stream",
     "text": [
      "Extracting /content/MNIST/raw/train-images-idx3-ubyte.gz to /content/MNIST/raw\n"
     ]
    },
    {
     "name": "stderr",
     "output_type": "stream",
     "text": [
      "32768it [00:00, 327637.35it/s]\n",
      "0it [00:00, ?it/s]"
     ]
    },
    {
     "name": "stdout",
     "output_type": "stream",
     "text": [
      "Downloading http://yann.lecun.com/exdb/mnist/train-labels-idx1-ubyte.gz to /content/MNIST/raw/train-labels-idx1-ubyte.gz\n",
      "Extracting /content/MNIST/raw/train-labels-idx1-ubyte.gz to /content/MNIST/raw\n",
      "Downloading http://yann.lecun.com/exdb/mnist/t10k-images-idx3-ubyte.gz to /content/MNIST/raw/t10k-images-idx3-ubyte.gz\n"
     ]
    },
    {
     "name": "stderr",
     "output_type": "stream",
     "text": [
      "1654784it [00:00, 2625767.33it/s]                            \n",
      "8192it [00:00, 125956.74it/s]\n"
     ]
    },
    {
     "name": "stdout",
     "output_type": "stream",
     "text": [
      "Extracting /content/MNIST/raw/t10k-images-idx3-ubyte.gz to /content/MNIST/raw\n",
      "Downloading http://yann.lecun.com/exdb/mnist/t10k-labels-idx1-ubyte.gz to /content/MNIST/raw/t10k-labels-idx1-ubyte.gz\n",
      "Extracting /content/MNIST/raw/t10k-labels-idx1-ubyte.gz to /content/MNIST/raw\n",
      "Processing...\n",
      "Done!\n"
     ]
    }
   ],
   "source": [
    "import os\n",
    "from torchvision import transforms\n",
    "from torchvision.datasets import  MNIST\n",
    "from torch.utils.data import DataLoader, random_split\n",
    "import torch.nn.functional as F\n",
    "\n",
    "#  train/val  split\n",
    "mnist_dataset = MNIST(os.getcwd(), train=True, download=True, transform=transforms.ToTensor())\n",
    "mnist_train, mnist_val = random_split(mnist_dataset, [55000, 5000])\n",
    "\n",
    "mnist_train = DataLoader(mnist_train, batch_size=1024)\n",
    "mnist_val = DataLoader(mnist_val, batch_size=1024)\n",
    "\n",
    "# test split\n",
    "mnist_test = DataLoader(MNIST(os.getcwd(), train=False, download=True, transform=transforms.ToTensor()), batch_size=1024)"
   ]
  },
  {
   "cell_type": "code",
   "execution_count": 0,
   "metadata": {
    "colab": {},
    "colab_type": "code",
    "id": "eL5ZeB-BcjYQ"
   },
   "outputs": [],
   "source": [
    "num_gpus = torch.cuda.device_count()\n",
    "if num_gpus > 0:\n",
    "    current_device = 'cuda'\n",
    "else:\n",
    "    current_device = 'cpu'"
   ]
  },
  {
   "cell_type": "markdown",
   "metadata": {
    "colab_type": "text",
    "id": "97ZiTc2D-IIO"
   },
   "source": [
    "### Part A (init fine-tune model)\n",
    "decide what model to use for fine-tuning"
   ]
  },
  {
   "cell_type": "code",
   "execution_count": 7,
   "metadata": {
    "colab": {
     "base_uri": "https://localhost:8080/",
     "height": 1000
    },
    "colab_type": "code",
    "id": "b6fYtnHP-IIP",
    "outputId": "3948e6bc-5fbb-41dc-9873-008a982e4ac0"
   },
   "outputs": [
    {
     "name": "stdout",
     "output_type": "stream",
     "text": [
      "torch.Size([64, 3, 7, 7])\n",
      "torch.Size([64])\n",
      "torch.Size([64])\n",
      "torch.Size([64, 64, 3, 3])\n",
      "torch.Size([64])\n",
      "torch.Size([64])\n",
      "torch.Size([64, 64, 3, 3])\n",
      "torch.Size([64])\n",
      "torch.Size([64])\n",
      "torch.Size([64, 64, 3, 3])\n",
      "torch.Size([64])\n",
      "torch.Size([64])\n",
      "torch.Size([64, 64, 3, 3])\n",
      "torch.Size([64])\n",
      "torch.Size([64])\n",
      "torch.Size([128, 64, 3, 3])\n",
      "torch.Size([128])\n",
      "torch.Size([128])\n",
      "torch.Size([128, 128, 3, 3])\n",
      "torch.Size([128])\n",
      "torch.Size([128])\n",
      "torch.Size([128, 64, 1, 1])\n",
      "torch.Size([128])\n",
      "torch.Size([128])\n",
      "torch.Size([128, 128, 3, 3])\n",
      "torch.Size([128])\n",
      "torch.Size([128])\n",
      "torch.Size([128, 128, 3, 3])\n",
      "torch.Size([128])\n",
      "torch.Size([128])\n",
      "torch.Size([256, 128, 3, 3])\n",
      "torch.Size([256])\n",
      "torch.Size([256])\n",
      "torch.Size([256, 256, 3, 3])\n",
      "torch.Size([256])\n",
      "torch.Size([256])\n",
      "torch.Size([256, 128, 1, 1])\n",
      "torch.Size([256])\n",
      "torch.Size([256])\n",
      "torch.Size([256, 256, 3, 3])\n",
      "torch.Size([256])\n",
      "torch.Size([256])\n",
      "torch.Size([256, 256, 3, 3])\n",
      "torch.Size([256])\n",
      "torch.Size([256])\n",
      "torch.Size([512, 256, 3, 3])\n",
      "torch.Size([512])\n",
      "torch.Size([512])\n",
      "torch.Size([512, 512, 3, 3])\n",
      "torch.Size([512])\n",
      "torch.Size([512])\n",
      "torch.Size([512, 256, 1, 1])\n",
      "torch.Size([512])\n",
      "torch.Size([512])\n",
      "torch.Size([512, 512, 3, 3])\n",
      "torch.Size([512])\n",
      "torch.Size([512])\n",
      "torch.Size([512, 512, 3, 3])\n",
      "torch.Size([512])\n",
      "torch.Size([512])\n"
     ]
    }
   ],
   "source": [
    "for i in pretrained_resnet18.parameters():\n",
    "    print(i.shape)"
   ]
  },
  {
   "cell_type": "code",
   "execution_count": 0,
   "metadata": {
    "colab": {},
    "colab_type": "code",
    "id": "XiLkKcfycnzm"
   },
   "outputs": [],
   "source": [
    "def init_fine_tune_model():\n",
    "    layers = [ torch.nn.Linear(512, 1000)]\n",
    "#     resnet_model = models.resnet18(pretrained=False)\n",
    "#     layers += [resnet_model]\n",
    "    \n",
    "    fc_last = torch.nn.Linear(1000,10)\n",
    "    layers += [fc_last]\n",
    "    fine_tune_model = torch.nn.Sequential(*layers)\n",
    "    return fine_tune_model"
   ]
  },
  {
   "cell_type": "code",
   "execution_count": 0,
   "metadata": {
    "colab": {},
    "colab_type": "code",
    "id": "iIuvkh3rctXu"
   },
   "outputs": [],
   "source": [
    "fine_tune_model = init_fine_tune_model()"
   ]
  },
  {
   "cell_type": "code",
   "execution_count": 10,
   "metadata": {
    "colab": {
     "base_uri": "https://localhost:8080/",
     "height": 85
    },
    "colab_type": "code",
    "id": "Id3PTpLCczuu",
    "outputId": "163bd68e-7a45-48b1-bebd-f9852e03523d"
   },
   "outputs": [
    {
     "name": "stdout",
     "output_type": "stream",
     "text": [
      "torch.Size([1000, 512])\n",
      "torch.Size([1000])\n",
      "torch.Size([10, 1000])\n",
      "torch.Size([10])\n"
     ]
    }
   ],
   "source": [
    "for i in fine_tune_model.parameters():\n",
    "    print(i.shape)"
   ]
  },
  {
   "cell_type": "markdown",
   "metadata": {
    "colab_type": "text",
    "id": "-EYpTNXP-IIS"
   },
   "source": [
    "### Part B (Fine-tune (Frozen))\n",
    "\n",
    "The actual problem we care about solving likely has a different number of classes or is a different task altogether. Fine-tuning is the process of using the extracted representations (features) to solve this downstream task  (the task you're interested in).\n",
    "\n",
    "To illustrate this, we'll use our pretrained model (on Imagenet), to solve the MNIST classification task.\n",
    "\n",
    "There are two types of finetuning. \n",
    "\n",
    "#### 1. Frozen feature_extractor\n",
    "In the first type we pretrain with the FROZEN feature_extractor and NEVER unfreeze it during finetuning.\n",
    "\n",
    "\n",
    "#### 2. Unfrozen feature_extractor\n",
    "In the second, we finetune with a FROZEN feature_extractor for a few epochs, then unfreeze the feature extractor and finish training.\n",
    "\n",
    "\n",
    "In this part we will use the first version"
   ]
  },
  {
   "cell_type": "code",
   "execution_count": 0,
   "metadata": {
    "colab": {},
    "colab_type": "code",
    "id": "dMvWLz9Cc7Jq"
   },
   "outputs": [],
   "source": [
    "import tqdm\n",
    "import cv2\n",
    "\n",
    "def do_train(feature_extractor, fine_tune_model, dataloader, criterion, optimizer):\n",
    "    fine_tune_model.train()\n",
    "    loss_val = 0\n",
    "    for x, y in dataloader:\n",
    "        y = y.to(current_device)\n",
    "#         print(current_device)\n",
    "#         print(y)\n",
    "        optimizer.zero_grad()\n",
    "        x = x.repeat(1, 3, 1, 1)\n",
    "#         print(x[0].size())\n",
    "#         print(type(x))\n",
    "        x = x.to(current_device)\n",
    "#         print(x)\n",
    "        feature = feature_extractor(x)\n",
    "        y_hat = fine_tune_model(feature)\n",
    "        \n",
    "        loss = criterion(y_hat, y)\n",
    "        loss.backward()\n",
    "        optimizer.step()\n",
    "        \n",
    "        # Accurately compute loss, because of different batch size\n",
    "        loss_val += loss.item() * len(x) / len(dataloader.dataset)\n",
    "    return loss_val\n",
    "\n",
    "def do_eval(feature_extractor, fine_tune_model, dataloader, criterion):\n",
    "    fine_tune_model.eval()\n",
    "    loss_val = 0\n",
    "    y_ls = []\n",
    "    y_hat_ls = []\n",
    "    with torch.no_grad():\n",
    "        for x, y in dataloader:\n",
    "            y = y.to(current_device)\n",
    "            x = x.repeat(1, 3, 1, 1)\n",
    "            x = x.to(current_device)\n",
    "            feature = feature_extractor(x)\n",
    "            y_hat = fine_tune_model(feature)\n",
    "            \n",
    "            loss = criterion(y_hat, y)\n",
    "            # Accurately compute loss, because of different batch size\n",
    "            loss_val += loss.item() * len(x) / len(dataloader.dataset)\n",
    "            y_hat_ls.append(torch.nn.functional.softmax(y_hat, dim=1))\n",
    "            y_ls.append(y)\n",
    "    return loss_val, torch.cat(y_hat_ls, dim=0), torch.cat(y_ls, dim=0)"
   ]
  },
  {
   "cell_type": "code",
   "execution_count": 0,
   "metadata": {
    "colab": {},
    "colab_type": "code",
    "id": "suJM3ikoc9ik"
   },
   "outputs": [],
   "source": [
    "import torch.optim as optim\n",
    "import pandas as pd\n",
    "\n",
    "def FROZEN_fine_tune_mnist(feature_extractor, fine_tune_model, mnist_train, mnist_val):\n",
    "    \"\"\"\n",
    "    model is a feature extractor (resnet).\n",
    "    Create a new model which uses those features to finetune on MNIST\n",
    "    \n",
    "    return the fine_tune model\n",
    "    \"\"\"     \n",
    "    \n",
    "    freeze_model(feature_extractor)\n",
    "    criterion = torch.nn.CrossEntropyLoss()\n",
    "    optimizer = optim.Adam(fine_tune_model.parameters(), lr=0.001)\n",
    "    \n",
    "    train_loss_history = []\n",
    "    val_loss_history = []\n",
    "    # INSERT YOUR CODE: (train the fine_tune model using features extracted by feature_extractor)\n",
    "    N_EPOCHS = 20\n",
    "    for epoch in tqdm.trange(N_EPOCHS):\n",
    "        train_loss = do_train(\n",
    "            feature_extractor = feature_extractor, \n",
    "            fine_tune_model = fine_tune_model,\n",
    "            criterion=criterion,\n",
    "            dataloader=mnist_train,\n",
    "            optimizer=optimizer,\n",
    "        )\n",
    "        val_loss, val_pred, val_true = do_eval(\n",
    "            feature_extractor = feature_extractor, \n",
    "            fine_tune_model = fine_tune_model,\n",
    "            criterion=criterion,\n",
    "            dataloader=mnist_val,\n",
    "        )\n",
    "        train_loss_history.append(train_loss)\n",
    "        val_loss_history.append(val_loss)\n",
    "        \n",
    "    loss_history_df = pd.DataFrame({\n",
    "    \"train\": train_loss_history,\n",
    "    \"val\": val_loss_history,})\n",
    "    loss_history_df.plot(alpha=0.5)\n",
    "    \n",
    "    path_root = '/content/drive/My Drive/nlp3_save_model/'\n",
    "    if not os.path.exists(path_root):\n",
    "      os.mkdir(path_root)\n",
    "    model_path = os.path.join(path_root,\"mnist_fine_tune_model_freeze.pth\")            \n",
    "    torch.save(fine_tune_model.state_dict(), model_path)  \n",
    "    \n",
    "    plot_path = os.path.join(path_root,\"plot_freeze.pkl\") \n",
    "    loss_history_df.to_pickle(plot_path)\n",
    "    \n",
    "    \n",
    "    \n",
    "    return fine_tune_model\n",
    "    "
   ]
  },
  {
   "cell_type": "markdown",
   "metadata": {
    "colab_type": "text",
    "id": "O1HPxBim-IIY"
   },
   "source": [
    "### Part C (compute test accuracy)\n",
    "Compute the test accuracy of fine-tuned model on MNIST"
   ]
  },
  {
   "cell_type": "code",
   "execution_count": 0,
   "metadata": {
    "colab": {},
    "colab_type": "code",
    "id": "Pe6_a6Cu-IIb"
   },
   "outputs": [],
   "source": [
    "# def calculate_mnist_test_accuracy(feature_extractor, fine_tune_model, mnist_test):\n",
    "    \n",
    "#     test_accuracy = 0 \n",
    "    \n",
    "#     return test_accuracy\n",
    "def acc(model, dataloader, criterion):\n",
    "    _, pred, true = do_eval(\n",
    "        model=model, \n",
    "        dataloader=dataloader,\n",
    "        criterion=criterion,\n",
    "    )\n",
    "    return (torch.exp(pred).max(1)[1] == true).float().mean().item()\n",
    "\n",
    "\n",
    "\n",
    "def calculate_mnist_test_accuracy(feature_extractor, fine_tune_model, mnist_test):\n",
    "    criterion = torch.nn.CrossEntropyLoss()\n",
    "    \n",
    "    _, pred, true = do_eval(feature_extractor, fine_tune_model, mnist_test, criterion)\n",
    "    \n",
    "    test_accuracy = (torch.exp(pred).max(1)[1] == true).float().mean().item()\n",
    "    \n",
    "    return test_accuracy\n"
   ]
  },
  {
   "cell_type": "markdown",
   "metadata": {
    "colab_type": "text",
    "id": "nONbdknn-IIe"
   },
   "source": [
    "### Grade!\n",
    "Let's see how you did"
   ]
  },
  {
   "cell_type": "code",
   "execution_count": 14,
   "metadata": {
    "colab": {
     "base_uri": "https://localhost:8080/",
     "height": 54
    },
    "colab_type": "code",
    "id": "HpQu2Gk8dRS6",
    "outputId": "95874cff-b861-4fb8-adc3-d292c475e512"
   },
   "outputs": [
    {
     "name": "stdout",
     "output_type": "stream",
     "text": [
      "Drive already mounted at /content/drive; to attempt to forcibly remount, call drive.mount(\"/content/drive\", force_remount=True).\n"
     ]
    }
   ],
   "source": [
    "from google.colab import drive\n",
    "drive.mount('/content/drive')"
   ]
  },
  {
   "cell_type": "code",
   "execution_count": 15,
   "metadata": {
    "colab": {
     "base_uri": "https://localhost:8080/",
     "height": 282
    },
    "colab_type": "code",
    "id": "RgV8f60f-IIe",
    "outputId": "1f076905-2b9e-4c2d-e36b-669b20036e12"
   },
   "outputs": [
    {
     "name": "stderr",
     "output_type": "stream",
     "text": [
      "100%|██████████| 20/20 [04:28<00:00, 13.46s/it]\n"
     ]
    },
    {
     "data": {
      "image/png": "[encoded data removed]",
      "text/plain": [
       "<Figure size 432x288 with 1 Axes>"
      ]
     },
     "metadata": {
      "tags": []
     },
     "output_type": "display_data"
    }
   ],
   "source": [
    "def grade_mnist_frozen():\n",
    "    \n",
    "    # init a ft model\n",
    "    fine_tune_model = init_fine_tune_model()\n",
    "    fine_tune_model.to(current_device)\n",
    "    pretrained_resnet18.to(current_device)\n",
    "    \n",
    "    # run the transfer learning routine\n",
    "    FROZEN_fine_tune_mnist(pretrained_resnet18, fine_tune_model, mnist_train, mnist_val)\n",
    "    \n",
    "    # calculate test accuracy\n",
    "    test_accuracy = calculate_mnist_test_accuracy(pretrained_resnet18, fine_tune_model, mnist_test)\n",
    "    \n",
    "    # the real threshold will be released by Oct 11 \n",
    "    assert test_accuracy > 0.75, 'your accuracy is too low...'\n",
    "    \n",
    "    return test_accuracy\n",
    "    \n",
    "frozen_test_accuracy = grade_mnist_frozen()"
   ]
  },
  {
   "cell_type": "code",
   "execution_count": 16,
   "metadata": {
    "colab": {
     "base_uri": "https://localhost:8080/",
     "height": 34
    },
    "colab_type": "code",
    "id": "DRTZAVZvdWj0",
    "outputId": "873f8f1a-967f-469a-ae90-681bb8852d80"
   },
   "outputs": [
    {
     "name": "stdout",
     "output_type": "stream",
     "text": [
      "0.7649999856948853\n"
     ]
    }
   ],
   "source": [
    "print(frozen_test_accuracy)"
   ]
  },
  {
   "cell_type": "markdown",
   "metadata": {
    "colab_type": "text",
    "id": "S3zMrXrfd0Cq"
   },
   "source": [
    "### load and envaluate the model"
   ]
  },
  {
   "cell_type": "code",
   "execution_count": 0,
   "metadata": {
    "colab": {},
    "colab_type": "code",
    "id": "zIIP0_zed1zs"
   },
   "outputs": [],
   "source": [
    "import matplotlib.pyplot as plt\n",
    "import numpy\n",
    "import pickle\n",
    "\n",
    "path_root = '/content/drive/My Drive/nlp3_save_model/'\n",
    "option_path = os.path.join(path_root,'plot_freeze.pkl')\n",
    "f = open(option_path, 'rb')\n",
    "loss_history_df = pickle.load(f)\n",
    "loss_history_df.plot(alpha=0.5)"
   ]
  },
  {
   "cell_type": "code",
   "execution_count": 0,
   "metadata": {
    "colab": {},
    "colab_type": "code",
    "id": "1NYnGjWKd-ny"
   },
   "outputs": [],
   "source": [
    "loss_history_df['train']"
   ]
  },
  {
   "cell_type": "code",
   "execution_count": 0,
   "metadata": {
    "colab": {},
    "colab_type": "code",
    "id": "EA_ijIzPd_Y6"
   },
   "outputs": [],
   "source": [
    "loss_history_df['val']"
   ]
  },
  {
   "cell_type": "code",
   "execution_count": 0,
   "metadata": {
    "colab": {},
    "colab_type": "code",
    "id": "oF8KLv6TeCJO"
   },
   "outputs": [],
   "source": [
    "fine_tune_model = init_fine_tune_model()\n",
    "fine_tune_model.to(current_device)\n",
    "pretrained_resnet18.to(current_device)\n",
    "    \n",
    "\n",
    "path_root = '/content/drive/My Drive/nlp3_save_model/'\n",
    "model_path = os.path.join(path_root,\"mnist_fine_tune_model_freeze.pth\") \n",
    "\n",
    "model_dict = torch.load(model_path)\n",
    "fine_tune_model.load_state_dict(model_dict)\n",
    "\n",
    "\n",
    "test_accuracy = calculate_mnist_test_accuracy(pretrained_resnet18, fine_tune_model, mnist_test)\n",
    "\n",
    "print(test_accuracy)"
   ]
  },
  {
   "cell_type": "markdown",
   "metadata": {
    "colab_type": "text",
    "id": "ExD3uJv8-IIh"
   },
   "source": [
    "### Part D (Fine-tune Unfrozen)\n",
    "Now we'll learn how to train using the \"unfrozen\" approach.\n",
    "\n",
    "In this approach we'll:\n",
    "1. keep the feature_extract frozen for a few epochs (10)\n",
    "2. Unfreeze it.\n",
    "3. Finish training"
   ]
  },
  {
   "cell_type": "code",
   "execution_count": 17,
   "metadata": {
    "colab": {
     "base_uri": "https://localhost:8080/",
     "height": 34
    },
    "colab_type": "code",
    "id": "tV5YfOvGeKDQ",
    "outputId": "aac84965-8cf4-422c-e76a-de32d269a7e6"
   },
   "outputs": [
    {
     "name": "stdout",
     "output_type": "stream",
     "text": [
      "<generator object Module.parameters at 0x7f84e05ae728>\n"
     ]
    }
   ],
   "source": [
    "print(pretrained_resnet18.parameters())"
   ]
  },
  {
   "cell_type": "code",
   "execution_count": 18,
   "metadata": {
    "colab": {
     "base_uri": "https://localhost:8080/",
     "height": 34
    },
    "colab_type": "code",
    "id": "2atSvX1heK1n",
    "outputId": "7585c44b-1040-4fcf-ab58-2b2002bcaa3d"
   },
   "outputs": [
    {
     "name": "stdout",
     "output_type": "stream",
     "text": [
      "<generator object Module.parameters at 0x7f84e05ae8e0>\n"
     ]
    }
   ],
   "source": [
    "print(fine_tune_model.parameters())"
   ]
  },
  {
   "cell_type": "code",
   "execution_count": 0,
   "metadata": {
    "colab": {},
    "colab_type": "code",
    "id": "RszQx-Am-IIh"
   },
   "outputs": [],
   "source": [
    "def UNFROZEN_fine_tune_mnist(feature_extractor, fine_tune_model, mnist_train, mnist_val):\n",
    "    \"\"\"\n",
    "    model is a feature extractor (resnet).\n",
    "    Create a new model which uses those features to finetune on MNIST\n",
    "    \n",
    "    return the fine_tune model\n",
    "    \"\"\"     \n",
    "    \n",
    "    \n",
    "    freeze_model(feature_extractor)\n",
    "    criterion =  torch.nn.CrossEntropyLoss()\n",
    "    optimizer = optim.Adam([{'params': feature_extractor.parameters()}, {'params': fine_tune_model.parameters()}], lr=0.001)\n",
    "    \n",
    "    train_loss_history = []\n",
    "    val_loss_history = []\n",
    "    # INSERT YOUR CODE: (train the fine_tune model using features extracted by feature_extractor)\n",
    "    N_EPOCHS = 30\n",
    "    for epoch in tqdm.trange(N_EPOCHS):\n",
    "      if epoch >= 10:\n",
    "        unfreeze_model(feature_extractor)\n",
    "        \n",
    "      train_loss = do_train(\n",
    "          feature_extractor = feature_extractor, \n",
    "          fine_tune_model = fine_tune_model,\n",
    "          criterion=criterion,\n",
    "          dataloader=mnist_train,\n",
    "          optimizer=optimizer,\n",
    "      )\n",
    "      val_loss, val_pred, val_true = do_eval(\n",
    "          feature_extractor = feature_extractor, \n",
    "          fine_tune_model = fine_tune_model,\n",
    "          criterion=criterion,\n",
    "          dataloader=mnist_val,\n",
    "      )\n",
    "      train_loss_history.append(train_loss)\n",
    "      val_loss_history.append(val_loss)\n",
    "\n",
    "    loss_history_df = pd.DataFrame({\n",
    "    \"train\": train_loss_history,\n",
    "    \"val\": val_loss_history,})\n",
    "    loss_history_df.plot(alpha=0.5)\n",
    "    \n",
    "    \n",
    "    path_root = '/content/drive/My Drive/nlp3_save_model/'\n",
    "    if not os.path.exists(path_root):\n",
    "      os.mkdir(path_root)\n",
    "    model_path = os.path.join(path_root,\"mnist_fine_tune_model_unfreeze.pth\")            \n",
    "    torch.save(fine_tune_model.state_dict(), model_path)  \n",
    "    \n",
    "    \n",
    "    model_path_2 = os.path.join(path_root,\"mnist_feature_extractor_unfreeze.pth\")            \n",
    "    torch.save(feature_extractor.state_dict(), model_path_2)  \n",
    "    \n",
    "    plot_path = os.path.join(path_root,\"plot_unfreeze.pkl\") \n",
    "    loss_history_df.to_pickle(plot_path)"
   ]
  },
  {
   "cell_type": "markdown",
   "metadata": {
    "colab_type": "text",
    "id": "89wbHGUL-IIl"
   },
   "source": [
    "### Grade UNFROZEN\n",
    "Let's see if there's a difference in accuracy!"
   ]
  },
  {
   "cell_type": "code",
   "execution_count": 20,
   "metadata": {
    "colab": {
     "base_uri": "https://localhost:8080/",
     "height": 282
    },
    "colab_type": "code",
    "id": "5DPjKB9A-IIm",
    "outputId": "48840ba2-7e43-46d0-b468-a0ca9a9e0e25"
   },
   "outputs": [
    {
     "name": "stderr",
     "output_type": "stream",
     "text": [
      "100%|██████████| 30/30 [46:59<00:00, 132.18s/it]\n"
     ]
    },
    {
     "data": {
      "image/png": "[encoded data removed]",
      "text/plain": [
       "<Figure size 432x288 with 1 Axes>"
      ]
     },
     "metadata": {
      "tags": []
     },
     "output_type": "display_data"
    }
   ],
   "source": [
    "def grade_mnist_unfrozen():\n",
    "    \n",
    "    # init a ft model\n",
    "    fine_tune_model = init_fine_tune_model()\n",
    "    fine_tune_model.to(current_device)\n",
    "    pretrained_resnet18.to(current_device)\n",
    "    \n",
    "    # run the transfer learning routine\n",
    "    UNFROZEN_fine_tune_mnist(pretrained_resnet18, fine_tune_model, mnist_train, mnist_val)\n",
    "    \n",
    "    # calculate test accuracy\n",
    "    test_accuracy = calculate_mnist_test_accuracy(pretrained_resnet18, fine_tune_model, mnist_test)\n",
    "    \n",
    "    # the real threshold will be released by Oct 11 \n",
    "    assert test_accuracy > 0.95, 'your accuracy is too low...'\n",
    "    \n",
    "    return test_accuracy\n",
    "    \n",
    "unfrozen_test_accuracy = grade_mnist_unfrozen()"
   ]
  },
  {
   "cell_type": "code",
   "execution_count": 21,
   "metadata": {
    "colab": {
     "base_uri": "https://localhost:8080/",
     "height": 34
    },
    "colab_type": "code",
    "id": "oiJo5ULreXQd",
    "outputId": "aa1745b9-a688-46de-9b4c-3707e730db36"
   },
   "outputs": [
    {
     "name": "stdout",
     "output_type": "stream",
     "text": [
      "0.9919999837875366\n"
     ]
    }
   ],
   "source": [
    "print(unfrozen_test_accuracy)"
   ]
  },
  {
   "cell_type": "code",
   "execution_count": 0,
   "metadata": {
    "colab": {},
    "colab_type": "code",
    "id": "dJx4cxpd-IIp"
   },
   "outputs": [],
   "source": [
    "assert unfrozen_test_accuracy > frozen_test_accuracy, 'the unfrozen model should be better'"
   ]
  },
  {
   "cell_type": "markdown",
   "metadata": {
    "colab_type": "text",
    "id": "l1Tf-ZsQef4J"
   },
   "source": [
    "#### load the model and plot"
   ]
  },
  {
   "cell_type": "code",
   "execution_count": 0,
   "metadata": {
    "colab": {},
    "colab_type": "code",
    "id": "bOIk4LyMefFW"
   },
   "outputs": [],
   "source": [
    "fine_tune_model = init_fine_tune_model()\n",
    "fine_tune_model.to(current_device)\n",
    "pretrained_resnet18.to(current_device)\n",
    "    \n",
    "  \n",
    "path_root = '/content/drive/My Drive/nlp3_save_model/'\n",
    "pretrained_resnet18.load_state_dict( torch.load(os.path.join(path_root,\"mnist_feature_extractor_unfreeze.pth\") ))\n",
    "model_path = os.path.join(path_root,\"mnist_fine_tune_model_unfreeze.pth\") \n",
    "model_dict = torch.load(model_path)\n",
    "fine_tune_model.load_state_dict(model_dict)\n",
    "\n",
    "\n",
    "test_accuracy = calculate_mnist_test_accuracy(pretrained_resnet18, fine_tune_model, mnist_test)\n",
    "\n",
    "print(test_accuracy)"
   ]
  },
  {
   "cell_type": "code",
   "execution_count": 0,
   "metadata": {
    "colab": {},
    "colab_type": "code",
    "id": "1C1iVGH4eoti"
   },
   "outputs": [],
   "source": [
    "import matplotlib.pyplot as plt\n",
    "import numpy\n",
    "import pickle\n",
    "\n",
    "path_root = '/content/drive/My Drive/nlp3_save_model/'\n",
    "option_path = os.path.join(path_root,'plot_unfreeze.pkl')\n",
    "f = open(option_path, 'rb')\n",
    "loss_history_df = pickle.load(f)\n",
    "loss_history_df.plot(alpha=0.5)"
   ]
  },
  {
   "cell_type": "markdown",
   "metadata": {
    "colab_type": "text",
    "id": "OvTJfAdO-IIr"
   },
   "source": [
    "--- \n",
    "# Question 2 (train a model on Wikitext-2)\n",
    "\n",
    "Here we'll apply what we just learned to NLP. In this section we'll make our own feature extractor and pretrain it on Wikitext-2.\n",
    "\n",
    "The WikiText language modeling dataset is a collection of over 100 million tokens extracted from the set of verified Good and Featured articles on Wikipedia. The dataset is available under the Creative Commons Attribution-ShareAlike License.\n",
    "\n",
    "#### Part A\n",
    "In this section you need to generate the training, validation and test split. Feel free to use code from your previous lectures."
   ]
  },
  {
   "cell_type": "code",
   "execution_count": 23,
   "metadata": {
    "colab": {
     "base_uri": "https://localhost:8080/",
     "height": 122
    },
    "colab_type": "code",
    "id": "4f0dXx1ZfdHq",
    "outputId": "0dec3402-ab57-4e00-9337-f95d985f7bcc"
   },
   "outputs": [
    {
     "name": "stdout",
     "output_type": "stream",
     "text": [
      "Collecting jsonlines\n",
      "  Downloading https://files.pythonhosted.org/packages/4f/9a/ab96291470e305504aa4b7a2e0ec132e930da89eb3ca7a82fbe03167c131/jsonlines-1.2.0-py2.py3-none-any.whl\n",
      "Requirement already satisfied: six in /usr/local/lib/python3.6/dist-packages (from jsonlines) (1.12.0)\n",
      "Installing collected packages: jsonlines\n",
      "Successfully installed jsonlines-1.2.0\n"
     ]
    }
   ],
   "source": [
    "!pip install jsonlines"
   ]
  },
  {
   "cell_type": "code",
   "execution_count": 0,
   "metadata": {
    "colab": {},
    "colab_type": "code",
    "id": "G05Aoavcfk4b"
   },
   "outputs": [],
   "source": [
    "import torch\n",
    "from torch.utils.data import Dataset\n",
    "from tqdm import tqdm\n",
    "import pickle\n",
    "import torch\n",
    "import torchvision.models as models\n",
    "import os\n",
    "from torchvision import transforms\n",
    "from torchvision.datasets import  MNIST\n",
    "from torch.utils.data import DataLoader, random_split\n",
    "import torch.nn.functional as F\n",
    "import json\n",
    "import jsonlines\n",
    "import numpy as np\n",
    "from collections import defaultdict\n",
    "from torch import nn\n",
    "import numpy"
   ]
  },
  {
   "cell_type": "code",
   "execution_count": 25,
   "metadata": {
    "colab": {
     "base_uri": "https://localhost:8080/",
     "height": 102
    },
    "colab_type": "code",
    "id": "98OfuzEYfpZW",
    "outputId": "26e68097-0470-44bb-9d30-c7c7cc89d9e9"
   },
   "outputs": [
    {
     "name": "stderr",
     "output_type": "stream",
     "text": [
      "100%|██████████| 78274/78274 [02:27<00:00, 529.33it/s]\n",
      "100%|██████████| 78274/78274 [00:01<00:00, 71173.51it/s]\n",
      "100%|██████████| 8464/8464 [00:00<00:00, 94541.93it/s]\n",
      "100%|██████████| 9708/9708 [00:00<00:00, 92685.68it/s]\n"
     ]
    },
    {
     "name": "stdout",
     "output_type": "stream",
     "text": [
      "Vocab size: 33178\n"
     ]
    }
   ],
   "source": [
    "import io\n",
    "def load_vectors(fname):\n",
    "    fin = io.open(fname, 'r', encoding='utf-8', newline='\\n', errors='ignore')\n",
    "    n, d = map(int, fin.readline().split())\n",
    "    embedding_size = 300\n",
    "    max_vocab_size = 35000\n",
    "    embedding_dict = np.random.randn(max_vocab_size+2, embedding_size)\n",
    "    all_train_tokens = []\n",
    "    i = 0\n",
    "    \n",
    "    for line in fin:\n",
    "        tokens = line.rstrip().split(' ')\n",
    "        all_train_tokens.append(tokens[0])\n",
    "        embedding_dict[i+2] = list(map(float, tokens[1:]))\n",
    "        i += 1\n",
    "        if i == max_vocab_size:\n",
    "            break\n",
    "            \n",
    "    return embedding_dict, all_train_tokens\n",
    "  \n",
    "# download the vectors yourself\n",
    "# fasttext_embedding_dict, all_fasttext_tokens = load_vectors('/content/drive/My Drive/wiki-news-300d-1M.vec')\n",
    "  \n",
    "class LMDataset(Dataset):\n",
    "    def __init__(self, list_of_token_lists):\n",
    "        self.input_tensors = []\n",
    "        self.target_tensors = []\n",
    "\n",
    "        for sample in list_of_token_lists:\n",
    "            self.input_tensors.append(torch.tensor([sample[:-1]], dtype=torch.long))\n",
    "            self.target_tensors.append(torch.tensor([sample[1:]], dtype=torch.long))\n",
    "\n",
    "    def __len__(self):\n",
    "        return len(self.input_tensors)\n",
    "\n",
    "    def __getitem__(self, idx):\n",
    "        return (self.input_tensors[idx], self.target_tensors[idx])\n",
    "\n",
    "\n",
    "def tokenize_dataset(datasets, dictionary):\n",
    "    tokenized_datasets = {}\n",
    "    for split, dataset in datasets.items():\n",
    "        _current_dictified = []\n",
    "        for l in tqdm(dataset):\n",
    "            l = ['<bos>'] + l + ['<eos>']\n",
    "            encoded_l = dictionary.encode_token_seq(l)\n",
    "            _current_dictified.append(encoded_l)\n",
    "        tokenized_datasets[split] = _current_dictified\n",
    "    return tokenized_datasets\n",
    "\n",
    "def tokenize_mnli_dataset(datasets, dictionary):\n",
    "    tokenized_datasets = {}\n",
    "    for split, dataset in datasets.items():\n",
    "        _current_dictified = []\n",
    "        for s1, s2 in tqdm(dataset):\n",
    "            s1 = ['<bos>'] + s1 + ['<eos>']\n",
    "            s2 = ['<bos>'] + s2 + ['<eos>']\n",
    "            encoded_s1 = dictionary.encode_token_seq(s1)            \n",
    "            encoded_s2 = dictionary.encode_token_seq(s2)\n",
    "            _current_dictified.append([encoded_s1, encoded_s2])\n",
    "        tokenized_datasets[split] = _current_dictified\n",
    "    return tokenized_datasets\n",
    "\n",
    "def pad_list_of_tensors(list_of_tensors, pad_token):\n",
    "    max_length = max([t.size(-1) for t in list_of_tensors])\n",
    "    padded_list = []\n",
    "    for t in list_of_tensors:\n",
    "        padded_tensor = torch.cat(\n",
    "            [t, torch.tensor([[pad_token] * (max_length - t.size(-1))], dtype=torch.long)], dim=-1)\n",
    "        padded_list.append(padded_tensor)\n",
    "\n",
    "    padded_tensor = torch.cat(padded_list, dim=0)\n",
    "    return padded_tensor\n",
    "\n",
    "\n",
    "def pad_collate_fn(pad_idx, batch):\n",
    "    input_list = [s[0] for s in batch]\n",
    "    target_list = [s[1] for s in batch]\n",
    "    input_tensor = pad_list_of_tensors(input_list, pad_idx)\n",
    "    target_tensor = pad_list_of_tensors(target_list, pad_idx)\n",
    "    return input_tensor, target_tensor\n",
    "\n",
    "\n",
    "def load_wikitext(data_dir):\n",
    "    import subprocess\n",
    "    filename = os.path.join(data_dir, 'wikitext2-sentencized.json')\n",
    "    if not os.path.exists(filename):\n",
    "        os.makedirs(data_dir, exist_ok=True)\n",
    "        url = \"https://nyu.box.com/shared/static/9kb7l7ci30hb6uahhbssjlq0kctr5ii4.json\"\n",
    "        args = ['wget', '-O', filename, url]\n",
    "        subprocess.call(args)\n",
    "    raw_datasets = json.load(open(filename, 'r'))\n",
    "    for name in raw_datasets:\n",
    "        raw_datasets[name] = [x.split() for x in raw_datasets[name]]\n",
    "\n",
    "    if os.path.exists(os.path.join(data_dir, 'vocab.pkl')):\n",
    "        vocab = pickle.load(open(os.path.join(data_dir, 'vocab.pkl'), 'rb'))\n",
    "    else:\n",
    "        vocab = Dictionary(raw_datasets, include_valid=False)\n",
    "        pickle.dump(vocab, open(os.path.join(data_dir, 'vocab.pkl'), 'wb'))\n",
    "\n",
    "    tokenized_datasets = tokenize_dataset(raw_datasets, vocab)\n",
    "    datasets = {name: LMDataset(ds) for name, ds in tokenized_datasets.items()}\n",
    "    print(\"Vocab size: %d\" % (len(vocab)))\n",
    "    return raw_datasets, datasets, vocab\n",
    "    \n",
    "\n",
    "\n",
    "class Dictionary(object):\n",
    "    def __init__(self, datasets, include_valid=False):\n",
    "        self.tokens = []\n",
    "        self.ids = {}\n",
    "        self.counts = {}\n",
    "        \n",
    "        # add special tokens\n",
    "        self.add_token('<bos>')\n",
    "        self.add_token('<eos>')\n",
    "        self.add_token('<pad>')\n",
    "        self.add_token('<unk>')\n",
    "        \n",
    "        for line in tqdm(datasets['train']):\n",
    "            for w in line:\n",
    "                self.add_token(w)\n",
    "                    \n",
    "        if include_valid is True:\n",
    "            for line in tqdm(datasets['valid']):\n",
    "                for w in line:\n",
    "                    self.add_token(w)\n",
    "                            \n",
    "    def add_token(self, w):\n",
    "        if w not in self.tokens:\n",
    "            self.tokens.append(w)\n",
    "            _w_id = len(self.tokens) - 1\n",
    "            self.ids[w] = _w_id\n",
    "            self.counts[w] = 1\n",
    "        else:\n",
    "            self.counts[w] += 1\n",
    "\n",
    "    def get_id(self, w):\n",
    "        return self.ids[w]\n",
    "    \n",
    "    def get_token(self, idx):\n",
    "        return self.tokens[idx]\n",
    "    \n",
    "    def decode_idx_seq(self, l):\n",
    "        return [self.tokens[i] for i in l]\n",
    "    \n",
    "    def encode_token_seq(self, l):\n",
    "        return [self.ids[i] if i in self.ids else self.ids['<unk>'] for i in l]\n",
    "    \n",
    "    def __len__(self):\n",
    "        return len(self.tokens)\n",
    "      \n",
    "\n",
    "raw_datasets, datasets, wiki_dict = load_wikitext(os.getcwd())"
   ]
  },
  {
   "cell_type": "code",
   "execution_count": 0,
   "metadata": {
    "colab": {},
    "colab_type": "code",
    "id": "YnZP68XHfqbD"
   },
   "outputs": [],
   "source": [
    "def init_wikitext_dataset():\n",
    "    data_loaders = {name: DataLoader(datasets[name], batch_size=32, shuffle=True,\n",
    "                                     collate_fn=lambda x: pad_collate_fn(wiki_dict.get_id('<pad>'), x))\n",
    "                    for name in datasets}\n",
    "    wk2_train_dataloader = data_loaders['train']\n",
    "    wk2_val_dataloader = data_loaders['valid']\n",
    "    wk2_test_dataloader = data_loaders['test']\n",
    "\n",
    "    return wk2_train_dataloader, wk2_val_dataloader, wk2_test_dataloader"
   ]
  },
  {
   "cell_type": "markdown",
   "metadata": {
    "colab_type": "text",
    "id": "JiSUs1J7-IIu"
   },
   "source": [
    "#### Part B   \n",
    "Here we design our own feature extractor. In MNIST that was a resnet because we were dealing with images. Now we need to pick a model that can model sequences better. Design an RNN-based model here."
   ]
  },
  {
   "cell_type": "code",
   "execution_count": 0,
   "metadata": {
    "colab": {},
    "colab_type": "code",
    "id": "MzLzU-1h-IIw"
   },
   "outputs": [],
   "source": [
    "import os \n",
    "\n",
    "if not os.path.exists('/content/drive/My Drive/nlp3_save_model'):\n",
    "  os.mkdir('/content/drive/My Drive/nlp3_save_model')"
   ]
  },
  {
   "cell_type": "code",
   "execution_count": 0,
   "metadata": {
    "colab": {},
    "colab_type": "code",
    "id": "XMc8_V16f0KI"
   },
   "outputs": [],
   "source": [
    "import torch.nn as nn\n",
    "\n",
    "class LSTMLanguageModel(nn.Module):\n",
    "    \"\"\"\n",
    "    This model combines embedding, rnn and projection layer into a single model\n",
    "    \"\"\"\n",
    "    def __init__(self, options):\n",
    "        super().__init__()\n",
    "        \n",
    "        # create each LM part here \n",
    "        self.lookup = nn.Embedding(num_embeddings=options['num_embeddings'], embedding_dim=options['embedding_dim'], padding_idx=options['padding_idx'])\n",
    "        self.LSTM = nn.LSTM(options['input_size'], options['hidden_size'], options['num_layers'], dropout=options['rnn_dropout'], batch_first=True)\n",
    "        self.projection = nn.Linear(options['hidden_size'], options['num_embeddings'])\n",
    "        \n",
    "    def forward(self, encoded_input_sequence):\n",
    "        \"\"\"\n",
    "        Forward method process the input from token ids to logits\n",
    "        \"\"\"\n",
    "        embeddings = self.lookup(encoded_input_sequence)\n",
    "        rnn_outputs = self.LSTM(embeddings)\n",
    "        logits = self.projection(rnn_outputs[0]) # last dimension len(wiki_dict)\n",
    "        \n",
    "        return logits"
   ]
  },
  {
   "cell_type": "code",
   "execution_count": 0,
   "metadata": {
    "colab": {},
    "colab_type": "code",
    "id": "rOin_tizf3kQ"
   },
   "outputs": [],
   "source": [
    "import torch\n",
    "import torch.nn as nn\n",
    "import torch.optim as optim\n",
    "import pickle\n",
    "import os\n",
    "\n",
    "# creating a LSTM model, criterion and optimizer\n",
    "\n",
    "num_gpus = torch.cuda.device_count()\n",
    "if num_gpus > 0:\n",
    "    current_device = 'cuda'\n",
    "else:\n",
    "    current_device = 'cpu'\n",
    "    \n",
    "\n",
    "embedding_size = 256\n",
    "hidden_size = 512\n",
    "num_layers = 3\n",
    "rnn_dropout = 0.4\n",
    "    \n",
    "model_predix = model_predix = '1022_LSTM_'+'dim_'+str(embedding_size)+'_hidden_size_'+str(hidden_size)+'_rnn_dropout_'+str(rnn_dropout)+ '_num_layers_' + str(num_layers)\n",
    "path_root = '/content/drive/My Drive/nlp3_save_model/' + model_predix\n",
    "\n",
    "if not os.path.exists(path_root):\n",
    "    os.mkdir(path_root)\n",
    "    \n",
    "options = {\n",
    "    'num_embeddings': len(wiki_dict),\n",
    "    'embedding_dim': embedding_size,\n",
    "    'padding_idx': wiki_dict.get_id('<pad>'),\n",
    "    'input_size': embedding_size,\n",
    "    'hidden_size': hidden_size,\n",
    "    'num_layers': num_layers,\n",
    "    'rnn_dropout': rnn_dropout,\n",
    "}\n",
    "    \n",
    "model_para = options\n",
    "    \n",
    "with open(os.path.join(path_root,'options.pickle'), 'wb') as handle:\n",
    "    pickle.dump(model_para, handle, protocol=pickle.HIGHEST_PROTOCOL)"
   ]
  },
  {
   "cell_type": "code",
   "execution_count": 0,
   "metadata": {
    "colab": {},
    "colab_type": "code",
    "id": "DwLHdeOQf6XX"
   },
   "outputs": [],
   "source": [
    "def init_feature_extractor():\n",
    "    \n",
    "    feature_extractor = LSTMLanguageModel(options).to(current_device)\n",
    "\n",
    "    return feature_extractor"
   ]
  },
  {
   "cell_type": "markdown",
   "metadata": {
    "colab_type": "text",
    "id": "DANpgxFY-IIy"
   },
   "source": [
    "#### Part C\n",
    "Pretrain the feature extractor"
   ]
  },
  {
   "cell_type": "code",
   "execution_count": 0,
   "metadata": {
    "colab": {},
    "colab_type": "code",
    "id": "ApSSgyUs-IIz"
   },
   "outputs": [],
   "source": [
    "load_pretrained = True\n",
    "epoch_best = []"
   ]
  },
  {
   "cell_type": "code",
   "execution_count": 0,
   "metadata": {
    "colab": {},
    "colab_type": "code",
    "id": "4X2emV9tgAqX"
   },
   "outputs": [],
   "source": [
    "def fit_feature_extractor(feature_extractor, wikitext_train, wikitext_val):\n",
    "    global best_epoch\n",
    "    \n",
    "    # One epoch of a train/val loop\n",
    "    def train_epoch(epoch):\n",
    "      \n",
    "        # do train\n",
    "        feature_extractor.train()\n",
    "        train_loss_cache = 0\n",
    "        train_non_pad_tokens_cache = 0\n",
    "        for i, (inp, target) in enumerate(wikitext_train):\n",
    "            optimizer.zero_grad()\n",
    "            inp = inp.to(current_device)\n",
    "            target = target.to(current_device)\n",
    "            logits = feature_extractor(inp)\n",
    "            \n",
    "            loss = criterion_train(logits.view(-1, logits.size(-1)), target.view(-1))\n",
    "            train_loss_cache += loss.item()\n",
    "            non_pad_tokens = target.view(-1).ne(wiki_dict.get_id('<pad>')).sum().item()\n",
    "            train_non_pad_tokens_cache += non_pad_tokens\n",
    "            loss /= non_pad_tokens \n",
    "            \n",
    "            loss.backward()\n",
    "            optimizer.step()\n",
    "\n",
    "        avg_train_loss = train_loss_cache / train_non_pad_tokens_cache\n",
    "        print('Train loss after {} epoch = {:.{prec}f}'.format(epoch, avg_train_loss, prec=4))\n",
    "        \n",
    "                \n",
    "        model_path = os.path.join(path_root,'lstm'+ str(epoch)+\".pth\")            \n",
    "        torch.save(feature_extractor.state_dict(), model_path)   \n",
    "                         \n",
    "           \n",
    "            \n",
    "        # do valid\n",
    "        feature_extractor.eval()\n",
    "        valid_loss_cache = 0\n",
    "        valid_non_pad_tokens_cache = 0\n",
    "        with torch.no_grad():\n",
    "            for i, (inp, target) in enumerate(wikitext_val):\n",
    "                inp = inp.to(current_device)\n",
    "                target = target.to(current_device)\n",
    "                logits = feature_extractor(inp)\n",
    "\n",
    "                loss = criterion_val(logits.view(-1, logits.size(-1)), target.view(-1))\n",
    "            \n",
    "            \n",
    "                valid_loss_cache += loss.item()\n",
    "                non_pad_tokens = target.view(-1).ne(wiki_dict.get_id('<pad>')).sum().item()  \n",
    "                valid_non_pad_tokens_cache += non_pad_tokens  \n",
    "              \n",
    "            avg_val_loss = valid_loss_cache / valid_non_pad_tokens_cache\n",
    "            print('Validation loss after {} epoch = {:.{prec}f}'.format(epoch, avg_val_loss, prec=4))\n",
    "        \n",
    "        return avg_val_loss\n",
    "\n",
    "  \n",
    "    # Train!\n",
    "    criterion_train = nn.CrossEntropyLoss(ignore_index = wiki_dict.get_id('<pad>'), reduction = 'sum')\n",
    "    criterion_val = nn.CrossEntropyLoss(ignore_index = wiki_dict.get_id('<pad>'), reduction = 'sum')\n",
    "    model_parameters = [p for p in feature_extractor.parameters() if p.requires_grad]\n",
    "    optimizer = optim.SGD(model_parameters, lr = 0.001, momentum = 0.999)\n",
    "    \n",
    "    \n",
    "    # Pick up best model based on validation loss\n",
    "    if load_pretrained:\n",
    "        epoch_best.append(37)\n",
    "    else:\n",
    "        val_loss = []\n",
    "        n_epochs = 50\n",
    "        for epoch in range(1, n_epochs + 1):\n",
    "            val_loss.append(train_epoch(epoch))\n",
    "\n",
    "        epoch_best.append(val_loss.index(min(val_loss)) + 1)\n",
    "        print('The epoch with smallest validation loss is {}.'.format(epoch_best))    "
   ]
  },
  {
   "cell_type": "markdown",
   "metadata": {
    "colab_type": "text",
    "id": "vjXaotRg-II1"
   },
   "source": [
    "#### Part D\n",
    "Calculate the test perplexity on wikitext2. Feel free to recycle code from previous assignments from this class. "
   ]
  },
  {
   "cell_type": "code",
   "execution_count": 0,
   "metadata": {
    "colab": {},
    "colab_type": "code",
    "id": "2VjkVZqy-II2"
   },
   "outputs": [],
   "source": [
    "import numpy\n",
    "\n",
    "def calculate_wiki2_test_perplexity(feature_extractor, wikitext_test):\n",
    "    \n",
    "    feature_extractor_name = 'lstm' + str(epoch_best[0])+'.pth'\n",
    "    feature_extractor_path = os.path.join(path_root, feature_extractor_name)\n",
    "    if not os.path.exists(feature_extractor_path):\n",
    "        raise EOFError('Download pretrained model!')\n",
    "    feature_extractor_dict = torch.load(feature_extractor_path)\n",
    "    feature_extractor.load_state_dict(feature_extractor_dict)\n",
    "    criterion_val = nn.CrossEntropyLoss(ignore_index = wiki_dict.get_id('<pad>'), reduction = 'sum')\n",
    "  \n",
    "    feature_extractor.eval()\n",
    "    test_loss_cache = 0\n",
    "    test_non_pad_tokens_cache = 0\n",
    "    with torch.no_grad():\n",
    "        for i, (inp, target) in enumerate(wikitext_test):\n",
    "            inp = inp.to(current_device)\n",
    "            target = target.to(current_device)\n",
    "            logits = feature_extractor(inp)\n",
    "\n",
    "            loss = criterion_val(logits.view(-1, logits.size(-1)), target.view(-1))\n",
    "            \n",
    "            \n",
    "            test_loss_cache += loss.item()\n",
    "            non_pad_tokens = target.view(-1).ne(wiki_dict.get_id('<pad>')).sum().item()  \n",
    "            test_non_pad_tokens_cache += non_pad_tokens  \n",
    "              \n",
    "        avg_test_loss = test_loss_cache / test_non_pad_tokens_cache\n",
    "        \n",
    "    test_ppl = 2**(avg_test_loss/numpy.log(2))\n",
    "    print('Test perplexity is {}.'.format(test_ppl))\n",
    "    \n",
    "    return test_ppl"
   ]
  },
  {
   "cell_type": "markdown",
   "metadata": {
    "colab_type": "text",
    "id": "p6Y3Zhbb-II6"
   },
   "source": [
    "#### Let's grade your results!\n",
    "(don't touch this part)"
   ]
  },
  {
   "cell_type": "code",
   "execution_count": 34,
   "metadata": {
    "colab": {
     "base_uri": "https://localhost:8080/",
     "height": 34
    },
    "colab_type": "code",
    "id": "kKhLbOe_-II7",
    "outputId": "e4c3b096-bf44-45ac-b8ba-891eae100592"
   },
   "outputs": [
    {
     "name": "stdout",
     "output_type": "stream",
     "text": [
      "Test perplexity is 141.42352807793384.\n"
     ]
    }
   ],
   "source": [
    "def grade_wikitext2():\n",
    "    # load data\n",
    "    wikitext_train, wikitext_val, wikitext_test = init_wikitext_dataset()\n",
    "\n",
    "    # load feature extractor\n",
    "    feature_extractor = init_feature_extractor()\n",
    "\n",
    "    # pretrain using the feature extractor\n",
    "    fit_feature_extractor(feature_extractor, wikitext_train, wikitext_val)\n",
    "\n",
    "    # check test accuracy\n",
    "    test_ppl = calculate_wiki2_test_perplexity(feature_extractor, wikitext_test)\n",
    "\n",
    "    # the real threshold will be released by Oct 11 \n",
    "    assert test_ppl < 200, 'ummm... your perplexity is too high...'\n",
    "    \n",
    "grade_wikitext2()"
   ]
  },
  {
   "cell_type": "markdown",
   "metadata": {
    "colab_type": "text",
    "id": "AN6FT0S_-II9"
   },
   "source": [
    "---   \n",
    "## Question 3 (fine-tune on MNLI)\n",
    "In this question you will use your feature_extractor from question 2\n",
    "to fine-tune on MNLI.\n",
    "\n",
    "(From the website):\n",
    "The Multi-Genre Natural Language Inference (MultiNLI) corpus is a crowd-sourced collection of 433k sentence pairs annotated with textual entailment information. The corpus is modeled on the SNLI corpus, but differs in that covers a range of genres of spoken and written text, and supports a distinctive cross-genre generalization evaluation. The corpus served as the basis for the shared task of the RepEval 2017 Workshop at EMNLP in Copenhagen.\n",
    "\n",
    "MNLI has 3 genres (3 classes).\n",
    "The goal of this question is to maximize the test accuracy in MNLI. "
   ]
  },
  {
   "cell_type": "markdown",
   "metadata": {
    "colab_type": "text",
    "id": "U3o-8As_-IJW"
   },
   "source": [
    "---  \n",
    "# Question 4 (BERT)\n",
    "\n",
    "A major direction in research came from a model called BERT, released last year.  \n",
    "\n",
    "In this question you'll use BERT as your feature_extractor instead of the model you\n",
    "designed yourself.\n",
    "\n",
    "To get BERT, head on over to (https://github.com/huggingface/transformers) and load your BERT model here"
   ]
  },
  {
   "cell_type": "code",
   "execution_count": 35,
   "metadata": {
    "colab": {
     "base_uri": "https://localhost:8080/",
     "height": 683
    },
    "colab_type": "code",
    "id": "pvOG40S9-IJX",
    "outputId": "ef2ca586-2e76-4aca-bc8e-1f5658140072"
   },
   "outputs": [
    {
     "name": "stdout",
     "output_type": "stream",
     "text": [
      "Collecting transformers\n",
      "\u001b[?25l  Downloading https://files.pythonhosted.org/packages/fd/f9/51824e40f0a23a49eab4fcaa45c1c797cbf9761adedd0b558dab7c958b34/transformers-2.1.1-py3-none-any.whl (311kB)\n",
      "\u001b[K     |████████████████████████████████| 317kB 3.4MB/s \n",
      "\u001b[?25hRequirement already satisfied: numpy in /usr/local/lib/python3.6/dist-packages (from transformers) (1.17.3)\n",
      "Collecting sentencepiece\n",
      "\u001b[?25l  Downloading https://files.pythonhosted.org/packages/14/3d/efb655a670b98f62ec32d66954e1109f403db4d937c50d779a75b9763a29/sentencepiece-0.1.83-cp36-cp36m-manylinux1_x86_64.whl (1.0MB)\n",
      "\u001b[K     |████████████████████████████████| 1.0MB 45.6MB/s \n",
      "\u001b[?25hRequirement already satisfied: tqdm in /usr/local/lib/python3.6/dist-packages (from transformers) (4.28.1)\n",
      "Collecting sacremoses\n",
      "\u001b[?25l  Downloading https://files.pythonhosted.org/packages/1f/8e/ed5364a06a9ba720fddd9820155cc57300d28f5f43a6fd7b7e817177e642/sacremoses-0.0.35.tar.gz (859kB)\n",
      "\u001b[K     |████████████████████████████████| 860kB 37.9MB/s \n",
      "\u001b[?25hRequirement already satisfied: boto3 in /usr/local/lib/python3.6/dist-packages (from transformers) (1.10.2)\n",
      "Collecting regex\n",
      "\u001b[?25l  Downloading https://files.pythonhosted.org/packages/6f/a6/99eeb5904ab763db87af4bd71d9b1dfdd9792681240657a4c0a599c10a81/regex-2019.08.19.tar.gz (654kB)\n",
      "\u001b[K     |████████████████████████████████| 655kB 40.5MB/s \n",
      "\u001b[?25hRequirement already satisfied: requests in /usr/local/lib/python3.6/dist-packages (from transformers) (2.21.0)\n",
      "Requirement already satisfied: six in /usr/local/lib/python3.6/dist-packages (from sacremoses->transformers) (1.12.0)\n",
      "Requirement already satisfied: click in /usr/local/lib/python3.6/dist-packages (from sacremoses->transformers) (7.0)\n",
      "Requirement already satisfied: joblib in /usr/local/lib/python3.6/dist-packages (from sacremoses->transformers) (0.14.0)\n",
      "Requirement already satisfied: jmespath<1.0.0,>=0.7.1 in /usr/local/lib/python3.6/dist-packages (from boto3->transformers) (0.9.4)\n",
      "Requirement already satisfied: s3transfer<0.3.0,>=0.2.0 in /usr/local/lib/python3.6/dist-packages (from boto3->transformers) (0.2.1)\n",
      "Requirement already satisfied: botocore<1.14.0,>=1.13.2 in /usr/local/lib/python3.6/dist-packages (from boto3->transformers) (1.13.2)\n",
      "Requirement already satisfied: urllib3<1.25,>=1.21.1 in /usr/local/lib/python3.6/dist-packages (from requests->transformers) (1.24.3)\n",
      "Requirement already satisfied: idna<2.9,>=2.5 in /usr/local/lib/python3.6/dist-packages (from requests->transformers) (2.8)\n",
      "Requirement already satisfied: chardet<3.1.0,>=3.0.2 in /usr/local/lib/python3.6/dist-packages (from requests->transformers) (3.0.4)\n",
      "Requirement already satisfied: certifi>=2017.4.17 in /usr/local/lib/python3.6/dist-packages (from requests->transformers) (2019.9.11)\n",
      "Requirement already satisfied: docutils<0.16,>=0.10 in /usr/local/lib/python3.6/dist-packages (from botocore<1.14.0,>=1.13.2->boto3->transformers) (0.15.2)\n",
      "Requirement already satisfied: python-dateutil<3.0.0,>=2.1; python_version >= \"2.7\" in /usr/local/lib/python3.6/dist-packages (from botocore<1.14.0,>=1.13.2->boto3->transformers) (2.6.1)\n",
      "Building wheels for collected packages: sacremoses, regex\n",
      "  Building wheel for sacremoses (setup.py) ... \u001b[?25l\u001b[?25hdone\n",
      "  Created wheel for sacremoses: filename=sacremoses-0.0.35-cp36-none-any.whl size=883999 sha256=a3f6d0a32ae47f67856c75ba4c9479cc0cc212a46738635addd72f88f749e08e\n",
      "  Stored in directory: /root/.cache/pip/wheels/63/2a/db/63e2909042c634ef551d0d9ac825b2b0b32dede4a6d87ddc94\n",
      "  Building wheel for regex (setup.py) ... \u001b[?25l\u001b[?25hdone\n",
      "  Created wheel for regex: filename=regex-2019.8.19-cp36-cp36m-linux_x86_64.whl size=609229 sha256=e0f4cf1f14bb7c868537c6359b7c76a86ba491b5d9d4b710b443c5f88c906a00\n",
      "  Stored in directory: /root/.cache/pip/wheels/90/04/07/b5010fb816721eb3d6dd64ed5cc8111ca23f97fdab8619b5be\n",
      "Successfully built sacremoses regex\n",
      "Installing collected packages: sentencepiece, sacremoses, regex, transformers\n",
      "Successfully installed regex-2019.8.19 sacremoses-0.0.35 sentencepiece-0.1.83 transformers-2.1.1\n"
     ]
    }
   ],
   "source": [
    "!pip install transformers\n"
   ]
  },
  {
   "cell_type": "markdown",
   "metadata": {
    "colab_type": "text",
    "id": "P0qr7kcUjHXy"
   },
   "source": [
    "## Preparation: MNLI DataLoader"
   ]
  },
  {
   "cell_type": "code",
   "execution_count": 37,
   "metadata": {
    "colab": {
     "base_uri": "https://localhost:8080/",
     "height": 131
    },
    "colab_type": "code",
    "id": "mlIA06MkjP2T",
    "outputId": "81f8f2ef-364a-47a9-af94-39163388b747"
   },
   "outputs": [
    {
     "data": {
      "text/html": [
       "<p style=\"color: red;\">\n",
       "The default version of TensorFlow in Colab will soon switch to TensorFlow 2.x.<br>\n",
       "We recommend you <a href=\"https://www.tensorflow.org/guide/migrate\" target=\"_blank\">upgrade</a> now \n",
       "or ensure your notebook will continue to use TensorFlow 1.x via the <code>%tensorflow_version 1.x</code> magic:\n",
       "<a href=\"https://colab.research.google.com/notebooks/tensorflow_version.ipynb\" target=\"_blank\">more info</a>.</p>\n"
      ],
      "text/plain": [
       "<IPython.core.display.HTML object>"
      ]
     },
     "metadata": {
      "tags": []
     },
     "output_type": "display_data"
    },
    {
     "name": "stderr",
     "output_type": "stream",
     "text": [
      "100%|██████████| 213450/213450 [00:00<00:00, 2472900.86B/s]\n",
      "100%|██████████| 313/313 [00:00<00:00, 61960.41B/s]\n",
      "100%|██████████| 435779157/435779157 [00:09<00:00, 47357338.92B/s]\n"
     ]
    }
   ],
   "source": [
    "from transformers.data.processors.glue import MnliProcessor\n",
    "import torch\n",
    "import pandas as pd\n",
    "import os\n",
    "import sys\n",
    "import shutil\n",
    "import argparse\n",
    "import tempfile\n",
    "import urllib.request\n",
    "import zipfile\n",
    "from transformers import glue_convert_examples_to_features as convert_examples_to_features\n",
    "from transformers import BertTokenizer\n",
    "from torch.utils.data import TensorDataset, RandomSampler, DataLoader\n",
    "\n",
    "\n",
    "from transformers import (\n",
    "    BertModel,\n",
    "    BertTokenizer\n",
    ")\n",
    "\n",
    "tokenizer = BertTokenizer.from_pretrained('bert-base-cased')\n",
    "bert = BertModel.from_pretrained('bert-base-cased', output_attentions=True)"
   ]
  },
  {
   "cell_type": "code",
   "execution_count": 0,
   "metadata": {
    "colab": {},
    "colab_type": "code",
    "id": "KNDbxAjNjUzm"
   },
   "outputs": [],
   "source": [
    "TASKS = [\"CoLA\", \"SST\", \"MRPC\", \"QQP\", \"STS\", \"MNLI\", \"SNLI\", \"QNLI\", \"RTE\", \"WNLI\", \"diagnostic\"]\n",
    "TASK2PATH = {\n",
    "    \"CoLA\": \"https://firebasestorage.googleapis.com/v0/b/mtl-sentence-representations.appspot.com/o/data%2FCoLA.zip?alt=media&token=46d5e637-3411-4188-bc44-5809b5bfb5f4\",  # noqa\n",
    "    \"SST\": \"https://firebasestorage.googleapis.com/v0/b/mtl-sentence-representations.appspot.com/o/data%2FSST-2.zip?alt=media&token=aabc5f6b-e466-44a2-b9b4-cf6337f84ac8\",  # noqa\n",
    "    \"MRPC\": \"https://firebasestorage.googleapis.com/v0/b/mtl-sentence-representations.appspot.com/o/data%2Fmrpc_dev_ids.tsv?alt=media&token=ec5c0836-31d5-48f4-b431-7480817f1adc\",  # noqa\n",
    "    \"QQP\": \"https://firebasestorage.googleapis.com/v0/b/mtl-sentence-representations.appspot.com/o/data%2FQQP-clean.zip?alt=media&token=11a647cb-ecd3-49c9-9d31-79f8ca8fe277\",  # noqa\n",
    "    \"STS\": \"https://firebasestorage.googleapis.com/v0/b/mtl-sentence-representations.appspot.com/o/data%2FSTS-B.zip?alt=media&token=bddb94a7-8706-4e0d-a694-1109e12273b5\",  # noqa\n",
    "    \"MNLI\": \"https://firebasestorage.googleapis.com/v0/b/mtl-sentence-representations.appspot.com/o/data%2FMNLI.zip?alt=media&token=50329ea1-e339-40e2-809c-10c40afff3ce\",  # noqa\n",
    "    \"SNLI\": \"https://firebasestorage.googleapis.com/v0/b/mtl-sentence-representations.appspot.com/o/data%2FSNLI.zip?alt=media&token=4afcfbb2-ff0c-4b2d-a09a-dbf07926f4df\",  # noqa\n",
    "    \"QNLI\": \"https://firebasestorage.googleapis.com/v0/b/mtl-sentence-representations.appspot.com/o/data%2FQNLIv2.zip?alt=media&token=6fdcf570-0fc5-4631-8456-9505272d1601\",  # noqa\n",
    "    \"RTE\": \"https://firebasestorage.googleapis.com/v0/b/mtl-sentence-representations.appspot.com/o/data%2FRTE.zip?alt=media&token=5efa7e85-a0bb-4f19-8ea2-9e1840f077fb\",  # noqa\n",
    "    \"WNLI\": \"https://firebasestorage.googleapis.com/v0/b/mtl-sentence-representations.appspot.com/o/data%2FWNLI.zip?alt=media&token=068ad0a0-ded7-4bd7-99a5-5e00222e0faf\",  # noqa\n",
    "    \"diagnostic\": [\n",
    "        \"https://storage.googleapis.com/mtl-sentence-representations.appspot.com/tsvsWithoutLabels%2FAX.tsv?GoogleAccessId=firebase-adminsdk-0khhl@mtl-sentence-representations.iam.gserviceaccount.com&Expires=2498860800&Signature=DuQ2CSPt2Yfre0C%2BiISrVYrIFaZH1Lc7hBVZDD4ZyR7fZYOMNOUGpi8QxBmTNOrNPjR3z1cggo7WXFfrgECP6FBJSsURv8Ybrue8Ypt%2FTPxbuJ0Xc2FhDi%2BarnecCBFO77RSbfuz%2Bs95hRrYhTnByqu3U%2FYZPaj3tZt5QdfpH2IUROY8LiBXoXS46LE%2FgOQc%2FKN%2BA9SoscRDYsnxHfG0IjXGwHN%2Bf88q6hOmAxeNPx6moDulUF6XMUAaXCSFU%2BnRO2RDL9CapWxj%2BDl7syNyHhB7987hZ80B%2FwFkQ3MEs8auvt5XW1%2Bd4aCU7ytgM69r8JDCwibfhZxpaa4gd50QXQ%3D%3D\",  # noqa\n",
    "        \"https://www.dropbox.com/s/ju7d95ifb072q9f/diagnostic-full.tsv?dl=1\",\n",
    "    ],\n",
    "}\n",
    "\n",
    "MRPC_TRAIN = \"https://dl.fbaipublicfiles.com/senteval/senteval_data/msr_paraphrase_train.txt\"\n",
    "MRPC_TEST = \"https://dl.fbaipublicfiles.com/senteval/senteval_data/msr_paraphrase_test.txt\"\n",
    "\n",
    "\n",
    "def download_and_extract(task, data_dir):\n",
    "    print(\"Downloading and extracting %s...\" % task)\n",
    "    data_file = \"%s.zip\" % task\n",
    "    urllib.request.urlretrieve(TASK2PATH[task], data_file)\n",
    "    with zipfile.ZipFile(data_file) as zip_ref:\n",
    "        zip_ref.extractall(data_dir)\n",
    "    os.remove(data_file)\n",
    "    print(\"\\tCompleted!\")\n",
    "\n"
   ]
  },
  {
   "cell_type": "code",
   "execution_count": 39,
   "metadata": {
    "colab": {
     "base_uri": "https://localhost:8080/",
     "height": 51
    },
    "colab_type": "code",
    "id": "nJIhAXECjYqV",
    "outputId": "ab0f5229-c8a0-4a87-fedb-5eb894e14c4b"
   },
   "outputs": [
    {
     "name": "stdout",
     "output_type": "stream",
     "text": [
      "Downloading and extracting MNLI...\n",
      "\tCompleted!\n"
     ]
    }
   ],
   "source": [
    "download_and_extract('MNLI', '.')\n"
   ]
  },
  {
   "cell_type": "code",
   "execution_count": 0,
   "metadata": {
    "colab": {},
    "colab_type": "code",
    "id": "Yzv1hN1Cjcom"
   },
   "outputs": [],
   "source": [
    "processor = MnliProcessor()\n"
   ]
  },
  {
   "cell_type": "code",
   "execution_count": 0,
   "metadata": {
    "colab": {},
    "colab_type": "code",
    "id": "uBG5uXVdje5U"
   },
   "outputs": [],
   "source": [
    "from torch.utils.data import DataLoader, random_split\n",
    "def generate_mnli_bert_dataloaders():\n",
    "  # ----------------------\n",
    "  # TRAIN/VAL DATALOADERS\n",
    "  # ----------------------\n",
    "  train = processor.get_train_examples('MNLI')\n",
    "  features = convert_examples_to_features(train,\n",
    "                                          tokenizer,\n",
    "                                          label_list=['contradiction','neutral','entailment'],\n",
    "                                          max_length=128,\n",
    "                                          output_mode='classification',\n",
    "                                          pad_on_left=False,\n",
    "                                          pad_token=tokenizer.pad_token_id,\n",
    "                                          pad_token_segment_id=0)\n",
    "  train_dataset = TensorDataset(torch.tensor([f.input_ids for f in features], dtype=torch.long), \n",
    "                                torch.tensor([f.attention_mask for f in features], dtype=torch.long), \n",
    "                                torch.tensor([f.token_type_ids for f in features], dtype=torch.long), \n",
    "                                torch.tensor([f.label for f in features], dtype=torch.long))\n",
    "\n",
    "  nb_train_samples = int(0.95 * len(train_dataset))\n",
    "  nb_val_samples = len(train_dataset) - nb_train_samples\n",
    "\n",
    "  bert_mnli_train_dataset, bert_mnli_val_dataset = random_split(train_dataset, [nb_train_samples, nb_val_samples])\n",
    "\n",
    "  # train loader\n",
    "  train_sampler = RandomSampler(bert_mnli_train_dataset)\n",
    "  bert_mnli_train_dataloader = DataLoader(bert_mnli_train_dataset, sampler=train_sampler, batch_size=64)\n",
    "\n",
    "  # val loader\n",
    "  val_sampler = RandomSampler(bert_mnli_val_dataset)\n",
    "  bert_mnli_val_dataloader = DataLoader(bert_mnli_val_dataset, sampler=val_sampler, batch_size=64)\n",
    "\n",
    "\n",
    "  # ----------------------\n",
    "  # TEST DATALOADERS\n",
    "  # ----------------------\n",
    "  dev = processor.get_dev_examples('MNLI')\n",
    "  features = convert_examples_to_features(dev,\n",
    "                                          tokenizer,\n",
    "                                          label_list=['contradiction','neutral','entailment'],\n",
    "                                          max_length=128,\n",
    "                                          output_mode='classification',\n",
    "                                          pad_on_left=False,\n",
    "                                          pad_token=tokenizer.pad_token_id,\n",
    "                                          pad_token_segment_id=0)\n",
    "\n",
    "  bert_mnli_test_dataset = TensorDataset(torch.tensor([f.input_ids for f in features], dtype=torch.long), \n",
    "                                torch.tensor([f.attention_mask for f in features], dtype=torch.long), \n",
    "                                torch.tensor([f.token_type_ids for f in features], dtype=torch.long), \n",
    "                                torch.tensor([f.label for f in features], dtype=torch.long))\n",
    "\n",
    "  # test dataset\n",
    "  test_sampler = RandomSampler(bert_mnli_test_dataset)\n",
    "  bert_mnli_test_dataloader = DataLoader(bert_mnli_test_dataset, sampler=test_sampler, batch_size=64)\n",
    "  \n",
    "  return bert_mnli_train_dataloader, bert_mnli_val_dataloader, bert_mnli_test_dataloader"
   ]
  },
  {
   "cell_type": "code",
   "execution_count": 0,
   "metadata": {
    "colab": {},
    "colab_type": "code",
    "id": "BfdPvjVqjhnK"
   },
   "outputs": [],
   "source": [
    "bert_mnli_train_dataloader, bert_mnli_val_dataloader, bert_mnli_test_dataloader = generate_mnli_bert_dataloaders()\n"
   ]
  },
  {
   "cell_type": "code",
   "execution_count": 43,
   "metadata": {
    "colab": {
     "base_uri": "https://localhost:8080/",
     "height": 85
    },
    "colab_type": "code",
    "id": "WaBObru2jkOn",
    "outputId": "74281c6b-0488-4828-e836-8f8f97d51fb0"
   },
   "outputs": [
    {
     "name": "stdout",
     "output_type": "stream",
     "text": [
      "MNLI dataset statistics\n",
      "training samples:5830\n",
      "val samples:307\n",
      "test samples:154\n"
     ]
    }
   ],
   "source": [
    "print('MNLI dataset statistics')\n",
    "print(f'training samples:{len(bert_mnli_train_dataloader)}')\n",
    "print(f'val samples:{len(bert_mnli_val_dataloader)}')\n",
    "print(f'test samples:{len(bert_mnli_test_dataloader)}')\n"
   ]
  },
  {
   "cell_type": "code",
   "execution_count": 44,
   "metadata": {
    "colab": {
     "base_uri": "https://localhost:8080/",
     "height": 428
    },
    "colab_type": "code",
    "id": "kqM9BJm3jmNN",
    "outputId": "a1dedfe7-0b7c-43f5-e412-2db01ae9d94b"
   },
   "outputs": [
    {
     "name": "stdout",
     "output_type": "stream",
     "text": [
      "(tensor([  101,  7277,  2386,  1103,  2030,  1105,  1510, 17402,  4220,  1104,\n",
      "         1142,  1298,  1110,  1103,  9270,   118,  1176, 14098,  1104,  1103,\n",
      "          140, 10127,  1134,  1110,  1166,   170,  4032,  1201,  1385,   119,\n",
      "          102,  1109,  1947,  1104,  1103, 14098,  1104,  1103,   140, 10127,\n",
      "        26856,  1103,  3376,  2275,   119,   102,     0,     0,     0,     0,\n",
      "            0,     0,     0,     0,     0,     0,     0,     0,     0,     0,\n",
      "            0,     0,     0,     0,     0,     0,     0,     0,     0,     0,\n",
      "            0,     0,     0,     0,     0,     0,     0,     0,     0,     0,\n",
      "            0,     0,     0,     0,     0,     0,     0,     0,     0,     0,\n",
      "            0,     0,     0,     0,     0,     0,     0,     0,     0,     0,\n",
      "            0,     0,     0,     0,     0,     0,     0,     0,     0,     0,\n",
      "            0,     0,     0,     0,     0,     0,     0,     0,     0,     0,\n",
      "            0,     0,     0,     0,     0,     0,     0,     0]), tensor([1, 1, 1, 1, 1, 1, 1, 1, 1, 1, 1, 1, 1, 1, 1, 1, 1, 1, 1, 1, 1, 1, 1, 1,\n",
      "        1, 1, 1, 1, 1, 1, 1, 1, 1, 1, 1, 1, 1, 1, 1, 1, 1, 1, 1, 1, 1, 1, 0, 0,\n",
      "        0, 0, 0, 0, 0, 0, 0, 0, 0, 0, 0, 0, 0, 0, 0, 0, 0, 0, 0, 0, 0, 0, 0, 0,\n",
      "        0, 0, 0, 0, 0, 0, 0, 0, 0, 0, 0, 0, 0, 0, 0, 0, 0, 0, 0, 0, 0, 0, 0, 0,\n",
      "        0, 0, 0, 0, 0, 0, 0, 0, 0, 0, 0, 0, 0, 0, 0, 0, 0, 0, 0, 0, 0, 0, 0, 0,\n",
      "        0, 0, 0, 0, 0, 0, 0, 0]), tensor([0, 0, 0, 0, 0, 0, 0, 0, 0, 0, 0, 0, 0, 0, 0, 0, 0, 0, 0, 0, 0, 0, 0, 0,\n",
      "        0, 0, 0, 0, 0, 0, 0, 1, 1, 1, 1, 1, 1, 1, 1, 1, 1, 1, 1, 1, 1, 1, 0, 0,\n",
      "        0, 0, 0, 0, 0, 0, 0, 0, 0, 0, 0, 0, 0, 0, 0, 0, 0, 0, 0, 0, 0, 0, 0, 0,\n",
      "        0, 0, 0, 0, 0, 0, 0, 0, 0, 0, 0, 0, 0, 0, 0, 0, 0, 0, 0, 0, 0, 0, 0, 0,\n",
      "        0, 0, 0, 0, 0, 0, 0, 0, 0, 0, 0, 0, 0, 0, 0, 0, 0, 0, 0, 0, 0, 0, 0, 0,\n",
      "        0, 0, 0, 0, 0, 0, 0, 0]), tensor(2))\n"
     ]
    }
   ],
   "source": [
    "print(bert_mnli_train_dataloader.dataset[0])"
   ]
  },
  {
   "cell_type": "code",
   "execution_count": 0,
   "metadata": {
    "colab": {},
    "colab_type": "code",
    "id": "p1b6CVyhjoXq"
   },
   "outputs": [],
   "source": [
    "def init_mnli_dataset():\n",
    "    \"\"\"\n",
    "    Fill in the details\n",
    "    \"\"\"\n",
    "    mnli_train = bert_mnli_train_dataloader # TODO\n",
    "    mnli_val = bert_mnli_val_dataloader # TODO\n",
    "    mnli_test = bert_mnli_test_dataloader # TODO\n",
    "    \n",
    "    return mnli_train, mnli_val, mnli_test\n",
    "  "
   ]
  },
  {
   "cell_type": "markdown",
   "metadata": {
    "colab_type": "text",
    "id": "f0Pwr7BI-IJb"
   },
   "source": [
    "## Part A (init BERT)\n",
    "In this section you need to create an instance of BERT and return if from the function"
   ]
  },
  {
   "cell_type": "code",
   "execution_count": 0,
   "metadata": {
    "colab": {},
    "colab_type": "code",
    "id": "Ux7DRxzK-IJd"
   },
   "outputs": [],
   "source": [
    "from transformers import BertTokenizer, BertModel, BertForMaskedLM\n",
    "\n",
    "def init_bert():\n",
    "    \n",
    "    BERT = BertModel.from_pretrained('bert-base-cased', output_attentions=True) # ... YOUR CODE HERE\n",
    "    \n",
    "    #freeze_model(BERT)\n",
    "    \n",
    "    return BERT\n",
    "  "
   ]
  },
  {
   "cell_type": "markdown",
   "metadata": {
    "colab_type": "text",
    "id": "lMx36oBB-IJg"
   },
   "source": [
    "## Part B (fine-tune with BERT)\n",
    "\n",
    "Use BERT as your feature extractor to finetune MNLI. Use a new finetune model (reset weights)."
   ]
  },
  {
   "cell_type": "code",
   "execution_count": 0,
   "metadata": {
    "colab": {},
    "colab_type": "code",
    "id": "WSAdQPY5-IJh"
   },
   "outputs": [],
   "source": [
    "import torch.optim as optim\n",
    "from tqdm import trange"
   ]
  },
  {
   "cell_type": "code",
   "execution_count": 48,
   "metadata": {
    "colab": {
     "base_uri": "https://localhost:8080/",
     "height": 34
    },
    "colab_type": "code",
    "id": "n6ZPd9Ngj7E7",
    "outputId": "35f3fb85-10a9-40e1-da22-d550d58efe06"
   },
   "outputs": [
    {
     "name": "stdout",
     "output_type": "stream",
     "text": [
      "True\n"
     ]
    }
   ],
   "source": [
    "import torch\n",
    "import torch.cuda\n",
    "print(torch.cuda.is_available())"
   ]
  },
  {
   "cell_type": "code",
   "execution_count": 0,
   "metadata": {
    "colab": {},
    "colab_type": "code",
    "id": "RaaADDeoj-pO"
   },
   "outputs": [],
   "source": [
    "class BERTSequenceClassifier(nn.Module):\n",
    "    def __init__(self, bert, num_classes):\n",
    "        super().__init__()\n",
    "        self.bert = bert\n",
    "        self.W = nn.Linear(bert.config.hidden_size, 1000)\n",
    "        self.W2 = nn.Linear(1000, num_classes)\n",
    "        self.num_classes = num_classes\n",
    "        \n",
    "    def forward(self, input_ids, attention_mask, token_type_ids):\n",
    "        h, _, attn = self.bert(input_ids=input_ids, \n",
    "                               attention_mask=attention_mask, \n",
    "                               token_type_ids=token_type_ids)\n",
    "        h_cls = h[:, 0]\n",
    "        interm = self.W(h_cls)\n",
    "        logits = self.W2(interm)\n",
    "        return logits, attn\n",
    "      "
   ]
  },
  {
   "cell_type": "code",
   "execution_count": 0,
   "metadata": {
    "colab": {},
    "colab_type": "code",
    "id": "-x7yqgiRkB9a"
   },
   "outputs": [],
   "source": [
    "fine_tune_model = BERTSequenceClassifier\n",
    "\n",
    "from torch.utils.data import SequentialSampler\n",
    "from transformers import glue_compute_metrics as compute_metrics"
   ]
  },
  {
   "cell_type": "code",
   "execution_count": 0,
   "metadata": {
    "colab": {},
    "colab_type": "code",
    "id": "ewZkvJQkkFX7"
   },
   "outputs": [],
   "source": [
    "model_predix = 'Bert_finetune_model'\n",
    "path_root = '/content/drive/My Drive/nlp3_save_model/' + model_predix\n",
    "\n",
    "if not os.path.exists(path_root):\n",
    "    os.mkdir(path_root)"
   ]
  },
  {
   "cell_type": "code",
   "execution_count": 0,
   "metadata": {
    "colab": {},
    "colab_type": "code",
    "id": "zO9lI6HskIIZ"
   },
   "outputs": [],
   "source": [
    "load_pretrained = True\n",
    "conti_train = False"
   ]
  },
  {
   "cell_type": "code",
   "execution_count": 0,
   "metadata": {
    "colab": {},
    "colab_type": "code",
    "id": "xduHscAVkOL5"
   },
   "outputs": [],
   "source": [
    "def train_and_eval(bert, fine_tune_model, mnli_train, mnli_val):\n",
    "  \n",
    "  device = torch.device(\"cuda:0\")\n",
    "  \n",
    "  if load_pretrained:\n",
    "    \n",
    "    model_predix = '1026_FineTune_Bert_final'\n",
    "    path_root = '/content/drive/My Drive/nlp3_save_model/Bert_finetune_model/' + model_predix + '.pth'\n",
    "    if not os.path.exists(path_root):\n",
    "        raise EOFError('Download pretrained model!')\n",
    "    model_dict = torch.load(path_root)\n",
    "    \n",
    "    model = fine_tune_model(bert, 3).to(device)\n",
    "    model.load_state_dict(model_dict)\n",
    "    \n",
    "  else:\n",
    "    \n",
    "    model = fine_tune_model(bert, 3)\n",
    "    \n",
    "    \n",
    "    num_train_epochs = 3\n",
    "    \n",
    "    t_total = len(mnli_train) // num_train_epochs\n",
    "    \n",
    "    optimizer = optim.Adam([p for p in model.parameters() if p.requires_grad], lr=2e-05, eps=1e-08)\n",
    "    criterion = nn.CrossEntropyLoss(ignore_index=-1).to(device)\n",
    "    model.to(device)\n",
    "    \n",
    "    # Train!\n",
    "    model.zero_grad()\n",
    "    train_iterator = trange(int(num_train_epochs), desc=\"Epoch\")\n",
    "    ##################\n",
    "    if conti_train:\n",
    "      epoch_record = 1\n",
    "      step_record = 149\n",
    "      model_predix = '1026_FineTune_Bert_'+'epoch'+str(epoch_record)+'_step'+str(step_record)\n",
    "      path_root = '/content/drive/My Drive/nlp3_save_model/Bert_finetune_model/' + model_predix + '.pth'\n",
    "      if not os.path.exists(path_root):\n",
    "        raise EOFError('Download pretrained model!')\n",
    "      model_dict = torch.load(path_root)\n",
    "      \n",
    "      model = fine_tune_model(bert,3).to(device)\n",
    "      model.load_state_dict(model_dict)\n",
    "    ##################\n",
    "    for epoch, _ in enumerate(train_iterator):\n",
    "      epoch_iterator = tqdm(mnli_train, desc=\"Iteration\")\n",
    "      tr_loss, logging_loss = 0.0, 0.0\n",
    "      \n",
    "      eval_loss = 0.0\n",
    "      nb_eval_steps = 0\n",
    "      preds = []\n",
    "      all_labels = []\n",
    "      ##################################################\n",
    "      if conti_train == True and epoch < epoch_record:\n",
    "        continue\n",
    "      ##################################################\n",
    "      for step, batch in enumerate(epoch_iterator):\n",
    "        ##################################################\n",
    "        if conti_train == True and epoch == epoch_record and step <= step_record:\n",
    "          continue\n",
    "        ##################################################\n",
    "        #print(\"Start point: epoch\",epoch,\"step\",step)\n",
    "        \n",
    "        model.train()\n",
    "        batch = tuple(t.to(device) for t in batch)\n",
    "        logits, _ = model(*batch[:-1])\n",
    "        \n",
    "        labels = batch[-1]\n",
    "        loss = criterion(logits.view(-1, model.num_classes), labels.view(-1))\n",
    "        \n",
    "        loss.backward()\n",
    "        torch.nn.utils.clip_grad_norm_(model.parameters(), 1.0)\n",
    "        \n",
    "        tr_loss += loss.item()\n",
    "        \n",
    "        optimizer.step()\n",
    "        model.zero_grad()\n",
    "        \n",
    "        if (step+1)%500 == 0:\n",
    "          model_prefix = '1026_FineTune_Bert_'+'epoch'+str(epoch)+'_step'+str(step)\n",
    "          path_root = '/content/drive/My Drive/nlp3_save_model/Bert_finetune_model'\n",
    "          \n",
    "          if not os.path.exists(path_root):\n",
    "            os.mkdir(path_root)\n",
    "            \n",
    "          model_path = os.path.join(path_root, model_prefix+\".pth\")\n",
    "          torch.save(model.state_dict(), model_path) \n",
    "          \n",
    "        \n",
    "      print('Train loss is: ', tr_loss)\n",
    "        \n",
    "      for batch in tqdm(mnli_val, desc=\"Evaluating\"):\n",
    "          \n",
    "        model.eval()\n",
    "        batch = tuple(t.to(device) for t in batch)\n",
    "          \n",
    "        with torch.no_grad():\n",
    "          logits, attn = model(*batch[:-1])\n",
    "            \n",
    "        labels = batch[-1]\n",
    "        eval_loss += criterion(logits.view(-1, model.num_classes), labels.view(-1)).mean().item()\n",
    "          \n",
    "        nb_eval_steps += 1\n",
    "        preds.append(logits.view(-1, model.num_classes).detach().cpu())\n",
    "        all_labels.append(labels.view(-1).detach().cpu())\n",
    "          \n",
    "      eval_loss = eval_loss / nb_eval_steps\n",
    "      print('Eval loss is: ', eval_loss)\n",
    "        \n",
    "      preds = torch.cat(preds, 0).numpy()\n",
    "      preds = np.argmax(preds, axis=1)\n",
    "        \n",
    "      all_labels = torch.cat(all_labels, 0).numpy()\n",
    "        \n",
    "      result = compute_metrics('mnli', preds, all_labels)\n",
    "      print(result)\n",
    "        \n",
    "    model_prefix = '1026_FineTune_Bert_final'\n",
    "    path_root = '/content/drive/My Drive/nlp3_save_model/Bert_finetune_model'\n",
    "      \n",
    "    if not os.path.exists(path_root):\n",
    "      os.mkdir(path_root)\n",
    "        \n",
    "    model_path = os.path.join(path_root, model_prefix+\".pth\")\n",
    "    torch.save(model.state_dict(), model_path) \n",
    "  \n",
    "  return model\n",
    "\n"
   ]
  },
  {
   "cell_type": "code",
   "execution_count": 0,
   "metadata": {
    "colab": {},
    "colab_type": "code",
    "id": "chnbQo68kQ7d"
   },
   "outputs": [],
   "source": [
    "def fine_tune_mnli_BERT(BERT_feature_extractor, fine_tune_model, mnli_train, mnli_val):\n",
    "    # YOUR CODE HERE\n",
    "    \n",
    "    model = train_and_eval(BERT_feature_extractor, fine_tune_model, mnli_train, mnli_val)\n",
    "    \n",
    "    return model\n",
    "    "
   ]
  },
  {
   "cell_type": "markdown",
   "metadata": {
    "colab_type": "text",
    "id": "jAVmYYBU-IJk"
   },
   "source": [
    "## Part C\n",
    "Evaluate how well we did"
   ]
  },
  {
   "cell_type": "code",
   "execution_count": 0,
   "metadata": {
    "colab": {},
    "colab_type": "code",
    "id": "D2R0EqNg-IJk"
   },
   "outputs": [],
   "source": [
    "def calculate_mnli_test_accuracy_BERT(fine_tuned_model, mnli_test):\n",
    "    \n",
    "    model = fine_tuned_model\n",
    "    device = torch.device(\"cuda:0\")\n",
    "    \n",
    "    criterion = nn.CrossEntropyLoss(ignore_index=-1).to(device)\n",
    "    model.to(device)\n",
    "    # Test!\n",
    "    test_loss = 0.0\n",
    "    nb_test_steps = 0\n",
    "    preds = []\n",
    "    all_labels = []\n",
    "    \n",
    "    for batch in tqdm(mnli_test, desc=\"Evaluating\"):\n",
    "      model.eval()\n",
    "      batch = tuple(t.to(device) for t in batch)\n",
    "      \n",
    "      with torch.no_grad():\n",
    "        logits, attn = model(*batch[:-1])\n",
    "\n",
    "        labels = batch[-1]\n",
    "        test_loss += criterion(logits.view(-1, model.num_classes), labels.view(-1)).mean().item()\n",
    "        \n",
    "      nb_test_steps += 1\n",
    "      preds.append(logits.view(-1, model.num_classes).detach().cpu())\n",
    "      all_labels.append(labels.view(-1).detach().cpu())\n",
    "        \n",
    "    test_loss = test_loss / nb_test_steps\n",
    "    \n",
    "    preds = torch.cat(preds, 0).numpy()\n",
    "    preds = np.argmax(preds, axis=1)\n",
    "    \n",
    "    all_labels = torch.cat(all_labels, 0).numpy()\n",
    "    \n",
    "    result = compute_metrics('mnli', preds, all_labels)\n",
    "    print(result)\n",
    "    \n",
    "    return result['acc']\n",
    "  "
   ]
  },
  {
   "cell_type": "markdown",
   "metadata": {
    "colab_type": "text",
    "id": "c6zfLgdN-IJp"
   },
   "source": [
    "## Let's grade your BERT results!"
   ]
  },
  {
   "cell_type": "code",
   "execution_count": 56,
   "metadata": {
    "colab": {
     "base_uri": "https://localhost:8080/",
     "height": 51
    },
    "colab_type": "code",
    "id": "GchYCirR-IJr",
    "outputId": "bed9248b-a088-415d-f2fe-c8961a187bf8"
   },
   "outputs": [
    {
     "name": "stderr",
     "output_type": "stream",
     "text": [
      "Evaluating: 100%|██████████| 154/154 [02:39<00:00,  1.20it/s]"
     ]
    },
    {
     "name": "stdout",
     "output_type": "stream",
     "text": [
      "{'acc': 0.8313805399898115}\n"
     ]
    },
    {
     "name": "stderr",
     "output_type": "stream",
     "text": [
      "\n"
     ]
    }
   ],
   "source": [
    "def grade_mnli_BERT():\n",
    "    BERT_feature_extractor = init_bert()\n",
    "    \n",
    "    # load data\n",
    "    mnli_train, mnli_val, mnli_test = init_mnli_dataset()\n",
    "\n",
    "    # init Bert\n",
    "    BERT_feature_extractor = init_bert()\n",
    "    \n",
    "    # finetune\n",
    "    fine_tuned_model = fine_tune_mnli_BERT(BERT_feature_extractor, fine_tune_model, mnli_train, mnli_val)\n",
    "\n",
    "    # check test accuracys\n",
    "    test_accuracy = calculate_mnli_test_accuracy_BERT(fine_tuned_model, mnli_test)\n",
    "    \n",
    "    # the real threshold will be released by Oct 11 \n",
    "    assert test_accuracy > 0.80, 'ummm... your accuracy is too low...'\n",
    "    \n",
    "grade_mnli_BERT()\n"
   ]
  },
  {
   "cell_type": "markdown",
   "metadata": {
    "colab_type": "text",
    "id": "4tR58sKv-hZU"
   },
   "source": [
    "#### The models"
   ]
  },
  {
   "cell_type": "code",
   "execution_count": 63,
   "metadata": {
    "colab": {
     "base_uri": "https://localhost:8080/",
     "height": 105
    },
    "colab_type": "code",
    "id": "K1i6KNx-7ZLJ",
    "outputId": "b15964d7-1053-4574-994f-3d8dab1e9320"
   },
   "outputs": [
    {
     "name": "stdout",
     "output_type": "stream",
     "text": [
      "cf91c021047dd979e5549bd9630ad156  /content/drive/My Drive/nlp3_save_model/mnist_fine_tune_model_freeze.pth\n",
      "63f73a31b69df5a560ae6f732c4ca435  /content/drive/My Drive/nlp3_save_model/mnist_fine_tune_model_unfreeze.pth\n",
      "80d64233d45ff3bc8358f1bcdbe0c92d  /content/drive/My Drive/nlp3_save_model/1022_LSTM_dim_256_hidden_size_512_rnn_dropout_0.4_num_layers_3/lstm37.pth\n",
      "71de50963306d33cb3b42f03130d9783  /content/drive/My Drive/nlp3_save_model/Bert_finetune_model/1026_FineTune_Bert_final.pth\n"
     ]
    }
   ],
   "source": [
    "# the md5\n",
    "!md5sum '/content/drive/My Drive/nlp3_save_model/mnist_fine_tune_model_freeze.pth'\n",
    "!md5sum '/content/drive/My Drive/nlp3_save_model/mnist_fine_tune_model_unfreeze.pth'\n",
    "!md5sum '/content/drive/My Drive/nlp3_save_model/1022_LSTM_dim_256_hidden_size_512_rnn_dropout_0.4_num_layers_3/lstm37.pth'\n",
    "!md5sum '/content/drive/My Drive/nlp3_save_model/Bert_finetune_model/1026_FineTune_Bert_final.pth'\n"
   ]
  },
  {
   "cell_type": "code",
   "execution_count": 0,
   "metadata": {
    "colab": {},
    "colab_type": "code",
    "id": "mJ5UDg0PAAm_"
   },
   "outputs": [],
   "source": []
  }
 ],
 "metadata": {
  "accelerator": "GPU",
  "colab": {
   "collapsed_sections": [
    "S3zMrXrfd0Cq",
    "l1Tf-ZsQef4J"
   ],
   "name": "hw3_TheOne.ipynb",
   "provenance": [],
   "toc_visible": true
  },
  "kernelspec": {
   "display_name": "Python 3",
   "language": "python",
   "name": "python3"
  },
  "language_info": {
   "codemirror_mode": {
    "name": "ipython",
    "version": 3
   },
   "file_extension": ".py",
   "mimetype": "text/x-python",
   "name": "python",
   "nbconvert_exporter": "python",
   "pygments_lexer": "ipython3",
   "version": "3.7.4"
  }
 },
 "nbformat": 4,
 "nbformat_minor": 1
}
