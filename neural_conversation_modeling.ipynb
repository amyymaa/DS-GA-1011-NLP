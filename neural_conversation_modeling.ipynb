{
 "cells": [
  {
   "cell_type": "markdown",
   "metadata": {
    "colab_type": "text",
    "id": "0wvKgEXO_N-f"
   },
   "source": [
    "# Homework 4: Conversation Modeling and decoding"
   ]
  },
  {
   "cell_type": "markdown",
   "metadata": {
    "colab_type": "text",
    "id": "r454y7B-_N-i"
   },
   "source": [
    "# Part 1 Modeling"
   ]
  },
  {
   "cell_type": "markdown",
   "metadata": {
    "colab_type": "text",
    "id": "kAMyTqQ2_N-j"
   },
   "source": [
    "## 1.1 Attention visulization"
   ]
  },
  {
   "cell_type": "code",
   "execution_count": 0,
   "metadata": {
    "colab": {},
    "colab_type": "code",
    "id": "iauLDJvc_N-m"
   },
   "outputs": [],
   "source": [
    "### set up the model and complete the corresponding task\n",
    "\n",
    "### the pretrained model was trained in ~2 hours, i.e. you can expect attention maps\n",
    "### to look quite 'hard' (less soft spreading) i.e. attending to some particular token in the input"
   ]
  },
  {
   "cell_type": "code",
   "execution_count": 29,
   "metadata": {
    "colab": {
     "base_uri": "https://localhost:8080/",
     "height": 122
    },
    "colab_type": "code",
    "id": "mgMbFHys0tJ6",
    "outputId": "b48426cf-87a0-411e-87b2-02e5e7c86510"
   },
   "outputs": [
    {
     "name": "stdout",
     "output_type": "stream",
     "text": [
      "Go to this URL in a browser: https://accounts.google.com/o/oauth2/auth?client_id=947318989803-6bn6qk8qdgf4n4g3pfee6491hc0brc4i.apps.googleusercontent.com&redirect_uri=urn%3Aietf%3Awg%3Aoauth%3A2.0%3Aoob&scope=email%20https%3A%2F%2Fwww.googleapis.com%2Fauth%2Fdocs.test%20https%3A%2F%2Fwww.googleapis.com%2Fauth%2Fdrive%20https%3A%2F%2Fwww.googleapis.com%2Fauth%2Fdrive.photos.readonly%20https%3A%2F%2Fwww.googleapis.com%2Fauth%2Fpeopleapi.readonly&response_type=code\n",
      "\n",
      "Enter your authorization code:\n",
      "··········\n",
      "Mounted at /content/drive\n"
     ]
    }
   ],
   "source": [
    "from google.colab import drive\n",
    "drive.mount('/content/drive')"
   ]
  },
  {
   "cell_type": "code",
   "execution_count": 0,
   "metadata": {
    "colab": {},
    "colab_type": "code",
    "id": "spHnF0mG0xX0"
   },
   "outputs": [],
   "source": [
    "import re\n",
    "from collections import Counter\n",
    "from tqdm import tqdm\n",
    "import json\n",
    "from torch.utils.data import Dataset, DataLoader\n",
    "import torch\n",
    "\n",
    "RETOK = re.compile(r'\\w+|[^\\w\\s]|\\n', re.UNICODE)\n",
    "\n",
    "class ChatDictionary(object):\n",
    "    \"\"\"\n",
    "    Simple dict loader\n",
    "    \"\"\"\n",
    "    def __init__(self, dict_file_path):\n",
    "        self.word2ind = {}  # word:index\n",
    "        self.ind2word = {}  # index:word\n",
    "        self.counts = {}  # word:count\n",
    "\n",
    "        dict_raw = open(dict_file_path, 'r').readlines()\n",
    "        \n",
    "        for i, w in enumerate(dict_raw):\n",
    "            _word, _count = w.strip().split('\\t') # \\t for tab\n",
    "            if _word == '\\\\n':\n",
    "                _word = '\\n'\n",
    "            self.word2ind[_word] = i\n",
    "            self.ind2word[i] = _word\n",
    "            self.counts[_word] = _count\n",
    "            \n",
    "    def t2v(self, tokenized_text): # list of word to index\n",
    "        return [self.word2ind[w] if w in self.counts else self.word2ind['__unk__'] for w in tokenized_text]\n",
    "\n",
    "    def v2t(self, list_ids): # list of index to word\n",
    "        return ' '.join([self.ind2word[i] for i in list_ids])\n",
    "    \n",
    "    def pred2text(self, tensor):\n",
    "        result = []\n",
    "        for i in range(tensor.size(0)):\n",
    "            if tensor[i].item() == '__end__'  or tensor[i].item() == '__null__':  # null is pad\n",
    "                break\n",
    "            else:\n",
    "                result.append(self.ind2word[tensor[i].item()])\n",
    "        return ' '.join(result)\n",
    "    \n",
    "    def __len__(self):\n",
    "        return len(self.counts)"
   ]
  },
  {
   "cell_type": "code",
   "execution_count": 0,
   "metadata": {
    "colab": {},
    "colab_type": "code",
    "id": "uMKPvi9n0z-C"
   },
   "outputs": [],
   "source": [
    "class ChatDataset(Dataset):\n",
    "    \"\"\"\n",
    "    Json dataset wrapper\n",
    "    \"\"\"\n",
    "    \n",
    "    def __init__(self, dataset_file_path, dictionary, dt='train'):\n",
    "        super().__init__()\n",
    "        \n",
    "        json_text = open(dataset_file_path, 'r').readlines()\n",
    "        self.samples = []\n",
    "        \n",
    "        for sample in tqdm(json_text):\n",
    "            sample = sample.rstrip()\n",
    "            sample = json.loads(sample)\n",
    "            _inp_toked = RETOK.findall(sample['text'])\n",
    "            _inp_toked_id = dictionary.t2v(_inp_toked)\n",
    "\n",
    "            sample['text_vec'] = torch.tensor(_inp_toked_id, dtype=torch.long)\n",
    "            \n",
    "            # train and valid have different key names for target\n",
    "            if dt == 'train':\n",
    "                _tar_toked = RETOK.findall(sample['labels'][0]) + ['__end__']\n",
    "            elif dt == 'valid':\n",
    "                _tar_toked = RETOK.findall(sample['eval_labels'][0]) + ['__end__']\n",
    "                \n",
    "            _tar_toked_id = dictionary.t2v(_tar_toked)\n",
    "            \n",
    "            sample['target_vec'] = torch.tensor(_tar_toked_id, dtype=torch.long)\n",
    "            \n",
    "            self.samples.append(sample)\n",
    "            \n",
    "    def __getitem__(self, i):\n",
    "        return self.samples[i]['text_vec'], self.samples[i]['target_vec']\n",
    "    \n",
    "    def __len__(self):\n",
    "        return len(self.samples)"
   ]
  },
  {
   "cell_type": "code",
   "execution_count": 0,
   "metadata": {
    "colab": {},
    "colab_type": "code",
    "id": "BWOr8Fvt039q"
   },
   "outputs": [],
   "source": [
    "def pad_tensor(tensors, sort=True, pad_token=0):\n",
    "    rows = len(tensors)\n",
    "    lengths = [len(i) for i in tensors]\n",
    "    max_t = max(lengths)\n",
    "        \n",
    "    output = tensors[0].new(rows, max_t) # create a new tensor with same dtype and device as the old\n",
    "                                         # size of tensor is from outer to inner\n",
    "    output.fill_(pad_token)  # 0 is a pad token here\n",
    "    \n",
    "    for i, (tensor, length) in enumerate(zip(tensors, lengths)):\n",
    "        output[i,:length] = tensor\n",
    "\n",
    "    return output, lengths # list of padded tensors (2D), list of number of tokens except pad tokens\n",
    "\n",
    "def argsort(keys, *lists, descending=False):\n",
    "    \"\"\"Reorder each list in lists by the (descending) sorted order of keys.\n",
    "    :param iter keys: Keys to order by.\n",
    "    :param list[list] lists: Lists to reordered by keys's order.\n",
    "                             Correctly handles lists and 1-D tensors.\n",
    "    :param bool descending: Use descending order if true.\n",
    "    :returns: The reordered items.\n",
    "    \"\"\"\n",
    "    ind_sorted = sorted(range(len(keys)), key=lambda k: keys[k])\n",
    "    if descending:\n",
    "        ind_sorted = list(reversed(ind_sorted))\n",
    "    output = []\n",
    "    for lst in lists:\n",
    "        if isinstance(lst, torch.Tensor):\n",
    "            output.append(lst[ind_sorted])\n",
    "        else:\n",
    "            output.append([lst[i] for i in ind_sorted])\n",
    "    return output\n",
    "\n",
    "def batchify(batch):\n",
    "    inputs = [i[0] for i in batch]\n",
    "    labels = [i[1] for i in batch]\n",
    "    \n",
    "    input_vecs, input_lens = pad_tensor(inputs)\n",
    "    label_vecs, label_lens = pad_tensor(labels)\n",
    "    \n",
    "    # sort only wrt inputs here for encoder packing\n",
    "    input_vecs, input_lens, label_vecs, label_lens = argsort(input_lens, input_vecs, input_lens, label_vecs, label_lens, descending=True)\n",
    "\n",
    "    return {\n",
    "        \"text_vecs\": input_vecs,\n",
    "        \"text_lens\": input_lens,\n",
    "        \"target_vecs\": label_vecs,\n",
    "        \"target_lens\": label_lens,\n",
    "        'use_packed': True\n",
    "    }"
   ]
  },
  {
   "cell_type": "code",
   "execution_count": 59,
   "metadata": {
    "colab": {
     "base_uri": "https://localhost:8080/",
     "height": 51
    },
    "colab_type": "code",
    "id": "oKmo5tpE06yL",
    "outputId": "747f5fef-9d2f-48ac-9478-646296027754"
   },
   "outputs": [
    {
     "name": "stderr",
     "output_type": "stream",
     "text": [
      "100%|██████████| 131438/131438 [00:13<00:00, 9678.63it/s] \n",
      "100%|██████████| 7801/7801 [00:00<00:00, 8943.13it/s]\n"
     ]
    }
   ],
   "source": [
    "chat_dict = ChatDictionary('./drive/My Drive/dict')\n",
    "train_dataset = ChatDataset('./drive/My Drive/train.jsonl', chat_dict)\n",
    "valid_dataset = ChatDataset('./drive/My Drive/valid.jsonl', chat_dict, 'valid')"
   ]
  },
  {
   "cell_type": "code",
   "execution_count": 0,
   "metadata": {
    "colab": {},
    "colab_type": "code",
    "id": "T12B2nsG1BFs"
   },
   "outputs": [],
   "source": [
    "train_loader = DataLoader(train_dataset, shuffle=True, collate_fn=batchify, batch_size=64)\n",
    "valid_loader = DataLoader(valid_dataset, shuffle=False, collate_fn=batchify, batch_size=64)\n",
    "valid_loader_heatmap = DataLoader(valid_dataset, shuffle=False, collate_fn=batchify, batch_size=1)"
   ]
  },
  {
   "cell_type": "code",
   "execution_count": 0,
   "metadata": {
    "colab": {},
    "colab_type": "code",
    "id": "DNjCwt4B1EPL"
   },
   "outputs": [],
   "source": [
    "import torch.nn as nn\n",
    "from torch.nn.utils.rnn import pack_padded_sequence, pad_packed_sequence\n",
    "\n",
    "class EncoderRNN(nn.Module):\n",
    "    \"\"\"Encodes the input context.\"\"\"\n",
    "\n",
    "    def __init__(self, vocab_size, embed_size, hidden_size, num_layers, pad_idx=0, dropout=0, shared_lt=None):\n",
    "        super().__init__()\n",
    "        self.vocab_size = vocab_size\n",
    "        self.embed_size = embed_size\n",
    "        self.hidden_size = hidden_size\n",
    "        self.num_layers = num_layers\n",
    "        self.dropout = nn.Dropout(p=dropout)\n",
    "        self.pad_idx = pad_idx\n",
    "        \n",
    "        if shared_lt is None:\n",
    "            self.embedding = nn.Embedding(self.vocab_size, self.embed_size, pad_idx)\n",
    "        else:\n",
    "            self.embedding = shared_lt\n",
    "            \n",
    "        self.gru = nn.GRU(\n",
    "            self.embed_size, self.hidden_size, num_layers=self.num_layers, batch_first=True, dropout=dropout if num_layers > 1 else 0,\n",
    "        )\n",
    "        \n",
    "        \n",
    "    def forward(self, text_vec, text_lens, hidden=None, use_packed=True):\n",
    "        embedded = self.embedding(text_vec)\n",
    "        attention_mask = text_vec.ne(self.pad_idx) \n",
    "\n",
    "        embedded = self.dropout(embedded)\n",
    "        if use_packed is True:\n",
    "            embedded = pack_padded_sequence(embedded, text_lens, batch_first=True)\n",
    "        output, hidden = self.gru(embedded, hidden)\n",
    "        if use_packed is True:\n",
    "            output, output_lens = pad_packed_sequence(output, batch_first=True)\n",
    "      \n",
    "        return output, hidden, attention_mask # h_t for each t, h_t for last t, _\n",
    "\n",
    "    \n",
    "class DecoderRNN(nn.Module):\n",
    "    \"\"\"Generates a sequence of tokens in response to context.\"\"\"\n",
    "\n",
    "    def __init__(self, vocab_size, embed_size, hidden_size, num_layers, dropout=0):\n",
    "        super().__init__()\n",
    "        self.vocab_size = vocab_size\n",
    "        self.embed_size = embed_size\n",
    "        self.hidden_size = hidden_size\n",
    "        self.num_layers = num_layers\n",
    "        self.dropout = nn.Dropout(p=dropout)\n",
    "        \n",
    "        self.embedding = nn.Embedding(self.vocab_size, self.embed_size, 0)\n",
    "        \n",
    "        self.gru = nn.GRU(\n",
    "            self.embed_size, self.hidden_size, num_layers=self.num_layers, batch_first=True, dropout=dropout if num_layers > 1 else 0,\n",
    "        )\n",
    "        \n",
    "        self.attention = AttentionLayer(self.hidden_size, self.embed_size)\n",
    "\n",
    "        self.out = nn.Linear(self.hidden_size, self.vocab_size)\n",
    "        self.longest_label = 100\n",
    "\n",
    "    def forward(self, text_vec, decoder_hidden, encoder_states): # decoder_input, encoder_hidden, encoder_states\n",
    "        emb = self.embedding(text_vec)\n",
    "        emb = self.dropout(emb)\n",
    "        seqlen = text_vec.size(1)\n",
    "        encoder_output, encoder_hidden, attention_mask = encoder_states\n",
    "        \n",
    "        decoder_hidden = decoder_hidden\n",
    "        output = []\n",
    "        attn_w_log = []\n",
    "\n",
    "        for i in range(seqlen):\n",
    "            decoder_output, decoder_hidden = self.gru(emb[:,i,:].unsqueeze(1), decoder_hidden) \n",
    "                                                                                               \n",
    "            # compute attention at each time step\n",
    "            decoder_output_attended, attn_weights = self.attention(decoder_output, encoder_output, attention_mask)\n",
    "            output.append(decoder_output_attended)\n",
    "            attn_w_log.append(attn_weights)\n",
    "            \n",
    "        output = torch.cat(output, dim=1).to(text_vec.device)\n",
    "        scores = self.out(output)\n",
    "        \n",
    "        return scores, decoder_hidden, attn_w_log\n",
    "    \n",
    "    def decode_forced(self, ys, encoder_states, xs_lens):\n",
    "        encoder_output, encoder_hidden, attention_mask = encoder_states\n",
    "        batch_size = ys.size(0)\n",
    "        target_length = ys.size(1)\n",
    "        longest_label = max(target_length, self.longest_label)\n",
    "        \n",
    "        starts = torch.Tensor([1]).long().to(self.embedding.weight.device).expand(batch_size, 1).long()  # expand to batch size\n",
    "        \n",
    "        # Teacher forcing: Feed the target as the next input\n",
    "        y_in = ys.narrow(1, 0, ys.size(1) - 1)\n",
    "        decoder_input = torch.cat([starts, y_in], 1)\n",
    "        decoder_output, decoder_hidden, attn_w_log = self.forward(decoder_input, encoder_hidden, encoder_states)\n",
    "        _, preds = decoder_output.max(dim=2)\n",
    "        \n",
    "        return decoder_output, preds, attn_w_log\n",
    "    \n",
    "    \n",
    "class AttentionLayer(nn.Module):\n",
    "\n",
    "    def __init__(self, hidden_size, embedding_size):\n",
    "        super().__init__()\n",
    "        input_dim = hidden_size\n",
    "\n",
    "        self.linear_out = nn.Linear(hidden_size+input_dim, input_dim, bias=False)\n",
    "        self.softmax = nn.Softmax(dim=-1)\n",
    "        self.tanh = nn.Tanh()\n",
    "\n",
    "    def forward(self, decoder_output, encoder_output, attention_mask):\n",
    "\n",
    "        batch_size, seq_length, hidden_size = encoder_output.size()\n",
    "\n",
    "        encoder_output_t = encoder_output.transpose(1,2)\n",
    "        \n",
    "        attention_scores = torch.bmm(decoder_output, encoder_output_t).squeeze(1)\n",
    "     \n",
    "        attention_scores.masked_fill_((~attention_mask), -10e5)\n",
    "        attention_weights = self.softmax(attention_scores)\n",
    "\n",
    "        mix = torch.bmm(attention_weights.unsqueeze(1), encoder_output)\n",
    "\n",
    "        combined = torch.cat((decoder_output.squeeze(1), mix.squeeze(1)), dim=1)\n",
    "\n",
    "        output = self.linear_out(combined).unsqueeze(1)\n",
    "        output = self.tanh(output)\n",
    "\n",
    "        return output, attention_weights\n",
    "    \n",
    "    \n",
    "class seq2seq(nn.Module):\n",
    "    \"\"\"\n",
    "    Generic seq2seq model with attention mechanism.\n",
    "    \"\"\"\n",
    "    def __init__(self, opts):\n",
    "\n",
    "        super().__init__()\n",
    "        self.opts = opts\n",
    "        \n",
    "        self.decoder = DecoderRNN(\n",
    "                                    vocab_size=self.opts['vocab_size'],\n",
    "                                    embed_size=self.opts['embedding_size'],\n",
    "                                    hidden_size=self.opts['hidden_size'],\n",
    "                                    num_layers=self.opts['num_layers_dec'],\n",
    "                                    dropout=self.opts['dropout'],\n",
    "                                )\n",
    "        \n",
    "        self.encoder = EncoderRNN(\n",
    "                                    vocab_size=self.opts['vocab_size'],\n",
    "                                    embed_size=self.opts['embedding_size'],\n",
    "                                    hidden_size=self.opts['hidden_size'],\n",
    "                                    num_layers=self.opts['num_layers_enc'],\n",
    "                                    dropout=self.opts['dropout'],\n",
    "                                    shared_lt=self.decoder.embedding\n",
    "        )\n",
    "        \n",
    "    def train(self):\n",
    "        self.encoder.train()\n",
    "        self.decoder.train()\n",
    "        \n",
    "    def eval(self):\n",
    "        self.encoder.eval()\n",
    "        self.decoder.eval()"
   ]
  },
  {
   "cell_type": "code",
   "execution_count": 62,
   "metadata": {
    "colab": {
     "base_uri": "https://localhost:8080/",
     "height": 323
    },
    "colab_type": "code",
    "id": "fGcJDStu1GyN",
    "outputId": "0a7a715e-0630-4d1e-e9d7-55682a1aa94e"
   },
   "outputs": [
    {
     "data": {
      "text/plain": [
       "seq2seq(\n",
       "  (decoder): DecoderRNN(\n",
       "    (dropout): Dropout(p=0.3, inplace=False)\n",
       "    (embedding): Embedding(18760, 256, padding_idx=0)\n",
       "    (gru): GRU(256, 512, batch_first=True)\n",
       "    (attention): AttentionLayer(\n",
       "      (linear_out): Linear(in_features=1024, out_features=512, bias=False)\n",
       "      (softmax): Softmax(dim=-1)\n",
       "      (tanh): Tanh()\n",
       "    )\n",
       "    (out): Linear(in_features=512, out_features=18760, bias=True)\n",
       "  )\n",
       "  (encoder): EncoderRNN(\n",
       "    (dropout): Dropout(p=0.3, inplace=False)\n",
       "    (embedding): Embedding(18760, 256, padding_idx=0)\n",
       "    (gru): GRU(256, 512, batch_first=True)\n",
       "  )\n",
       ")"
      ]
     },
     "execution_count": 62,
     "metadata": {
      "tags": []
     },
     "output_type": "execute_result"
    }
   ],
   "source": [
    "num_gpus = torch.cuda.device_count()\n",
    "if num_gpus > 0:\n",
    "    current_device = 'cuda'\n",
    "else:\n",
    "    current_device = 'cpu'\n",
    "\n",
    "if current_device == 'cuda':\n",
    "    model_pt = torch.load('./drive/My Drive/chat_model_best_22.pt')\n",
    "else:\n",
    "    model_pt = torch.load('./drive/My Drive/chat_model_best_22.pt', map_location=torch.device('cpu'))\n",
    "opts = model_pt['opts']\n",
    "    \n",
    "model = seq2seq(opts)\n",
    "model.load_state_dict(model_pt['state_dict'])\n",
    "model.to(current_device)"
   ]
  },
  {
   "cell_type": "code",
   "execution_count": 0,
   "metadata": {
    "colab": {},
    "colab_type": "code",
    "id": "1MiroUTJ1Jn-"
   },
   "outputs": [],
   "source": [
    "from collections import namedtuple\n",
    "import numpy as np\n",
    "import matplotlib.pyplot as plt\n",
    "import matplotlib.ticker as ticker\n",
    "import copy\n",
    "%matplotlib inline\n",
    "\n",
    "\n",
    "def showAttention(input_sentence, output_words, attentions):\n",
    "    # Set up figure with colorbar\n",
    "    fig = plt.figure(figsize = (50,5))\n",
    "    ax = fig.add_subplot(111)\n",
    "    cax = ax.matshow(attentions, cmap='bone', aspect='auto')\n",
    "    fig.colorbar(cax)\n",
    "\n",
    "    # Set up axes\n",
    "    ax.set_xticklabels([''] + input_sentence.split(' '), rotation=90)\n",
    "    ax.set_yticklabels([''] + output_words.split(' '))\n",
    "\n",
    "    ax.yaxis.set_label_position(\"right\")\n",
    "    ax.yaxis.tick_right()\n",
    "\n",
    "    # Show label at every tick\n",
    "    ax.xaxis.set_major_locator(ticker.MultipleLocator(1))\n",
    "    ax.yaxis.set_major_locator(ticker.MultipleLocator(1))\n",
    "    \n",
    "\n",
    "    plt.show()\n",
    "      "
   ]
  },
  {
   "cell_type": "code",
   "execution_count": 64,
   "metadata": {
    "colab": {
     "base_uri": "https://localhost:8080/",
     "height": 34
    },
    "colab_type": "code",
    "id": "6Mmdm1ogZ1yg",
    "outputId": "4bed0dbe-70e4-4f0c-9ba7-b7a305daae1b"
   },
   "outputs": [
    {
     "data": {
      "text/plain": [
       "[399, 167, 412, 756, 868]"
      ]
     },
     "execution_count": 64,
     "metadata": {
      "tags": []
     },
     "output_type": "execute_result"
    }
   ],
   "source": [
    "from random import randint\n",
    "sample_index = []\n",
    "for i in range(5):\n",
    "    sample_index.append(randint(0, 1000))\n",
    "\n",
    "sample_index"
   ]
  },
  {
   "cell_type": "code",
   "execution_count": 0,
   "metadata": {
    "colab": {},
    "colab_type": "code",
    "id": "76rB5J3E1M01"
   },
   "outputs": [],
   "source": [
    "#sample_index = [50, 100, 150, 200, 250]\n",
    "inputs, targets, attns = [], [], []\n",
    "\n",
    "for i, batch in enumerate(valid_loader_heatmap):\n",
    "    if i in sample_index:\n",
    "        model.eval()\n",
    "        text_vecs = batch['text_vecs'].to('cuda')\n",
    "        inputs.append(chat_dict.v2t(text_vecs[0].tolist()))\n",
    "        target_vecs = batch['target_vecs'].to('cuda')\n",
    "        targets.append(chat_dict.v2t(target_vecs[0].tolist()))\n",
    "        encoded = model.encoder(text_vecs, batch['text_lens'], use_packed=batch['use_packed'])\n",
    "        decoder_output, preds, attn_w_log = model.decoder.decode_forced(target_vecs, encoded, batch['text_lens'])\n",
    "        attns.append([np.array(i[0].tolist()) for i in attn_w_log])\n",
    "    if i > max(sample_index):\n",
    "        break "
   ]
  },
  {
   "cell_type": "markdown",
   "metadata": {
    "colab_type": "text",
    "id": "z_8fOd80_N-r"
   },
   "source": [
    "### You present here:"
   ]
  },
  {
   "cell_type": "code",
   "execution_count": 0,
   "metadata": {
    "colab": {},
    "colab_type": "code",
    "id": "PuKxX4T3_N-s"
   },
   "outputs": [],
   "source": [
    "# this is some example attention map here, \n",
    "# *make sure you add text tokens on the axes to make it readable!*"
   ]
  },
  {
   "cell_type": "code",
   "execution_count": 66,
   "metadata": {
    "colab": {
     "base_uri": "https://localhost:8080/",
     "height": 1000
    },
    "colab_type": "code",
    "id": "coCcGTp61SeI",
    "outputId": "0a6a9ead-9623-4945-cf69-88cf77b8ebce"
   },
   "outputs": [
    {
     "name": "stdout",
     "output_type": "stream",
     "text": [
      "Input:\n",
      "your persona : i work in it and have been at the same company for 15 years . \n",
      " your persona : i own a house in florida . \n",
      " your persona : i enjoy american sports . \n",
      " your persona : i am a male . \n",
      " your persona : i have a children and a dogs . \n",
      " hey there how is it going ?\n",
      "Target:\n",
      "hello . all is moving great . and you ? __end__\n"
     ]
    },
    {
     "data": {
      "image/png": "[encoded data removed]",
      "text/plain": [
       "<Figure size 3600x360 with 2 Axes>"
      ]
     },
     "metadata": {
      "tags": []
     },
     "output_type": "display_data"
    },
    {
     "name": "stdout",
     "output_type": "stream",
     "text": [
      "Input:\n",
      "your persona : two dogs live with me . \n",
      " your persona : i ' ve short hair . \n",
      " your persona : i like doing the treadmill and __unk__ machine . \n",
      " your persona : i go to the gym regularly . \n",
      " hello , my name is leon . i am a audio engineer . how are you ? \n",
      " hello , leon . my dogs and i are doing well . \n",
      " that is good to hear ! i ' ve been better , my girlfriend just left me . \n",
      " oh no . i go to the gym a lot . the treadmill keeps my mind off things . \n",
      " i tend to stick indoors but maybe the gym will help , thanks . \n",
      " you are most welcome . the __unk__ machine is nice too . \n",
      " that ' s a full body work out right there . do you live in california ? \n",
      " sadly , no . my dogs and i are in ohio . \n",
      " i think i need to move . my studio is __unk__ after the decline of the market . \n",
      " oh no . i ' m moving soon as well . due to personal reasons . \n",
      " well i hope your reasons work themselves out . what kind of dogs do you have ?\n",
      "Target:\n",
      "i ' ve a springer spaniel and a lab . do you have pets ? __end__\n"
     ]
    },
    {
     "data": {
      "image/png": "[encoded data removed]",
      "text/plain": [
       "<Figure size 3600x360 with 2 Axes>"
      ]
     },
     "metadata": {
      "tags": []
     },
     "output_type": "display_data"
    },
    {
     "name": "stdout",
     "output_type": "stream",
     "text": [
      "Input:\n",
      "your persona : i ' m 13 years old . \n",
      " your persona : i ride the bus to school . \n",
      " your persona : my brother is older than me . \n",
      " your persona : i hate math class . \n",
      " your persona : i ' m on the soccer team . \n",
      " how are you doing today \n",
      " great thanks . what are you doing ? \n",
      " i am playing my favorite game \n",
      " hat game ? i love games as well , being 13 and all . \n",
      " no it is on xbox \n",
      " i ' ve an xbox too . my older brother never will let me play though . \n",
      " that isn ' t very nice\n",
      "Target:\n",
      "no , and i cry about it whilst i am on the bus for school . very sad . __end__\n"
     ]
    },
    {
     "data": {
      "image/png": "[encoded data removed]",
      "text/plain": [
       "<Figure size 3600x360 with 2 Axes>"
      ]
     },
     "metadata": {
      "tags": []
     },
     "output_type": "display_data"
    },
    {
     "name": "stdout",
     "output_type": "stream",
     "text": [
      "Input:\n",
      "your persona : i feel like i might live forever . \n",
      " your persona : i am 100 years old . \n",
      " your persona : i love to drink wine and dance in the moonlight . \n",
      " your persona : i remember when nobody had a television . \n",
      " your persona : i am very strong for my age . \n",
      " hi , tracy here . i ' m __unk__ , waitress in the daytime and race motorbikes at night . \n",
      " hi there . i ' m __unk__ who could probably live forever \n",
      " wow ! i ' ve olive skin and doe brown eyes . you believe in god ? \n",
      " yes . and i ' ve lived for 100 years ! \n",
      " great ! my helmet is red and my __unk__ is blue and my eyes are brown . \n",
      " well . i think my __unk__ is due to wine drinking and dancing under the moonlight \n",
      " cool ! i hope you live another 100 years . is dancing your work ? \n",
      " no , but i am so old , i remember the time before a television . \n",
      " wow ! are you strong like me . i love to drink red wine under the moon . \n",
      " yes ! i ' m very strong for a 100 year old ! \n",
      " great ! i ' ll be a 101 tomorrow . you like radio programs ?\n",
      "Target:\n",
      "radios , not so much . i remember the time radios shows were the norm ! __end__\n"
     ]
    },
    {
     "data": {
      "image/png": "[encoded data removed]",
      "text/plain": [
       "<Figure size 3600x360 with 2 Axes>"
      ]
     },
     "metadata": {
      "tags": []
     },
     "output_type": "display_data"
    },
    {
     "name": "stdout",
     "output_type": "stream",
     "text": [
      "Input:\n",
      "your persona : i am a stay at home dad . \n",
      " your persona : horror movies are my favorites . \n",
      " your persona : i spent a decade working in the human services field . \n",
      " your persona : my father used to work for home depot . \n",
      " hey ! how are you doing today ? \n",
      " hi ! doing great . where are you from ? \n",
      " i am from the south in the us . what about you ?\n",
      "Target:\n",
      "i live in hawaii and i work from home . __end__\n"
     ]
    },
    {
     "data": {
      "image/png": "[encoded data removed]",
      "text/plain": [
       "<Figure size 3600x360 with 2 Axes>"
      ]
     },
     "metadata": {
      "tags": []
     },
     "output_type": "display_data"
    }
   ],
   "source": [
    "for i in range(5):\n",
    "    print('Input:\\n' + inputs[i])\n",
    "    print('Target:\\n' + targets[i])\n",
    "    showAttention(inputs[i], targets[i], attns[i])\n",
    "    "
   ]
  },
  {
   "cell_type": "markdown",
   "metadata": {
    "colab_type": "text",
    "id": "q-PJ-Kqf_N-v"
   },
   "source": [
    "## 1.2 Encoder Transformer"
   ]
  },
  {
   "cell_type": "code",
   "execution_count": 0,
   "metadata": {
    "colab": {},
    "colab_type": "code",
    "id": "hPOIjPsU_N-w"
   },
   "outputs": [],
   "source": [
    "### add transformer encoder as optional encoder in seq2seq model.\n",
    "\n",
    "# code below can help you to start it, but feel free to start from scratch\n",
    "import torch.nn as nn\n",
    "from torch.nn.utils.rnn import pack_padded_sequence, pad_packed_sequence\n",
    "\n",
    "class EncoderTransformer(nn.Module):\n",
    "    def __init__(self, vocab_size, hidden_size, max_len, emb_dim, num_layers=2, nhead=4, dropout=0, pad_idx=0, shared_lt=None):\n",
    "        super().__init__()\n",
    "        self.pad_idx = pad_idx\n",
    "        \n",
    "        if shared_lt is None:\n",
    "            self.token_embed = nn.Embedding(vocab_size, embed_dim, 0) # pad_idx = 0\n",
    "        else:\n",
    "            self.token_embed = shared_lt\n",
    "        \n",
    "        self.position_encoding = nn.Embedding(max_len, emb_dim)\n",
    "\n",
    "        encoder_layer = nn.TransformerEncoderLayer(d_model=emb_dim, nhead=nhead, dim_feedforward=2048, dropout=0.0)\n",
    "        self.transformer = nn.TransformerEncoder(encoder_layer, num_layers=num_layers)\n",
    "        self.dropout = nn.Dropout(p=dropout)\n",
    "        \n",
    "    def forward(self, text_vec, text_vec_len):\n",
    "        max_len = max(text_vec_len)\n",
    "        pos_vec = torch.tensor([list(range(1, lens + 1)) + [0] * (max_len - lens) for lens in text_vec_len]).to('cuda')\n",
    "        \n",
    "        x = self.token_embed(text_vec) + self.position_encoding(pos_vec)\n",
    "\n",
    "        x = self.dropout(x)\n",
    "        attention_mask = text_vec.ne(self.pad_idx)\n",
    "        attention_mask_1 = text_vec.eq(self.pad_idx)\n",
    "        x = self.transformer(x.transpose(0,1), src_key_padding_mask=attention_mask_1).transpose(0,1)\n",
    "        \n",
    "        l = []\n",
    "        for i in range(text_vec.size(0)): # batch size\n",
    "            j = text_vec_len[i] - 1\n",
    "            l.append(x[i, j, :].unsqueeze(0))  \n",
    "        hidden = torch.cat(l, dim = 0).unsqueeze(0).repeat(2,1,1)\n",
    "\n",
    "        return x, attention_mask, hidden\n",
    "\n",
    "\n",
    "class DecoderRNN(nn.Module):\n",
    "    \"\"\"Generates a sequence of tokens in response to context.\"\"\"\n",
    "\n",
    "    def __init__(self, vocab_size, embed_size, hidden_size, num_layers, dropout=0):\n",
    "        super().__init__()\n",
    "        self.vocab_size = vocab_size\n",
    "        self.embed_size = embed_size\n",
    "        self.hidden_size = hidden_size\n",
    "        self.num_layers = num_layers\n",
    "        self.dropout = nn.Dropout(p=dropout)\n",
    "        \n",
    "        self.embedding = nn.Embedding(self.vocab_size, self.embed_size, 0)\n",
    "        \n",
    "        self.gru = nn.GRU(\n",
    "            self.embed_size, self.hidden_size, num_layers=self.num_layers, batch_first=True, dropout=dropout if num_layers > 1 else 0,\n",
    "        )\n",
    "        \n",
    "        self.attention = AttentionLayer(self.hidden_size, self.embed_size)\n",
    "\n",
    "        self.out = nn.Linear(self.hidden_size, self.vocab_size)\n",
    "        self.longest_label = 100\n",
    "\n",
    "    def forward(self, text_vec, encoder_states): # decoder_input, encoder_states\n",
    "        emb = self.embedding(text_vec)\n",
    "        emb = self.dropout(emb)\n",
    "        seqlen = text_vec.size(1)\n",
    "        encoder_output, attention_mask, decoder_hidden = encoder_states\n",
    "        \n",
    "        output = []\n",
    "        attn_w_log = []\n",
    "\n",
    "        for i in range(seqlen):\n",
    "            decoder_output, decoder_hidden = self.gru(emb[:,i,:].unsqueeze(1), decoder_hidden)\n",
    "          \n",
    "            # compute attention at each time step\n",
    "            decoder_output_attended, attn_weights = self.attention(decoder_output, encoder_output, attention_mask)\n",
    "            output.append(decoder_output_attended)\n",
    "            attn_w_log.append(attn_weights)\n",
    "            \n",
    "        output = torch.cat(output, dim=1).to(text_vec.device)\n",
    "        scores = self.out(output)\n",
    "        \n",
    "        return scores, decoder_hidden, attn_w_log\n",
    "    \n",
    "    def decode_forced(self, ys, encoder_states, xs_lens):\n",
    "        encoder_output, attention_mask, decoder_hidden = encoder_states\n",
    "        batch_size = ys.size(0)\n",
    "        target_length = ys.size(1)\n",
    "        longest_label = max(target_length, self.longest_label)\n",
    "        \n",
    "        starts = torch.Tensor([1]).long().to(self.embedding.weight.device).expand(batch_size, 1).long()  # expand to batch size\n",
    "        \n",
    "        # Teacher forcing: Feed the target as the next input\n",
    "        y_in = ys.narrow(1, 0, ys.size(1) - 1)\n",
    "        decoder_input = torch.cat([starts, y_in], 1)\n",
    "        decoder_output, decoder_hidden, attn_w_log = self.forward(decoder_input, encoder_states)\n",
    "        _, preds = decoder_output.max(dim=2)\n",
    "        \n",
    "        return decoder_output, preds, attn_w_log \n",
    "\n",
    "class AttentionLayer(nn.Module):\n",
    "\n",
    "    def __init__(self, hidden_size, embedding_size):\n",
    "        super().__init__()\n",
    "        input_dim = hidden_size\n",
    "\n",
    "        self.linear_out = nn.Linear(hidden_size+input_dim, input_dim, bias=False)\n",
    "        self.softmax = nn.Softmax(dim=-1)\n",
    "        self.tanh = nn.Tanh()\n",
    "\n",
    "    def forward(self, decoder_output, encoder_output, attention_mask):\n",
    "\n",
    "        batch_size, seq_length, hidden_size = encoder_output.size()\n",
    "\n",
    "        encoder_output_t = encoder_output.transpose(1,2)\n",
    "        \n",
    "        attention_scores = torch.bmm(decoder_output, encoder_output_t).squeeze(1)\n",
    "     \n",
    "        attention_scores.masked_fill_((~attention_mask), -10e5)\n",
    "        attention_weights = self.softmax(attention_scores)\n",
    "\n",
    "        mix = torch.bmm(attention_weights.unsqueeze(1), encoder_output)\n",
    "\n",
    "        combined = torch.cat((decoder_output.squeeze(1), mix.squeeze(1)), dim=1)\n",
    "\n",
    "        output = self.linear_out(combined).unsqueeze(1)\n",
    "        output = self.tanh(output)\n",
    "\n",
    "        return output, attention_weights      "
   ]
  },
  {
   "cell_type": "code",
   "execution_count": 0,
   "metadata": {
    "colab": {},
    "colab_type": "code",
    "id": "OMvVuko01e0L"
   },
   "outputs": [],
   "source": [
    "class seq2seq(nn.Module):\n",
    "    \"\"\"\n",
    "    Generic seq2seq model with attention mechanism.\n",
    "    \"\"\"\n",
    "    def __init__(self, opts):\n",
    "\n",
    "        super().__init__()\n",
    "        self.opts = opts\n",
    "        \n",
    "        self.decoder = DecoderRNN(\n",
    "                                    vocab_size=self.opts['vocab_size'],\n",
    "                                    embed_size=self.opts['embedding_size'],\n",
    "                                    hidden_size=self.opts['hidden_size'],\n",
    "                                    num_layers=self.opts['num_layers_dec'],\n",
    "                                    dropout=self.opts['dropout']\n",
    "                                )\n",
    "        \n",
    "        self.encoder = EncoderTransformer(\n",
    "                                    vocab_size=self.opts['vocab_size'],\n",
    "                                    hidden_size=self.opts['hidden_size'],\n",
    "                                    max_len=self.opts['max_len'],\n",
    "                                    emb_dim=self.opts['embedding_size'],\n",
    "                                    num_layers=self.opts['num_layers_enc'],\n",
    "                                    nhead=self.opts['nhead'],\n",
    "                                    dropout=self.opts['dropout'],\n",
    "                                    shared_lt=self.decoder.embedding\n",
    "        )\n",
    "        \n",
    "    def train(self):\n",
    "        self.encoder.train()\n",
    "        self.decoder.train()\n",
    "        \n",
    "    def eval(self):\n",
    "        self.encoder.eval()\n",
    "        self.decoder.eval()"
   ]
  },
  {
   "cell_type": "code",
   "execution_count": 0,
   "metadata": {
    "colab": {},
    "colab_type": "code",
    "id": "pgjncRxm1jhJ"
   },
   "outputs": [],
   "source": [
    "num_gpus = torch.cuda.device_count()\n",
    "if num_gpus > 0:\n",
    "    current_device = 'cuda'\n",
    "else:\n",
    "    current_device = 'cpu'\n",
    "\n",
    "load_pretrained = False\n",
    "    \n",
    "if load_pretrained is True:\n",
    "    if current_device == 'cuda':\n",
    "        model_pt = torch.load('./drive/My Drive/nlp4_save_model/1107_Bert_Encoder/bert3.pth')\n",
    "    else:\n",
    "        model_pt = torch.load('./drive/My Drive/nlp4_save_model/1107_Bert_Encoder/bert3.pth', map_location=torch.device('cpu'))\n",
    "    opts = model_pt['opts']\n",
    "    \n",
    "    model = seq2seq(opts)\n",
    "    model.load_state_dict(model_pt['state_dict'])\n",
    "    model.to(current_device)\n",
    "    best_val_loss = model_pt['best_val_loss']\n",
    "    \n",
    "else:\n",
    "    \n",
    "    opts = {}\n",
    "    \n",
    "    opts['vocab_size'] = len(chat_dict)\n",
    "    opts['hidden_size'] = 256\n",
    "    opts['embedding_size'] = 256\n",
    "    opts['num_layers_enc'] = 2\n",
    "    opts['num_layers_dec'] = 2\n",
    "    opts['dropout'] = 0.3\n",
    "    opts['encoder_shared_lt'] = True\n",
    "    opts['max_len'] = 700\n",
    "    opts['nhead'] = 4\n",
    "\n",
    "    model = seq2seq(opts)\n",
    "    model.to(current_device)\n",
    "    best_val_loss = 100"
   ]
  },
  {
   "cell_type": "code",
   "execution_count": 0,
   "metadata": {
    "colab": {},
    "colab_type": "code",
    "id": "83yuCwrT1mfl"
   },
   "outputs": [],
   "source": [
    "criterion = nn.CrossEntropyLoss(ignore_index=0, reduction='sum')\n",
    "optimizer = torch.optim.Adam(model.parameters(), 0.001, amsgrad=True)\n",
    "#scheduler = torch.optim.lr_scheduler.ReduceLROnPlateau(optimizer, 'min', patience=10)"
   ]
  },
  {
   "cell_type": "code",
   "execution_count": 0,
   "metadata": {
    "colab": {},
    "colab_type": "code",
    "id": "Qo9D9Koy1r3v"
   },
   "outputs": [],
   "source": [
    "import os \n",
    "import pickle\n",
    "\n",
    "if not os.path.exists('/content/drive/My Drive/nlp4_save_model'):\n",
    "  os.mkdir('/content/drive/My Drive/nlp4_save_model')\n",
    "\n",
    "model_predix = '1111_Bert_Encoder'\n",
    "path_root = '/content/drive/My Drive/nlp4_save_model/' + model_predix\n",
    "\n",
    "if not os.path.exists(path_root):\n",
    "    os.mkdir(path_root)\n",
    "\n",
    "model_para = opts\n",
    "    \n",
    "with open(os.path.join(path_root,'options.pickle'), 'wb') as handle:\n",
    "    pickle.dump(model_para, handle, protocol=pickle.HIGHEST_PROTOCOL)\n",
    "\n"
   ]
  },
  {
   "cell_type": "code",
   "execution_count": 0,
   "metadata": {
    "colab": {},
    "colab_type": "code",
    "id": "QHMvAa-IYB34"
   },
   "outputs": [],
   "source": [
    "plot_cache = []\n",
    "\n",
    "for epoch in range(10):\n",
    "    \n",
    "    model.train()\n",
    "    sum_loss = 0\n",
    "    sum_tokens = 0\n",
    "    \n",
    "    for i, batch in enumerate(train_loader):\n",
    "        optimizer.zero_grad()\n",
    "        \n",
    "        text_vecs = batch['text_vecs'].to('cuda')\n",
    "        text_lens = batch['text_lens']\n",
    "        target_vecs = batch['target_vecs'].to('cuda')\n",
    "        \n",
    "        encoded = model.encoder(text_vecs, text_lens)\n",
    "        \n",
    "        decoder_output, preds, attn_w_log = model.decoder.decode_forced(target_vecs, encoded, batch['text_lens'])\n",
    "        \n",
    "        scores = decoder_output.view(-1, decoder_output.size(-1))\n",
    "        \n",
    "        loss = criterion(scores, target_vecs.view(-1))\n",
    "        sum_loss += loss.item()\n",
    "        \n",
    "        num_tokens = target_vecs.ne(0).long().sum().item()\n",
    "        loss /= num_tokens\n",
    "        \n",
    "        sum_tokens += num_tokens\n",
    "        \n",
    "        loss.backward()\n",
    "        optimizer.step()\n",
    "        \n",
    "        if i % 100 == 0:\n",
    "            avg_train_loss = sum_loss/sum_tokens\n",
    "            print(\"iter {} train loss = {}\".format(i, sum_loss/sum_tokens))\n",
    "                    \n",
    "    val_loss = 0\n",
    "    val_tokens = 0\n",
    "    for i, batch in enumerate(valid_loader):\n",
    "        model.eval()\n",
    "        \n",
    "        text_vecs = batch['text_vecs'].to('cuda')\n",
    "        text_lens = batch['text_lens']\n",
    "        target_vecs = batch['target_vecs'].to('cuda')\n",
    "        \n",
    "        encoded = model.encoder(text_vecs, text_lens)\n",
    "        \n",
    "        decoder_output, preds, attn_w_log = model.decoder.decode_forced(target_vecs, encoded, batch['text_lens'])\n",
    "        \n",
    "        scores = decoder_output.view(-1, decoder_output.size(-1))\n",
    "        \n",
    "        loss = criterion(scores, target_vecs.view(-1))\n",
    "        \n",
    "        num_tokens = target_vecs.ne(0).long().sum().item()\n",
    "        \n",
    "        val_tokens += num_tokens\n",
    "        val_loss += loss.item()\n",
    "        \n",
    "    avg_val_loss = val_loss/val_tokens\n",
    "    #scheduler.step(avg_val_loss)\n",
    "        \n",
    "    print(\"Epoch {} valid loss = {}\".format(epoch, avg_val_loss))\n",
    "    \n",
    "    plot_cache.append( (avg_train_loss, avg_val_loss) )\n",
    "    \n",
    "    if avg_val_loss < best_val_loss:\n",
    "        best_val_loss = avg_val_loss\n",
    "    \n",
    "    model_path = os.path.join(path_root,'bert'+ str(epoch)+'.pth')\n",
    "    torch.save({\n",
    "        'best_val_loss': best_val_loss,\n",
    "        'state_dict': model.state_dict(),\n",
    "        'opts': opts,\n",
    "        'plot_cache': plot_cache,\n",
    "        }, model_path)"
   ]
  },
  {
   "cell_type": "code",
   "execution_count": 0,
   "metadata": {
    "colab": {},
    "colab_type": "code",
    "id": "TUST1-g910ps"
   },
   "outputs": [],
   "source": [
    "num_gpus = torch.cuda.device_count()\n",
    "if num_gpus > 0:\n",
    "    current_device = 'cuda'\n",
    "else:\n",
    "    current_device = 'cpu'\n",
    "\n",
    "best_model = '/bert9.pth'\n",
    "if current_device == 'cuda':\n",
    "    model_pt = torch.load(path_root + best_model)\n",
    "else:\n",
    "    model_pt = torch.load(path_root + best_model, map_location=torch.device('cpu'))"
   ]
  },
  {
   "cell_type": "code",
   "execution_count": 0,
   "metadata": {
    "colab": {},
    "colab_type": "code",
    "id": "teLHU3-x13dW"
   },
   "outputs": [],
   "source": [
    "plot_cache = model_pt['plot_cache']"
   ]
  },
  {
   "cell_type": "markdown",
   "metadata": {
    "colab_type": "text",
    "id": "kUerEt0C_N-z"
   },
   "source": [
    "## You present here:"
   ]
  },
  {
   "cell_type": "code",
   "execution_count": 0,
   "metadata": {
    "colab": {},
    "colab_type": "code",
    "id": "hVsHeDZ9_N-0"
   },
   "outputs": [],
   "source": [
    "# check pdf to see what you expected to present"
   ]
  },
  {
   "cell_type": "code",
   "execution_count": 51,
   "metadata": {
    "colab": {
     "base_uri": "https://localhost:8080/",
     "height": 281
    },
    "colab_type": "code",
    "id": "jtxXB7Ub_N-5",
    "outputId": "fd957baa-8808-4894-8652-7c71359856e2"
   },
   "outputs": [
    {
     "data": {
      "image/png": "[encoded data removed]",
      "text/plain": [
       "<Figure size 432x288 with 1 Axes>"
      ]
     },
     "metadata": {
      "tags": []
     },
     "output_type": "display_data"
    }
   ],
   "source": [
    "import matplotlib.pyplot as plt\n",
    "import numpy\n",
    "\n",
    "epochs = numpy.array(list(range(len(plot_cache))))\n",
    "plt.plot(epochs, [i[0] for i in plot_cache], label='Train loss')\n",
    "plt.plot(epochs, [i[1] for i in plot_cache], label='Valid loss')\n",
    "\n",
    "plt.legend()\n",
    "plt.title('Loss curves')\n",
    "plt.show()"
   ]
  },
  {
   "cell_type": "code",
   "execution_count": 52,
   "metadata": {
    "colab": {
     "base_uri": "https://localhost:8080/",
     "height": 281
    },
    "colab_type": "code",
    "id": "P-Xgp41t2Abs",
    "outputId": "38a58674-d03f-4f64-c2a6-8d023a0c34d4"
   },
   "outputs": [
    {
     "data": {
      "image/png": "[encoded data removed]",
      "text/plain": [
       "<Figure size 432x288 with 1 Axes>"
      ]
     },
     "metadata": {
      "tags": []
     },
     "output_type": "display_data"
    }
   ],
   "source": [
    "import matplotlib.pyplot as plt\n",
    "import numpy\n",
    "\n",
    "epochs = numpy.array(list(range(len(plot_cache))))\n",
    "plt.plot(epochs, [2**(i[0]/numpy.log(2)) for i in plot_cache], label='Train ppl')\n",
    "plt.plot(epochs, [2**(i[1]/numpy.log(2)) for i in plot_cache], label='Valid ppl')\n",
    "\n",
    "plt.legend()\n",
    "plt.title('PPL curves')\n",
    "plt.show()"
   ]
  },
  {
   "cell_type": "code",
   "execution_count": 53,
   "metadata": {
    "colab": {
     "base_uri": "https://localhost:8080/",
     "height": 34
    },
    "colab_type": "code",
    "id": "iBwbdIlY2D9l",
    "outputId": "0209c87d-3412-4d55-a77d-8861e2bb12f1"
   },
   "outputs": [
    {
     "name": "stdout",
     "output_type": "stream",
     "text": [
      "The lowest validation ppl is 42.86508704571175.\n"
     ]
    }
   ],
   "source": [
    "val_loss_min = min([i[1] for i in plot_cache])\n",
    "val_ppl_min = min([2**(i[1]/numpy.log(2)) for i in plot_cache])\n",
    "print('The lowest validation ppl is {}.'.format(val_ppl_min))"
   ]
  },
  {
   "cell_type": "code",
   "execution_count": 69,
   "metadata": {
    "colab": {
     "base_uri": "https://localhost:8080/",
     "height": 34
    },
    "colab_type": "code",
    "id": "y5gXvWyfc3-v",
    "outputId": "766d3724-01c9-4856-f254-be5697532508"
   },
   "outputs": [
    {
     "name": "stdout",
     "output_type": "stream",
     "text": [
      "40e7157d50cd5cdada8a7d8dd1fb43a5  /content/drive/My Drive/nlp4_save_model/1111_Bert_Encoder/bert9.pth\n"
     ]
    }
   ],
   "source": [
    "!md5sum '/content/drive/My Drive/nlp4_save_model/1111_Bert_Encoder/bert9.pth'"
   ]
  },
  {
   "cell_type": "markdown",
   "metadata": {
    "colab_type": "text",
    "id": "CiNkh-vB_N-_"
   },
   "source": [
    "# Part 2 Decoding"
   ]
  },
  {
   "cell_type": "code",
   "execution_count": 10,
   "metadata": {
    "colab": {},
    "colab_type": "code",
    "id": "Y8x37jtiDuF4"
   },
   "outputs": [],
   "source": [
    "import re\n",
    "from collections import Counter\n",
    "from tqdm import tqdm\n",
    "import json\n",
    "from torch.utils.data import Dataset, DataLoader\n",
    "import torch\n",
    "import numpy as np"
   ]
  },
  {
   "cell_type": "code",
   "execution_count": 11,
   "metadata": {
    "colab": {},
    "colab_type": "code",
    "id": "EpBVGpX9DvnI"
   },
   "outputs": [],
   "source": [
    "RETOK = re.compile(r'\\w+|[^\\w\\s]|\\n', re.UNICODE)"
   ]
  },
  {
   "cell_type": "code",
   "execution_count": 12,
   "metadata": {
    "colab": {},
    "colab_type": "code",
    "id": "cyuFc4HfD4xy"
   },
   "outputs": [],
   "source": [
    "class ChatDictionary(object):\n",
    "    \"\"\"\n",
    "    Simple dict loader\n",
    "    \"\"\"\n",
    "    def __init__(self, dict_file_path):\n",
    "        self.word2ind = {}  # word:index\n",
    "        self.ind2word = {}  # index:word\n",
    "        self.counts = {}  # word:count\n",
    "\n",
    "        dict_raw = open(dict_file_path, 'r').readlines()\n",
    "        \n",
    "        for i, w in enumerate(dict_raw):\n",
    "            _word, _count = w.strip().split('\\t')\n",
    "            if _word == '\\\\n':\n",
    "                _word = '\\n'\n",
    "            self.word2ind[_word] = i\n",
    "            self.ind2word[i] = _word\n",
    "            self.counts[_word] = _count\n",
    "            \n",
    "    def t2v(self, tokenized_text):\n",
    "        return [self.word2ind[w] if w in self.counts else self.word2ind['__unk__'] for w in tokenized_text]\n",
    "\n",
    "    def v2t(self, list_ids):\n",
    "        return ' '.join([self.ind2word[i] for i in list_ids])\n",
    "    \n",
    "    def pred2text(self, tensor):\n",
    "        result = []\n",
    "        for i in range(tensor.size(0)):\n",
    "            if tensor[i].item() == '__end__'  or tensor[i].item() == '__null__':  # null is pad\n",
    "                break\n",
    "            else:\n",
    "                result.append(self.ind2word[tensor[i].item()])\n",
    "        return ' '.join(result)\n",
    "    \n",
    "    def __len__(self):\n",
    "        return len(self.counts)"
   ]
  },
  {
   "cell_type": "code",
   "execution_count": 13,
   "metadata": {
    "colab": {},
    "colab_type": "code",
    "id": "hfu6XIogD8rt"
   },
   "outputs": [],
   "source": [
    "class ChatDataset(Dataset):\n",
    "    \"\"\"\n",
    "    Json dataset wrapper\n",
    "    \"\"\"\n",
    "    \n",
    "    def __init__(self, dataset_file_path, dictionary, dt='train'):\n",
    "        super().__init__()\n",
    "        \n",
    "        json_text = open(dataset_file_path, 'r').readlines()\n",
    "        self.samples = []\n",
    "        \n",
    "        for sample in tqdm(json_text):\n",
    "            sample = sample.rstrip()\n",
    "            sample = json.loads(sample)\n",
    "            _inp_toked = RETOK.findall(sample['text'])\n",
    "            _inp_toked_id = dictionary.t2v(_inp_toked)\n",
    "\n",
    "            sample['text_vec'] = torch.tensor(_inp_toked_id, dtype=torch.long)\n",
    "            \n",
    "            # train and valid have different key names for target\n",
    "            if dt == 'train':\n",
    "                _tar_toked = RETOK.findall(sample['labels'][0]) + ['__end__']\n",
    "            elif dt == 'valid':\n",
    "                _tar_toked = RETOK.findall(sample['eval_labels'][0]) + ['__end__']\n",
    "                \n",
    "            _tar_toked_id = dictionary.t2v(_tar_toked)\n",
    "            \n",
    "            sample['target_vec'] = torch.tensor(_tar_toked_id, dtype=torch.long)\n",
    "            \n",
    "            self.samples.append(sample)\n",
    "            \n",
    "    def __getitem__(self, i):\n",
    "        return self.samples[i]['text_vec'], self.samples[i]['target_vec']\n",
    "    \n",
    "    def __len__(self):\n",
    "        return len(self.samples)"
   ]
  },
  {
   "cell_type": "code",
   "execution_count": 14,
   "metadata": {
    "colab": {},
    "colab_type": "code",
    "id": "HIiONf1AD_Un"
   },
   "outputs": [],
   "source": [
    "def pad_tensor(tensors, sort=True, pad_token=0):\n",
    "    rows = len(tensors)\n",
    "    lengths = [len(i) for i in tensors]\n",
    "    max_t = max(lengths)\n",
    "        \n",
    "    output = tensors[0].new(rows, max_t)\n",
    "    output.fill_(pad_token)  # 0 is a pad token here\n",
    "    \n",
    "    for i, (tensor, length) in enumerate(zip(tensors, lengths)):\n",
    "        output[i,:length] = tensor\n",
    "\n",
    "    return output, lengths\n",
    "\n",
    "def argsort(keys, *lists, descending=False):\n",
    "    \"\"\"Reorder each list in lists by the (descending) sorted order of keys.\n",
    "    :param iter keys: Keys to order by.\n",
    "    :param list[list] lists: Lists to reordered by keys's order.\n",
    "                             Correctly handles lists and 1-D tensors.\n",
    "    :param bool descending: Use descending order if true.\n",
    "    :returns: The reordered items.\n",
    "    \"\"\"\n",
    "    ind_sorted = sorted(range(len(keys)), key=lambda k: keys[k])\n",
    "    if descending:\n",
    "        ind_sorted = list(reversed(ind_sorted))\n",
    "    output = []\n",
    "    for lst in lists:\n",
    "        if isinstance(lst, torch.Tensor):\n",
    "            output.append(lst[ind_sorted])\n",
    "        else:\n",
    "            output.append([lst[i] for i in ind_sorted])\n",
    "    return output\n",
    "\n",
    "def batchify(batch):\n",
    "    inputs = [i[0] for i in batch]\n",
    "    labels = [i[1] for i in batch]\n",
    "    \n",
    "    input_vecs, input_lens = pad_tensor(inputs)\n",
    "    label_vecs, label_lens = pad_tensor(labels)\n",
    "    \n",
    "    # sort only wrt inputs here for encoder packinng\n",
    "    input_vecs, input_lens, label_vecs, label_lens = argsort(input_lens, input_vecs, input_lens, label_vecs, label_lens, descending=True)\n",
    "\n",
    "    return {\n",
    "        \"text_vecs\": input_vecs,\n",
    "        \"text_lens\": input_lens,\n",
    "        \"target_vecs\": label_vecs,\n",
    "        \"target_lens\": label_lens,\n",
    "        'use_packed': True\n",
    "    }"
   ]
  },
  {
   "cell_type": "markdown",
   "metadata": {
    "colab_type": "text",
    "id": "-vm3dpU0_N_A"
   },
   "source": [
    "## 2.1 Nucleus Sampling"
   ]
  },
  {
   "cell_type": "code",
   "execution_count": 15,
   "metadata": {
    "colab": {},
    "colab_type": "code",
    "id": "BRIXsE_X_N_B"
   },
   "outputs": [],
   "source": [
    "# implement nucleus sampling here.\n",
    "# you must cite any code you use from other sources!"
   ]
  },
  {
   "cell_type": "code",
   "execution_count": 16,
   "metadata": {
    "colab": {
     "base_uri": "https://localhost:8080/",
     "height": 1000
    },
    "colab_type": "code",
    "id": "RoR2JGkmC5wm",
    "outputId": "0d095732-bf0d-4039-8eb4-30c8ef5db55a"
   },
   "outputs": [
    {
     "name": "stderr",
     "output_type": "stream",
     "text": [
      "100%|██████████| 131438/131438 [00:21<00:00, 5984.88it/s]\n",
      "100%|██████████| 7801/7801 [00:01<00:00, 5219.99it/s]\n"
     ]
    }
   ],
   "source": [
    "# loading datasets and dictionary\n",
    "\n",
    "# downloading pretrained models and data\n",
    "\n",
    "### DOWNLOADING THE FILES\n",
    "import os\n",
    "\n",
    "### persona chat dataset\n",
    "if not os.path.exists('./dict'):\n",
    "    !wget \"https://nyu.box.com/shared/static/sj9f87tofpicll89xbc154pmbztu5q4h\" -O './dict'\n",
    "if not os.path.exists('./train.jsonl'):\n",
    "    !wget \"https://nyu.box.com/shared/static/aqp0jyjaixjmukm5asasivq2bcfze075.jsonl\" -O './train.jsonl'\n",
    "if not os.path.exists('./valid.jsonl'):\n",
    "    !wget \"https://nyu.box.com/shared/static/eg4ivddtqib2hkf1k8rkxnmzmo0cq27p.jsonl\" -O './valid.jsonl'\n",
    "\n",
    "if not os.path.exists('./chat_model_best_22.pt'):\n",
    "    !wget \"https://nyu.box.com/shared/static/24zsynuks8nzg7530tgakzh8o62id9xa.pt\" -O './chat_model_best_22.pt'\n",
    "\n",
    "chat_dict = ChatDictionary('./dict')\n",
    "train_dataset = ChatDataset('./train.jsonl', chat_dict)\n",
    "valid_dataset = ChatDataset('./valid.jsonl', chat_dict, 'valid')"
   ]
  },
  {
   "cell_type": "code",
   "execution_count": 17,
   "metadata": {
    "colab": {},
    "colab_type": "code",
    "id": "9Ee8KsXiEXnc"
   },
   "outputs": [],
   "source": [
    "train_loader = DataLoader(train_dataset, shuffle=True, collate_fn=batchify, batch_size=256)\n",
    "valid_loader = DataLoader(valid_dataset, shuffle=False, collate_fn=batchify, batch_size=256)"
   ]
  },
  {
   "cell_type": "code",
   "execution_count": 18,
   "metadata": {
    "colab": {},
    "colab_type": "code",
    "id": "0YPr6yKREq81"
   },
   "outputs": [],
   "source": [
    "import torch.nn as nn\n",
    "from torch.nn.utils.rnn import pack_padded_sequence, pad_packed_sequence\n",
    "\n",
    "class EncoderRNN(nn.Module):\n",
    "    \"\"\"Encodes the input context.\"\"\"\n",
    "\n",
    "    def __init__(self, vocab_size, embed_size, hidden_size, num_layers, pad_idx=0, dropout=0, shared_lt=None):\n",
    "        super().__init__()\n",
    "        self.vocab_size = vocab_size\n",
    "        self.embed_size = embed_size\n",
    "        self.hidden_size = hidden_size\n",
    "        self.num_layers = num_layers\n",
    "        self.dropout = nn.Dropout(p=dropout)\n",
    "        self.pad_idx = pad_idx\n",
    "        \n",
    "        if shared_lt is None:\n",
    "            self.embedding = nn.Embedding(self.vocab_size, self.embed_size, pad_idx)\n",
    "        else:\n",
    "            self.embedding = shared_lt\n",
    "            \n",
    "        self.gru = nn.GRU(\n",
    "            self.embed_size, self.hidden_size, num_layers=self.num_layers, batch_first=True, dropout=dropout if num_layers > 1 else 0,\n",
    "        )\n",
    "        \n",
    "        \n",
    "    def forward(self, text_vec, text_lens, hidden=None, use_packed=True):\n",
    "        embedded = self.embedding(text_vec)\n",
    "        attention_mask = text_vec.ne(self.pad_idx)\n",
    "\n",
    "        embedded = self.dropout(embedded)\n",
    "        if use_packed is True:\n",
    "            embedded = pack_padded_sequence(embedded, text_lens, batch_first=True)\n",
    "        output, hidden = self.gru(embedded, hidden)\n",
    "        if use_packed is True:\n",
    "            output, output_lens = pad_packed_sequence(output, batch_first=True)\n",
    "        \n",
    "        return output, hidden, attention_mask\n",
    "\n",
    "    \n",
    "class DecoderRNN(nn.Module):\n",
    "    \"\"\"Generates a sequence of tokens in response to context.\"\"\"\n",
    "\n",
    "    def __init__(self, vocab_size, embed_size, hidden_size, num_layers, dropout=0):\n",
    "        super().__init__()\n",
    "        self.vocab_size = vocab_size\n",
    "        self.embed_size = embed_size\n",
    "        self.hidden_size = hidden_size\n",
    "        self.num_layers = num_layers\n",
    "        self.dropout = nn.Dropout(p=dropout)\n",
    "        \n",
    "        self.embedding = nn.Embedding(self.vocab_size, self.embed_size, 0)\n",
    "        \n",
    "        self.gru = nn.GRU(\n",
    "            self.embed_size, self.hidden_size, num_layers=self.num_layers, batch_first=True, dropout=dropout if num_layers > 1 else 0,\n",
    "        )\n",
    "        \n",
    "        self.attention = AttentionLayer(self.hidden_size, self.embed_size)\n",
    "\n",
    "        self.out = nn.Linear(self.hidden_size, self.vocab_size)\n",
    "        self.longest_label = 100\n",
    "\n",
    "    def forward(self, text_vec, decoder_hidden, encoder_states):\n",
    "        emb = self.embedding(text_vec)\n",
    "        emb = self.dropout(emb)\n",
    "        seqlen = text_vec.size(1)\n",
    "        encoder_output, encoder_hidden, attention_mask = encoder_states\n",
    "        \n",
    "        decoder_hidden = decoder_hidden\n",
    "        output = []\n",
    "        attn_w_log = []\n",
    "\n",
    "        for i in range(seqlen):\n",
    "            decoder_output, decoder_hidden = self.gru(emb[:,i,:].unsqueeze(1), decoder_hidden)\n",
    "            \n",
    "            # compute attention at each time step\n",
    "            decoder_output_attended, attn_weights = self.attention(decoder_output, decoder_hidden, encoder_output, attention_mask)\n",
    "            output.append(decoder_output_attended)\n",
    "            attn_w_log.append(attn_weights)\n",
    "            \n",
    "        output = torch.cat(output, dim=1).to(text_vec.device)\n",
    "        scores = self.out(output)\n",
    "        \n",
    "        return scores, decoder_hidden, attn_w_log\n",
    "    \n",
    "    def decode_forced(self, ys, encoder_states, xs_lens):\n",
    "        encoder_output, encoder_hidden, attention_mask = encoder_states\n",
    "        \n",
    "        batch_size = ys.size(0)\n",
    "        target_length = ys.size(1)\n",
    "        longest_label = max(target_length, self.longest_label)\n",
    "        \n",
    "        starts = torch.Tensor([1]).long().to(self.embedding.weight.device).expand(batch_size, 1).long()  # expand to batch size\n",
    "        \n",
    "        # Teacher forcing: Feed the target as the next input\n",
    "        y_in = ys.narrow(1, 0, ys.size(1) - 1)\n",
    "        decoder_input = torch.cat([starts, y_in], 1)\n",
    "        decoder_output, decoder_hidden, attn_w_log = self.forward(decoder_input, encoder_hidden, encoder_states)\n",
    "        _, preds = decoder_output.max(dim=2)\n",
    "        \n",
    "        return decoder_output, preds, attn_w_log\n",
    "    \n",
    "    \n",
    "class AttentionLayer(nn.Module):\n",
    "\n",
    "    def __init__(self, hidden_size, embedding_size):\n",
    "        super().__init__()\n",
    "        input_dim = hidden_size\n",
    "\n",
    "        self.linear_out = nn.Linear(hidden_size+input_dim, input_dim, bias=False)\n",
    "        self.softmax = nn.Softmax(dim=-1)\n",
    "        self.tanh = nn.Tanh()\n",
    "\n",
    "    def forward(self, decoder_output, decoder_hidden, encoder_output, attention_mask):\n",
    "\n",
    "        batch_size, seq_length, hidden_size = encoder_output.size()\n",
    "\n",
    "        encoder_output_t = encoder_output.transpose(1,2)\n",
    "        \n",
    "        attention_scores = torch.bmm(decoder_output, encoder_output_t).squeeze(1)\n",
    "\n",
    "        attention_scores.masked_fill_((~attention_mask), -10e5)\n",
    "        attention_weights = self.softmax(attention_scores)\n",
    "\n",
    "        mix = torch.bmm(attention_weights.unsqueeze(1), encoder_output)\n",
    "\n",
    "        combined = torch.cat((decoder_output.squeeze(1), mix.squeeze(1)), dim=1)\n",
    "\n",
    "        output = self.linear_out(combined).unsqueeze(1)\n",
    "        output = self.tanh(output)\n",
    "\n",
    "        return output, attention_weights\n",
    "    \n",
    "    \n",
    "class seq2seq(nn.Module):\n",
    "    \"\"\"\n",
    "    Generic seq2seq model with attention mechanism.\n",
    "    \"\"\"\n",
    "    def __init__(self, opts):\n",
    "\n",
    "        super().__init__()\n",
    "        self.opts = opts\n",
    "        \n",
    "        self.decoder = DecoderRNN(\n",
    "                                    vocab_size=self.opts['vocab_size'],\n",
    "                                    embed_size=self.opts['embedding_size'],\n",
    "                                    hidden_size=self.opts['hidden_size'],\n",
    "                                    num_layers=self.opts['num_layers_dec'],\n",
    "                                    dropout=self.opts['dropout'],\n",
    "                                )\n",
    "        \n",
    "        self.encoder = EncoderRNN(\n",
    "                                    vocab_size=self.opts['vocab_size'],\n",
    "                                    embed_size=self.opts['embedding_size'],\n",
    "                                    hidden_size=self.opts['hidden_size'],\n",
    "                                    num_layers=self.opts['num_layers_enc'],\n",
    "                                    dropout=self.opts['dropout'],\n",
    "                                    shared_lt=self.decoder.embedding\n",
    "        )\n",
    "        \n",
    "    def train(self):\n",
    "        self.encoder.train()\n",
    "        self.decoder.train()\n",
    "        \n",
    "    def eval(self):\n",
    "        self.encoder.eval()\n",
    "        self.decoder.eval()"
   ]
  },
  {
   "cell_type": "code",
   "execution_count": 19,
   "metadata": {
    "colab": {},
    "colab_type": "code",
    "id": "DXmHSCiwJZZY"
   },
   "outputs": [],
   "source": [
    "num_gpus = torch.cuda.device_count()\n",
    "num_gpus = 0\n",
    "if num_gpus > 0:\n",
    "    current_device = 'cuda'\n",
    "else:\n",
    "    current_device = 'cpu'\n",
    "\n",
    "load_pretrained = True\n",
    "    \n",
    "if load_pretrained is True:\n",
    "    if current_device == 'cuda':\n",
    "        model_pt = torch.load('./chat_model_best_22.pt')\n",
    "    else:\n",
    "        model_pt = torch.load('./chat_model_best_22.pt', map_location=torch.device('cpu'))\n",
    "    opts = model_pt['opts']\n",
    "    \n",
    "    model = seq2seq(opts)\n",
    "    model.load_state_dict(model_pt['state_dict'])\n",
    "    model.to(current_device)\n",
    "    \n",
    "else:\n",
    "    \n",
    "    opts = {}\n",
    "\n",
    "    opts['vocab_size'] = len(chat_dict)\n",
    "    opts['hidden_size'] = 512\n",
    "    opts['embedding_size'] = 256\n",
    "    opts['num_layers_enc'] = 2\n",
    "    opts['num_layers_dec'] = 2\n",
    "    opts['dropout'] = 0.3\n",
    "    opts['encoder_shared_lt'] = True\n",
    "\n",
    "    model = seq2seq(opts)\n",
    "    model.to(current_device)"
   ]
  },
  {
   "cell_type": "markdown",
   "metadata": {
    "colab_type": "text",
    "id": "0y2lgebTnJYM"
   },
   "source": [
    "### Nucleus Sampling Function"
   ]
  },
  {
   "cell_type": "code",
   "execution_count": 20,
   "metadata": {
    "colab": {},
    "colab_type": "code",
    "id": "6nrqxj57nItJ"
   },
   "outputs": [],
   "source": [
    "def nucleus_sampling(model, batch, batch_size, para_nucleus):\n",
    "    model.eval()\n",
    "        \n",
    "    text_vecs = batch['text_vecs'].to(current_device)\n",
    "\n",
    "    encoded = model.encoder(text_vecs, batch['text_lens'], use_packed=batch['use_packed'])\n",
    "    \n",
    "    encoder_output, encoder_hidden, attention_mask = encoded\n",
    "        \n",
    "    # 1 is __start__\n",
    "    starts = torch.Tensor([1]).long().to(model.decoder.embedding.weight.device).expand(batch_size, 1).long()  # expand to batch size\n",
    "    decoder_hidden = encoder_hidden\n",
    "\n",
    "    # greedy decoding here        \n",
    "    preds = [starts]\n",
    "    scores = []\n",
    "    tokens_record = []\n",
    "\n",
    "    # track if each sample in the mini batch is finished\n",
    "    # if all finished, stop predicting\n",
    "    finish_mask = torch.Tensor([0]*batch_size).byte().to(model.decoder.embedding.weight.device)\n",
    "    xs = starts\n",
    "    _attn_w_log = []\n",
    "\n",
    "    for ts in range(100):\n",
    "        decoder_output, decoder_hidden, attn_w_log = model.decoder(xs, decoder_hidden, encoded)  # decoder_output: [batch, time, vocab]\n",
    "        nucleus_scores = torch.log_softmax(decoder_output, dim=-1).view(-1)\n",
    "        probs_conditional = torch.softmax(decoder_output, dim=-1).view(-1)\n",
    "        nucleus_scores_sorted, indices = torch.sort(nucleus_scores, descending=True)\n",
    "        probs_sorted, indices = torch.sort(probs_conditional, descending=True)\n",
    "        \n",
    "        #generate subset\n",
    "        sum_probs_token = 0\n",
    "        for ind, probs_token in enumerate(probs_sorted):\n",
    "          sum_probs_token = sum_probs_token + probs_token\n",
    "          num = ind + 1\n",
    "          if sum_probs_token > para_nucleus:\n",
    "            break\n",
    "        #print('subset size:',num)\n",
    "        subset = indices[:num]\n",
    "        probs_new = probs_sorted[:num]/sum(probs_sorted[:num])\n",
    "        scores_new = nucleus_scores_sorted[:num]\n",
    "        assert len(subset)==len(probs_new)\n",
    "        assert len(subset)==len(scores_new)\n",
    "\n",
    "        #sampling with multinomial\n",
    "        experiments = torch.multinomial(probs_new, 1, replacement = True)\n",
    "        _preds = subset[experiments].unsqueeze(0)\n",
    "        _scores = scores_new[experiments]\n",
    "        \n",
    "        preds.append(_preds)\n",
    "        tokens_record.append(_preds.view(-1).tolist()[0])\n",
    "        _attn_w_log.append(attn_w_log)\n",
    "        scores.append(_scores.view(-1)*(finish_mask == 0).float())\n",
    "\n",
    "        finish_mask += (_preds == 2).byte().view(-1)\n",
    "        \n",
    "        if not (torch.any(~finish_mask.bool())):\n",
    "            break\n",
    "        \n",
    "        xs = _preds\n",
    "    preds = torch.cat(preds, dim=-1)\n",
    "    log_probability = 0\n",
    "    for i in scores:\n",
    "      log_probability += i\n",
    "    #print(log_probability)\n",
    "        \n",
    "    return preds, log_probability, tokens_record"
   ]
  },
  {
   "cell_type": "code",
   "execution_count": 21,
   "metadata": {
    "colab": {},
    "colab_type": "code",
    "id": "Wfs29I6ToNzf"
   },
   "outputs": [],
   "source": [
    "def run_sample(para_nucleus, sample_times, inputs):\n",
    "  test_batch = {\n",
    "    'text_vecs': torch.tensor([chat_dict.t2v(inputs)], dtype=torch.long, device=model.decoder.embedding.weight.device),\n",
    "    'text_lens': torch.tensor([len(inputs)], dtype=torch.long),\n",
    "    'use_packed': True,\n",
    "    }\n",
    "\n",
    "  log_probability_list = []\n",
    "  tokens_record_list = []\n",
    "  for i in range(sample_times):\n",
    "    output, log_probability, tokens_record = nucleus_sampling(model, test_batch, 1, para_nucleus)\n",
    "    print(chat_dict.v2t(output[0].tolist()))\n",
    "    log_probability_list.append(log_probability)\n",
    "    tokens_record_list += tokens_record\n",
    "\n",
    "  sampled_toks_unique = len(set(tokens_record_list))\n",
    "  average_log_probs = 0\n",
    "  for i in range(len(log_probability_list)):\n",
    "    average_log_probs += log_probability_list[i]\n",
    "  average_log_probs = average_log_probs/len(log_probability_list)\n",
    "\n",
    "  print(average_log_probs)\n",
    "  print(sampled_toks_unique)\n",
    "\n",
    "  return average_log_probs, sampled_toks_unique\n"
   ]
  },
  {
   "cell_type": "code",
   "execution_count": 22,
   "metadata": {
    "colab": {},
    "colab_type": "code",
    "id": "uIXsYLo2oKfM"
   },
   "outputs": [],
   "source": [
    "# artificial example (try removing the question mark, result will be different)\n",
    "#inputs = RETOK.findall(\"hello , where are you from?\")\n",
    "inputs = RETOK.findall(\"your persona: i live in texas.\\n hello , where are you ? ?\")"
   ]
  },
  {
   "cell_type": "markdown",
   "metadata": {
    "colab_type": "text",
    "id": "_i3BCfmKfiVz"
   },
   "source": [
    "#### parameter = 0.1"
   ]
  },
  {
   "cell_type": "code",
   "execution_count": 14,
   "metadata": {
    "colab": {
     "base_uri": "https://localhost:8080/",
     "height": 1000
    },
    "colab_type": "code",
    "id": "xVOXPOIGgt3e",
    "outputId": "edccc050-3e46-4c38-a694-ae5ce7c19101"
   },
   "outputs": [
    {
     "name": "stdout",
     "output_type": "stream",
     "text": [
      "__start__ i am from california , where are you from ? __end__\n",
      "__start__ i am from california , where are you from ? __end__\n",
      "__start__ i am from california , where are you from ? __end__\n",
      "__start__ i am from california , where are you from ? __end__\n",
      "__start__ i am from california , where are you from ? __end__\n",
      "__start__ i am from california , where are you from ? __end__\n",
      "__start__ i am from california , where are you from ? __end__\n",
      "__start__ i am from california , where are you from ? __end__\n",
      "__start__ i am from california , where are you from ? __end__\n",
      "__start__ i am from california , where are you from ? __end__\n",
      "__start__ i am from california , where are you from ? __end__\n",
      "__start__ i am from california , where are you from ? __end__\n",
      "__start__ i am from california , where are you from ? __end__\n",
      "__start__ i am from california , where are you from ? __end__\n",
      "__start__ i am from california , where are you from ? __end__\n",
      "__start__ i am from california , where are you from ? __end__\n",
      "__start__ i am from california , where are you from ? __end__\n",
      "__start__ i am from california , where are you from ? __end__\n",
      "__start__ i am from california , where are you from ? __end__\n",
      "__start__ i am from california , where are you from ? __end__\n",
      "__start__ i am from california , where are you from ? __end__\n",
      "__start__ i am from california , where are you from ? __end__\n",
      "__start__ i am from california , where are you from ? __end__\n",
      "__start__ i am from california , where are you from ? __end__\n",
      "__start__ i am from california , where are you from ? __end__\n",
      "__start__ i am from california , where are you from ? __end__\n",
      "__start__ i am from california , where are you from ? __end__\n",
      "__start__ i am from california , where are you from ? __end__\n",
      "__start__ i am from california , where are you from ? __end__\n",
      "__start__ i am from california , where are you from ? __end__\n",
      "__start__ i am from california , where are you from ? __end__\n",
      "__start__ i am from california , where are you from ? __end__\n",
      "__start__ i am from california , where are you from ? __end__\n",
      "__start__ i am from california , where are you from ? __end__\n",
      "__start__ i am from california , where are you from ? __end__\n",
      "__start__ i am from california , where are you from ? __end__\n",
      "__start__ i am from california , where are you from ? __end__\n",
      "__start__ i am from california , where are you from ? __end__\n",
      "__start__ i am from california , where are you from ? __end__\n",
      "__start__ i am from california , where are you from ? __end__\n",
      "__start__ i am from california , where are you from ? __end__\n",
      "__start__ i am from california , where are you from ? __end__\n",
      "__start__ i am from california , where are you from ? __end__\n",
      "__start__ i am from california , where are you from ? __end__\n",
      "__start__ i am from california , where are you from ? __end__\n",
      "__start__ i am from california , where are you from ? __end__\n",
      "__start__ i am from california , where are you from ? __end__\n",
      "__start__ i am from california , where are you from ? __end__\n",
      "__start__ i am from california , where are you from ? __end__\n",
      "__start__ i am from california , where are you from ? __end__\n",
      "__start__ i am from california , where are you from ? __end__\n",
      "__start__ i am from california , where are you from ? __end__\n",
      "__start__ i am from california , where are you from ? __end__\n",
      "__start__ i am from california , where are you from ? __end__\n",
      "__start__ i am from california , where are you from ? __end__\n",
      "__start__ i am from california , where are you from ? __end__\n",
      "__start__ i am from california , where are you from ? __end__\n",
      "__start__ i am from california , where are you from ? __end__\n",
      "__start__ i am from california , where are you from ? __end__\n",
      "__start__ i am from california , where are you from ? __end__\n",
      "__start__ i am from california , where are you from ? __end__\n",
      "__start__ i am from california , where are you from ? __end__\n",
      "__start__ i am from california , where are you from ? __end__\n",
      "__start__ i am from california , where are you from ? __end__\n",
      "__start__ i am from california , where are you from ? __end__\n",
      "__start__ i am from california , where are you from ? __end__\n",
      "__start__ i am from california , where are you from ? __end__\n",
      "__start__ i am from california , where are you from ? __end__\n",
      "__start__ i am from california , where are you from ? __end__\n",
      "__start__ i am from california , where are you from ? __end__\n",
      "__start__ i am from california , where are you from ? __end__\n",
      "__start__ i am from california , where are you from ? __end__\n",
      "__start__ i am from california , where are you from ? __end__\n",
      "__start__ i am from california , where are you from ? __end__\n",
      "__start__ i am from california , where are you from ? __end__\n",
      "__start__ i am from california , where are you from ? __end__\n",
      "__start__ i am from california , where are you from ? __end__\n",
      "__start__ i am from california , where are you from ? __end__\n",
      "__start__ i am from california , where are you from ? __end__\n",
      "__start__ i am from california , where are you from ? __end__\n",
      "__start__ i am from california , where are you from ? __end__\n",
      "__start__ i am from california , where are you from ? __end__\n",
      "__start__ i am from california , where are you from ? __end__\n",
      "__start__ i am from california , where are you from ? __end__\n",
      "__start__ i am from california , where are you from ? __end__\n",
      "__start__ i am from california , where are you from ? __end__\n",
      "__start__ i am from california , where are you from ? __end__\n",
      "__start__ i am from california , where are you from ? __end__\n",
      "__start__ i am from california , where are you from ? __end__\n",
      "__start__ i am from california , where are you from ? __end__\n",
      "__start__ i am from california , where are you from ? __end__\n",
      "__start__ i am from california , where are you from ? __end__\n",
      "__start__ i am from california , where are you from ? __end__\n",
      "__start__ i am from california , where are you from ? __end__\n",
      "__start__ i am from california , where are you from ? __end__\n",
      "__start__ i am from california , where are you from ? __end__\n",
      "__start__ i am from california , where are you from ? __end__\n",
      "__start__ i am from california , where are you from ? __end__\n",
      "__start__ i am from california , where are you from ? __end__\n",
      "__start__ i am from california , where are you from ? __end__\n",
      "tensor([-6.6516], grad_fn=<DivBackward0>)\n",
      "10\n"
     ]
    }
   ],
   "source": [
    "average_log_probs_1, sampled_toks_unique_1 = run_sample(para_nucleus = 0.1, sample_times = 100, inputs = inputs)"
   ]
  },
  {
   "cell_type": "markdown",
   "metadata": {
    "colab_type": "text",
    "id": "VEuTZ1ITi1Hk"
   },
   "source": [
    "#### parameter = 0.5"
   ]
  },
  {
   "cell_type": "code",
   "execution_count": 15,
   "metadata": {
    "colab": {
     "base_uri": "https://localhost:8080/",
     "height": 1000
    },
    "colab_type": "code",
    "id": "kfh0FFmEhF0s",
    "outputId": "3d0e9a1d-5e60-4633-f903-0fdba7dbd4f4"
   },
   "outputs": [
    {
     "name": "stdout",
     "output_type": "stream",
     "text": [
      "__start__ i ' m from alabama , i live in wisconsin . __end__\n",
      "__start__ i ' m from the united states . how about you ? __end__\n",
      "__start__ i am from kansas , texas . how about you ? __end__\n",
      "__start__ i ' m from boston . how about you ? __end__\n",
      "__start__ hi ! i am from maine , texas , and you ? __end__\n",
      "__start__ i ' m from florida , i live in vienna . __end__\n",
      "__start__ i am from the usa , where are you from ? __end__\n",
      "__start__ i am from california , i live in vienna . how about you ? __end__\n",
      "__start__ i ' m from the usa . how about you ? __end__\n",
      "__start__ i ' m from california , where are you from ? __end__\n",
      "__start__ i ' m from california . i am from colorado . __end__\n",
      "__start__ i am from kansas . how about you ? __end__\n",
      "__start__ i ' m from colorado . how about you ? __end__\n",
      "__start__ hi ! i am from california . i live in colorado . you ? __end__\n",
      "__start__ i ' m from the usa . how about you ? __end__\n",
      "__start__ i ' m from boston ma . how about you ? __end__\n",
      "__start__ i am from kansas , tc , california . how about you ? __end__\n",
      "__start__ i ' m from the usa , where are you from ? __end__\n",
      "__start__ i ' m from california . i ' m in the usa . __end__\n",
      "__start__ i am from california , how about you ? __end__\n",
      "__start__ i am from california , how about you ? __end__\n",
      "__start__ i ' m from ohio , how about you ? __end__\n",
      "__start__ i am from california , where are you from ? __end__\n",
      "__start__ i am from california , where are you from ? __end__\n",
      "__start__ i am from california . how about you ? __end__\n",
      "__start__ i am from california , how about you ? __end__\n",
      "__start__ i ' m from boston ma __end__\n",
      "__start__ i am from the united states . __end__\n",
      "__start__ hi , i ' m from california . how about you ? __end__\n",
      "__start__ hi , i ' m from texas , where are you from ? __end__\n",
      "__start__ i ' m from boston , oregon . how about you ? __end__\n",
      "__start__ i ' m from the united states . how about you ? __end__\n",
      "__start__ i am from california . how about you ? __end__\n",
      "__start__ i am from california . i live in california . __end__\n",
      "__start__ hi ! i ' m from the north dakota . you ? __end__\n",
      "__start__ i ' m from california . how about you ? __end__\n",
      "__start__ i ' m from oregon , maine and the weather here . __end__\n",
      "__start__ i ' m from california . how about you ? __end__\n",
      "__start__ i ' m from california , texas . __end__\n",
      "__start__ i am from texas , where are you from ? __end__\n",
      "__start__ hi , i ' m from california , i ' m in vermont . __end__\n",
      "__start__ hi , i am from oregon . i am from colorado . __end__\n",
      "__start__ hi ! i ' m from texas , i am from colorado . how about you ? __end__\n",
      "__start__ i am from california , where are you from ? __end__\n",
      "__start__ i am from california , i live in the usa . __end__\n",
      "__start__ i ' m from california , how about you ? __end__\n",
      "__start__ i am from california , how about you ? __end__\n",
      "__start__ i ' m from the north . i live in california . you ? __end__\n",
      "__start__ i am from california , i live in new york . how about you ? __end__\n",
      "__start__ i ' m from kansas . i am from colorado . __end__\n",
      "__start__ i ' m from boston , where are you from ? __end__\n",
      "__start__ i am from california . how about you ? __end__\n",
      "__start__ i am from california . how about you ? __end__\n",
      "__start__ i ' m from california , texas , california . __end__\n",
      "__start__ i am from the north . i am from the usa . how about you ? __end__\n",
      "__start__ i am from the united states . how about you ? __end__\n",
      "__start__ i ' m from alabama , how about you ? __end__\n",
      "__start__ i ' m from california , how about you ? __end__\n",
      "__start__ i am from florida . how about you ? __end__\n",
      "__start__ i ' m from florida . how about you ? __end__\n",
      "__start__ i ' m from california , where are you from ? __end__\n",
      "__start__ i ' m from alabama . how about you ? __end__\n",
      "__start__ i ' m from kansas , maine . how about you ? __end__\n",
      "__start__ i ' m from california , how about you ? __end__\n",
      "__start__ i am from kansas , oregon . how about you ? __end__\n",
      "__start__ i am from alabama . i am from california . how about you ? __end__\n",
      "__start__ i am from the north , where are you from ? __end__\n",
      "__start__ hi , i am from kansas , how about you ? __end__\n",
      "__start__ hi , i ' m from new york city , where i live . i ' m from kansas . __end__\n",
      "__start__ i am from kansas , tc . i live in portland maine . __end__\n",
      "__start__ hi ! i am from california . how about you ? __end__\n",
      "__start__ i am from alabama . how about you ? __end__\n",
      "__start__ i am from california . how about you ? __end__\n",
      "__start__ i am from kansas . how about you ? __end__\n",
      "__start__ hi ! i ' m from california . how about you ? __end__\n",
      "__start__ i am from the united states . __end__\n",
      "__start__ i am from alabama . how about you ? __end__\n",
      "__start__ i ' m from florida . how about you ? __end__\n",
      "__start__ i ' m from california , where are you from ? __end__\n",
      "__start__ hi ! i ' m from new york . how about you ? __end__\n",
      "__start__ i am from kansas , texas , maine . how about you ? __end__\n",
      "__start__ i am from the usa , how about you ? __end__\n",
      "__start__ hi , i ' m from california , i live in colorado . __end__\n",
      "__start__ i am from california , where are you from ? __end__\n",
      "__start__ i am from california , how about you ? __end__\n",
      "__start__ i am from the usa , where are you from ? __end__\n",
      "__start__ i am from california . how about you ? __end__\n",
      "__start__ i am from kansas , where are you from ? __end__\n",
      "__start__ i am from kansas . how about you ? __end__\n",
      "__start__ i am from texas . how are you ? __end__\n",
      "__start__ i am from the usa , how about you ? __end__\n",
      "__start__ i ' m from texas , i live in canada . you ? __end__\n",
      "__start__ i ' m from the united states . how about you ? __end__\n",
      "__start__ hi , i ' m in the south . i live in portland maine . __end__\n",
      "__start__ i ' m from colorado , how about you ? __end__\n",
      "__start__ i am from california . how about you ? __end__\n",
      "__start__ i am from california , where are you from ? __end__\n",
      "__start__ i am from kansas , i ' m in alabama . how about you ? __end__\n",
      "__start__ i am from the usa , how about you ? __end__\n",
      "__start__ i am from california . i am from kansas , how about you ? __end__\n",
      "tensor([-11.3450], grad_fn=<DivBackward0>)\n",
      "48\n"
     ]
    }
   ],
   "source": [
    "average_log_probs_2, sampled_toks_unique_2 = run_sample(para_nucleus = 0.5, sample_times = 100, inputs = inputs)"
   ]
  },
  {
   "cell_type": "markdown",
   "metadata": {
    "colab_type": "text",
    "id": "P4y-GEM2i45y"
   },
   "source": [
    "#### parameter = 0.9"
   ]
  },
  {
   "cell_type": "code",
   "execution_count": 16,
   "metadata": {
    "colab": {
     "base_uri": "https://localhost:8080/",
     "height": 1000
    },
    "colab_type": "code",
    "id": "KdoCsOB9hc6S",
    "outputId": "04a3eecf-63e9-482c-e20c-8479d81aca31"
   },
   "outputs": [
    {
     "name": "stdout",
     "output_type": "stream",
     "text": [
      "__start__ hey ! yes me at , how about you ? __end__\n",
      "__start__ great ! i was born in va in virginia , you ? __end__\n",
      "__start__ hi . . . how are you today ? __end__\n",
      "__start__ i am from maine . where are you from ? __end__\n",
      "__start__ hello ! i am from hawaii , where did you go ? __end__\n",
      "__start__ i live in ny . where are you from ? __end__\n",
      "__start__ cali here . just moved from kansas right now __end__\n",
      "__start__ i am in alabama . how about you ? __end__\n",
      "__start__ hi , how are you today ? i was in pa with my poodle __end__\n",
      "__start__ we usually had an apartment before ? __end__\n",
      "__start__ just where i live __end__\n",
      "__start__ hi ! they ' re great ! i love to hike and alternative in japan . how about you ? __end__\n",
      "__start__ i am traveling , had a bit of homework __end__\n",
      "__start__ hello , i ' m pretty really great . how about you ? __end__\n",
      "__start__ where are you from ? i am from wisconsin . __end__\n",
      "__start__ i am originally from boston . __end__\n",
      "__start__ i am from california . i like to talk about things to strangers up . __end__\n",
      "__start__ portland , california , tn , frank kansas , right now how about you ? __end__\n",
      "__start__ hi there . i ' m from nevada . __end__\n",
      "__start__ oh yeah , i ' m from washington but i was raised in canada . i love it . __end__\n",
      "__start__ i am from california . i just started living in ny . __end__\n",
      "__start__ i live here in colorado , texas . how about you ? __end__\n",
      "__start__ i ' m from tennessee , where are you from ? __end__\n",
      "__start__ hi there ! it is from national park from portland , hoping to become a bmw next year __end__\n",
      "__start__ i am from florida , where i was born in australia __end__\n",
      "__start__ i ' m from boston ma __end__\n",
      "__start__ hi ! i am from california , how about you ? __end__\n",
      "__start__ i ' m great . just retired from stanford __end__\n",
      "__start__ i am from new orleans . how about you ? __end__\n",
      "__start__ hello , i ' m looking for a new camera , you ? __end__\n",
      "__start__ i am from los angeles tx __end__\n",
      "__start__ i ' m from a small town from germany . what about you ? __end__\n",
      "__start__ i ' m from oregon , so i don ' t need to move to iceland . you ? __end__\n",
      "__start__ hello ! i am well . just got home from surfing in kansas __end__\n",
      "__start__ i ' m good thanks for asking __end__\n",
      "__start__ doing very well , you ? __end__\n",
      "__start__ oh nice . i ' m from tennessee . i moved in virginia . __end__\n",
      "__start__ hey there , how are you today ? __end__\n",
      "__start__ i am from california , texas , what do you do for a living ? __end__\n",
      "__start__ hi . h i am from a suburb but not so much . __end__\n",
      "__start__ i am from nevada , its good to speak and spanish . __end__\n",
      "__start__ i am on vacation with my grandparents . we moved to japan . where did you move ? __end__\n",
      "__start__ i ' m not a fan of ballet . how are you ? __end__\n",
      "__start__ pittsburgh , its too technical for sure . what do you do for fun ? __end__\n",
      "__start__ ok , my boy is from virginia . __end__\n",
      "__start__ vermont , how about you ? hows it going __end__\n",
      "__start__ i am from the us where i ' m from argentina . what are you doing ? __end__\n",
      "__start__ vermont . i work as a rapper in a new home . you ? __end__\n",
      "__start__ i am from boston . i moved out there at a small national guard . __end__\n",
      "__start__ i live in north carolina . __end__\n",
      "__start__ from canada , i am from virginia , what about you ? __end__\n",
      "__start__ i ' m from boston ma . yourself ? __end__\n",
      "__start__ hi how are you doing __end__\n",
      "__start__ hi there ! i ' m from vermont and i am trying to take my sisters with the next few months . __end__\n",
      "__start__ hi ! ! i ' m a viking . i ' m just living . how are you ? __end__\n",
      "__start__ not safe for a living . and yourself ? __end__\n",
      "__start__ hey there . . . just moved from tokyo . how was your weekend ? __end__\n",
      "__start__ hi there , i ' m very bad . you ? __end__\n",
      "__start__ just doing my own food . how are you ? __end__\n",
      "__start__ hi . . . how are you today ? i ' m okay with my mansion right now . how about you ? __end__\n",
      "__start__ i ' m a born farmer how about you ? __end__\n",
      "__start__ i ' m from texas , usa . how about you ? __end__\n",
      "__start__ i ' m from ohio , i live on the west coast . __end__\n",
      "__start__ hello ! how are you today ? __end__\n",
      "__start__ hi gwen , dave , virginia from vienna maryland and taking lessons with the kiddos __end__\n",
      "__start__ great ! my mansion is going through japan to my ivy business __end__\n",
      "__start__ i ' m from texas , how about you ? __end__\n",
      "__start__ i live in north carolina __end__\n",
      "__start__ my day is very hard for a living in colorado and we are going back from london __end__\n",
      "__start__ hi , how are you doing today ? __end__\n",
      "__start__ i ' m a farmer so my family farm . . . live with the chickens and canada . __end__\n",
      "__start__ i am from texas , and you ? __end__\n",
      "__start__ pretty good ! i ' m here in texas . __end__\n",
      "__start__ great ! what about you ? what are you doing ? __end__\n",
      "__start__ i am home the same way ! i was born in kansas city australia ! __end__\n",
      "__start__ hi how are you doing tonight ? __end__\n",
      "__start__ hi there , i am from vermont . where are you from ? __end__\n",
      "__start__ nice ! i live in portland maine and yours ? __end__\n",
      "__start__ i ' m in ohio . how about yourself ? __end__\n",
      "__start__ not quite i am from colorado how you ? __end__\n",
      "__start__ i ' m from portland , maine and portland . how about yourself ? __end__\n",
      "__start__ not good , watching cartoons . and you ? __end__\n",
      "__start__ hi ! it was ok . living in pittsburgh and europe . how about you ? __end__\n",
      "__start__ i am from california , and yourself ? __end__\n",
      "__start__ that ' s cool i was born in nevada and usa in the city . what are you up to ? __end__\n",
      "__start__ i am from japan , texas , where i live . how about you ? __end__\n",
      "__start__ hi , just got home from a studio apartment for 17 years . how about you ? __end__\n",
      "__start__ how is your day so far i belonged where is in the west city ? __end__\n",
      "__start__ i am from a city . my parents live in a rough life , so that is tiring . __end__\n",
      "__start__ hi ! from pittsburg , canada , i ' m from texas , i live in florida . you ? __end__\n",
      "__start__ i am great . how are you ? __end__\n",
      "__start__ california . i live in los angeles here , and love it __end__\n",
      "__start__ good , just got done playing the nintendo later . how are you ? __end__\n",
      "__start__ i am from california , where do you live ? __end__\n",
      "__start__ good , you ? i am from canada . __end__\n",
      "__start__ i am well , how are you doing ? __end__\n",
      "__start__ hello , i am in kansas , oregon . how are you ? __end__\n",
      "__start__ great . i am great ! just got in from my vacation travels . how are you ? __end__\n",
      "__start__ i am from mexico . are you ? __end__\n",
      "__start__ i am from california , i live in japan , i love visiting florida ! __end__\n",
      "tensor([-25.1463], grad_fn=<DivBackward0>)\n",
      "235\n"
     ]
    }
   ],
   "source": [
    "average_log_probs_3, sampled_toks_unique_3 = run_sample(para_nucleus = 0.9, sample_times = 100, inputs = inputs)"
   ]
  },
  {
   "cell_type": "markdown",
   "metadata": {
    "colab_type": "text",
    "id": "t3TSF-P2_N_D"
   },
   "source": [
    "## You present here:"
   ]
  },
  {
   "cell_type": "code",
   "execution_count": 0,
   "metadata": {
    "colab": {},
    "colab_type": "code",
    "id": "BZqi-BAQ_N_E"
   },
   "outputs": [],
   "source": [
    "# check pdf to see what you expected to present"
   ]
  },
  {
   "cell_type": "markdown",
   "metadata": {
    "colab_type": "text",
    "id": "Dpq5nlXczug_"
   },
   "source": [
    "#### average log-probability"
   ]
  },
  {
   "cell_type": "code",
   "execution_count": 0,
   "metadata": {
    "colab": {},
    "colab_type": "code",
    "id": "ZqMe5rn9tHRp"
   },
   "outputs": [],
   "source": [
    "import matplotlib.pyplot as plt"
   ]
  },
  {
   "cell_type": "code",
   "execution_count": 19,
   "metadata": {
    "colab": {
     "base_uri": "https://localhost:8080/",
     "height": 265
    },
    "colab_type": "code",
    "id": "vxuyJMmL_N_J",
    "outputId": "a81b983c-552b-4f3a-dc57-387bd09bb0d7"
   },
   "outputs": [
    {
     "data": {
      "image/png": "[encoded data removed]",
      "text/plain": [
       "<Figure size 432x288 with 1 Axes>"
      ]
     },
     "metadata": {
      "tags": []
     },
     "output_type": "display_data"
    }
   ],
   "source": [
    "parameters = [0.1, 0.5, 0.9]\n",
    "avg_log_probs = [average_log_probs_1, average_log_probs_2, average_log_probs_3]\n",
    "fig = plt.plot(parameters, avg_log_probs)"
   ]
  },
  {
   "cell_type": "markdown",
   "metadata": {
    "colab_type": "text",
    "id": "2Rqk2VMp1n01"
   },
   "source": [
    "#### number of unique tokens"
   ]
  },
  {
   "cell_type": "code",
   "execution_count": 20,
   "metadata": {
    "colab": {
     "base_uri": "https://localhost:8080/",
     "height": 265
    },
    "colab_type": "code",
    "id": "YnhBUxAdL2fG",
    "outputId": "d51512f2-de98-4fe5-ec68-f6d0805703d5"
   },
   "outputs": [
    {
     "data": {
      "image/png": "[encoded data removed]",
      "text/plain": [
       "<Figure size 432x288 with 1 Axes>"
      ]
     },
     "metadata": {
      "tags": []
     },
     "output_type": "display_data"
    }
   ],
   "source": [
    "parameters = [0.1, 0.5, 0.9]\n",
    "avg_log_probs = [sampled_toks_unique_1, sampled_toks_unique_2, sampled_toks_unique_3]\n",
    "fig = plt.plot(parameters, avg_log_probs)"
   ]
  },
  {
   "cell_type": "markdown",
   "metadata": {
    "colab_type": "text",
    "id": "cf84oCQ2_N_M"
   },
   "source": [
    "## 2.2 N-Gram blocking"
   ]
  },
  {
   "cell_type": "code",
   "execution_count": 23,
   "metadata": {
    "colab": {},
    "colab_type": "code",
    "id": "wnzr3023_MVX"
   },
   "outputs": [],
   "source": [
    "import math\n",
    "from operator import attrgetter\n",
    "\n",
    "class _HypothesisTail(object):\n",
    "    \"\"\"Hold some bookkeeping about a hypothesis.\"\"\"\n",
    "\n",
    "    # use slots because we don't want dynamic attributes here\n",
    "    __slots__ = ['timestep', 'hypid', 'score', 'tokenid']\n",
    "\n",
    "    def __init__(self, timestep, hypid, score, tokenid):\n",
    "        self.timestep = timestep\n",
    "        self.hypid = hypid\n",
    "        self.score = score\n",
    "        self.tokenid = tokenid\n",
    "\n",
    "class Beam(object):\n",
    "    \"\"\"\n",
    "    This class serves to keep info about partial hypothesis and perform the beam step\n",
    "    \"\"\"\n",
    "    \n",
    "    def __init__(\n",
    "        self,\n",
    "        beam_size,\n",
    "        padding_token=0,\n",
    "        bos_token=1,\n",
    "        eos_token=2,\n",
    "        min_length=3,\n",
    "        min_n_best=3,\n",
    "        device='cpu',\n",
    "        # for iterbeam below\n",
    "        similarity_metric='hamming',\n",
    "        similarity_threshold=0,\n",
    "    ):\n",
    "        \n",
    "        self.beam_size = beam_size\n",
    "        self.min_length = min_length\n",
    "        self.eos = eos_token\n",
    "        self.bos = bos_token\n",
    "        self.pad = padding_token\n",
    "        self.device = device\n",
    "        # recent score for each hypo in the beam\n",
    "        self.scores = None\n",
    "        # self.scores values per each time step\n",
    "        self.all_scores = [torch.Tensor([0.0] * beam_size).to(self.device)]\n",
    "        # backtracking id to hypothesis at previous time step\n",
    "        self.bookkeep = []\n",
    "        # output tokens at each time step\n",
    "        self.outputs = [\n",
    "            torch.Tensor(self.beam_size).long().fill_(self.bos).to(self.device)\n",
    "        ]\n",
    "        # keeps tuples (score, time_step, hyp_id)\n",
    "        self.finished = []\n",
    "        self.eos_top = False\n",
    "        self.eos_top_ts = None\n",
    "        self.n_best_counter = 0\n",
    "        self.min_n_best = min_n_best\n",
    "        self.partial_hyps = [[self.bos] for i in range(beam_size)]\n",
    "\n",
    "        # iterbeam related below\n",
    "        self.history_hyps = []\n",
    "        self.similarity_metric = similarity_metric\n",
    "        self.similarity_threshold = similarity_threshold\n",
    "        self.banned_tokens = set()\n",
    "        \n",
    "    def get_output_from_current_step(self):\n",
    "        \"\"\"Get the output at the current step.\"\"\"\n",
    "        return self.outputs[-1]\n",
    "\n",
    "    def get_backtrack_from_current_step(self):\n",
    "        \"\"\"Get the backtrack at the current step.\"\"\"\n",
    "        return self.bookkeep[-1]\n",
    "    \n",
    "    ##################### ITER-BEAM BLOCKING PART START #####################\n",
    "    \n",
    "    def hamming_distance(self, t1, t2):\n",
    "        dist = 0\n",
    "        for tok1, tok2 in zip(t1,t2):\n",
    "            if tok1 != tok2:\n",
    "                dist += 1\n",
    "        return dist\n",
    "    \n",
    "    def edit_distance(self, t1, t2):\n",
    "        import editdistance\n",
    "        dist = editdistance.eval(t1, t2)\n",
    "        return dist\n",
    "                \n",
    "    def similarity_check(self, active_hyp, previous_hyps, metric='hamming', threshold=0):\n",
    "        banned_tokens = []\n",
    "        active_len = len(active_hyp)\n",
    "        for observed_hyp, _banned_tokens in previous_hyps.items():\n",
    "            if len(observed_hyp) != active_len:\n",
    "                continue\n",
    "            if metric == 'hamming':\n",
    "                dist = self.hamming_distance(observed_hyp, active_hyp)\n",
    "            if metric == 'edit':\n",
    "                dist = self.edit_distance(observed_hyp, active_hyp)\n",
    "            if dist <= threshold:\n",
    "                banned_tokens.extend(_banned_tokens)\n",
    "                    \n",
    "        return list(set(banned_tokens))\n",
    "    \n",
    "    ##################### ITER-BEAM BLOCKING PART END ########################\n",
    "    \n",
    "\n",
    "\n",
    "\n",
    "\n",
    "    def select_paths(self, logprobs, prior_scores, previous_hyps, len_ngram=3):\n",
    "        \"\"\"Select the next vocabulary item in these beams.\"\"\"\n",
    "\n",
    "\n",
    "\n",
    "        # beam search actually looks over all hypotheses together so we flatten\n",
    "        beam_scores = logprobs + prior_scores.unsqueeze(1).expand_as(logprobs)\n",
    "        \n",
    "        # block ngrams repeats part\n",
    "\n",
    "        current_length = len(self.all_scores)\n",
    "        # print(current_length)\n",
    "        # print(beam_scores)\n",
    "        for hyp_id in range(beam_scores.size(0)):\n",
    "            active_hyp = self.partial_hyps[hyp_id]\n",
    "            # print(active_hyp)\n",
    "            banned = []\n",
    "            # print(len_ngram)\n",
    "            if len_ngram !=1:\n",
    "                  current_hist = active_hyp[-(len_ngram-1):]\n",
    "                  # print(current_hist)\n",
    "                  for ngram in zip(*[active_hyp[i:] for i in range(len_ngram)]):\n",
    "                          if ngram[:-1] == current_hist:\n",
    "                            banned.append(ngram[-1])\n",
    "                  # print(banned)\n",
    "                  beam_scores[hyp_id, banned] = -10e15\n",
    "            else:\n",
    "                for ngram in active_hyp:\n",
    "                        banned.append(ngram)\n",
    "                beam_scores[hyp_id, banned] = -10e15\n",
    "\n",
    "\n",
    "\n",
    "        # # iterbeam blocking part\n",
    "        # current_length = len(self.all_scores)\n",
    "        # if len(previous_hyps) > 0 and current_length > 0:\n",
    "        #     for hyp_id in range(beam_scores.size(0)):\n",
    "        #         active_hyp = tuple(self.partial_hyps[hyp_id])\n",
    "        #         banned_tokens = self.similarity_check(active_hyp, previous_hyps, metric=self.similarity_metric, threshold=self.similarity_threshold)\n",
    "        #         if len(banned_tokens) > 0:\n",
    "        #             beam_scores[:, banned_tokens] = -10e5\n",
    "            \n",
    "\n",
    "\n",
    "        flat_beam_scores = beam_scores.view(-1)\n",
    "        best_scores, best_idxs = torch.topk(flat_beam_scores, self.beam_size, dim=-1)\n",
    "        voc_size = logprobs.size(-1)\n",
    "\n",
    "        # get the backtracking hypothesis id as a multiple of full voc_sizes\n",
    "        hyp_ids = best_idxs / voc_size\n",
    "        # get the actual word id from residual of the same division\n",
    "        tok_ids = best_idxs % voc_size\n",
    "        \n",
    "        return (hyp_ids, tok_ids, best_scores)\n",
    "    \n",
    "\n",
    "    def advance(self, logprobs, previous_hyps,len_ngram=3):\n",
    "        \"\"\"Advance the beam one step.\"\"\"\n",
    "        current_length = len(self.all_scores) - 1\n",
    "        if current_length < self.min_length:\n",
    "            # penalize all eos probs to make it decode longer\n",
    "            for hyp_id in range(logprobs.size(0)):\n",
    "                logprobs[hyp_id][self.eos] = -10e5\n",
    "\n",
    "        if self.scores is None:\n",
    "            logprobs = logprobs[0:1]  # we use only the first hyp now, since they are all same\n",
    "            self.scores = torch.zeros(1).type_as(logprobs).to(logprobs.device)\n",
    "            \n",
    "        hyp_ids, tok_ids, self.scores = self.select_paths(logprobs, self.scores, previous_hyps,len_ngram=len_ngram)\n",
    "        \n",
    "        # clone scores here to avoid referencing penalized EOS in the future!\n",
    "        self.all_scores.append(self.scores.clone())\n",
    "\n",
    "        self.outputs.append(tok_ids)\n",
    "        self.bookkeep.append(hyp_ids)\n",
    "        self.partial_hyps = [\n",
    "            self.partial_hyps[hyp_ids[i]] + [tok_ids[i].item()]\n",
    "            for i in range(self.beam_size)\n",
    "        ]\n",
    "        self.history_hyps.extend(self.partial_hyps)\n",
    "\n",
    "        #  check new hypos for eos label, if we have some, add to finished\n",
    "        for hypid in range(self.beam_size):\n",
    "            if self.outputs[-1][hypid] == self.eos:\n",
    "                self.scores[hypid] = -10e5\n",
    "                #  this is finished hypo, adding to finished\n",
    "                eostail = _HypothesisTail(\n",
    "                    timestep=len(self.outputs) - 1,\n",
    "                    hypid=hypid,\n",
    "                    score=self.all_scores[-1][hypid],\n",
    "                    tokenid=self.eos,\n",
    "                )\n",
    "                self.finished.append(eostail)\n",
    "                self.n_best_counter += 1\n",
    "\n",
    "        if self.outputs[-1][0] == self.eos:\n",
    "            self.eos_top = True\n",
    "            if self.eos_top_ts is None:\n",
    "                self.eos_top_ts = len(self.outputs) - 1\n",
    "    \n",
    "    def is_done(self):\n",
    "        \"\"\"Return whether beam search is complete.\"\"\"\n",
    "        return self.eos_top and self.n_best_counter >= self.min_n_best\n",
    "\n",
    "    def get_top_hyp(self):\n",
    "        \"\"\"\n",
    "        Get single best hypothesis.\n",
    "        :return: hypothesis sequence and the final score\n",
    "        \"\"\"\n",
    "        return self._get_rescored_finished(n_best=1)[0]\n",
    "\n",
    "    def _get_hyp_from_finished(self, hypothesis_tail):\n",
    "        \"\"\"\n",
    "        Extract hypothesis ending with EOS at timestep with hyp_id.\n",
    "        :param timestep:\n",
    "            timestep with range up to len(self.outputs) - 1\n",
    "        :param hyp_id:\n",
    "            id with range up to beam_size - 1\n",
    "        :return:\n",
    "            hypothesis sequence\n",
    "        \"\"\"\n",
    "        hyp_idx = []\n",
    "        endback = hypothesis_tail.hypid\n",
    "        for i in range(hypothesis_tail.timestep, -1, -1):\n",
    "            hyp_idx.append(\n",
    "                _HypothesisTail(\n",
    "                    timestep=i,\n",
    "                    hypid=endback,\n",
    "                    score=self.all_scores[i][endback],\n",
    "                    tokenid=self.outputs[i][endback],\n",
    "                )\n",
    "            )\n",
    "            endback = self.bookkeep[i - 1][endback]\n",
    "\n",
    "        return hyp_idx\n",
    "\n",
    "    def _get_pretty_hypothesis(self, list_of_hypotails):\n",
    "        \"\"\"Return hypothesis as a tensor of token ids.\"\"\"\n",
    "        return torch.stack([ht.tokenid for ht in reversed(list_of_hypotails)])\n",
    "\n",
    "    def _get_rescored_finished(self, n_best=None, add_length_penalty=False):\n",
    "        \"\"\"\n",
    "        Return finished hypotheses according to adjusted scores.\n",
    "        Score adjustment is done according to the Google NMT paper, which\n",
    "        penalizes long utterances.\n",
    "        :param n_best:\n",
    "            number of finalized hypotheses to return\n",
    "        :return:\n",
    "            list of (tokens, score) pairs, in sorted order, where:\n",
    "              - tokens is a tensor of token ids\n",
    "              - score is the adjusted log probability of the entire utterance\n",
    "        \"\"\"\n",
    "        # if we never actually finished, force one\n",
    "        if not self.finished:\n",
    "            self.finished.append(\n",
    "                _HypothesisTail(\n",
    "                    timestep=len(self.outputs) - 1,\n",
    "                    hypid=0,\n",
    "                    score=self.all_scores[-1][0],\n",
    "                    tokenid=self.eos,\n",
    "                )\n",
    "            )\n",
    "\n",
    "        rescored_finished = []\n",
    "        for finished_item in self.finished:\n",
    "            if add_length_penalty:\n",
    "                current_length = finished_item.timestep + 1\n",
    "                # these weights are from Google NMT paper\n",
    "                length_penalty = math.pow((1 + current_length) / 6, 0.65)\n",
    "            else:\n",
    "                length_penalty = 1\n",
    "            rescored_finished.append(\n",
    "                _HypothesisTail(\n",
    "                    timestep=finished_item.timestep,\n",
    "                    hypid=finished_item.hypid,\n",
    "                    score=finished_item.score / length_penalty,\n",
    "                    tokenid=finished_item.tokenid,\n",
    "                )\n",
    "            )\n",
    "\n",
    "        # Note: beam size is almost always pretty small, so sorting is cheap enough\n",
    "        srted = sorted(rescored_finished, key=attrgetter('score'), reverse=True)\n",
    "\n",
    "        if n_best is not None:\n",
    "            srted = srted[:n_best]\n",
    "\n",
    "        return [\n",
    "            (self._get_pretty_hypothesis(self._get_hyp_from_finished(hyp)), hyp.score)\n",
    "            for hyp in srted\n",
    "        ]"
   ]
  },
  {
   "cell_type": "code",
   "execution_count": 24,
   "metadata": {
    "colab": {},
    "colab_type": "code",
    "id": "jzfUiseh_NPD"
   },
   "outputs": [],
   "source": [
    "def reorder_encoder_states(encoder_states, indices):\n",
    "        \"\"\"Reorder encoder states according to a new set of indices.\"\"\"\n",
    "        enc_out, hidden, attention_mask = encoder_states\n",
    "\n",
    "        # LSTM or GRU/RNN hidden state?\n",
    "        if isinstance(hidden, torch.Tensor):\n",
    "            hid, cell = hidden, None\n",
    "        else:\n",
    "            hid, cell = hidden\n",
    "\n",
    "        if not torch.is_tensor(indices):\n",
    "            # cast indices to a tensor if needed\n",
    "            indices = torch.LongTensor(indices).to(hid.device)\n",
    "\n",
    "        hid = hid.index_select(1, indices)\n",
    "        if cell is None:\n",
    "            hidden = hid\n",
    "        else:\n",
    "            cell = cell.index_select(1, indices)\n",
    "            hidden = (hid, cell)\n",
    "\n",
    "        enc_out = enc_out.index_select(0, indices)\n",
    "        attention_mask = attention_mask.index_select(0, indices)\n",
    "\n",
    "        return enc_out, hidden, attention_mask\n",
    "    \n",
    "    \n",
    "def reorder_decoder_incremental_state(incremental_state, inds):\n",
    "    if torch.is_tensor(incremental_state):\n",
    "        # gru or lstm\n",
    "        return torch.index_select(incremental_state, 1, inds).contiguous()\n",
    "    elif isinstance(incremental_state, tuple):\n",
    "        return tuple(\n",
    "            self.reorder_decoder_incremental_state(x, inds)\n",
    "            for x in incremental_state)\n",
    "\n",
    "def get_nbest_list_from_beam(beam, dictionary, n_best=None, add_length_penalty=False):\n",
    "    if n_best is None:\n",
    "        n_best = beam.min_n_best\n",
    "    nbest_list = beam._get_rescored_finished(n_best=n_best, add_length_penalty=add_length_penalty)\n",
    "    \n",
    "    nbest_list_text = [(dictionary.v2t(i[0].cpu().tolist()), i[1].item()) for i in nbest_list]\n",
    "    \n",
    "    return nbest_list_text"
   ]
  },
  {
   "cell_type": "code",
   "execution_count": 25,
   "metadata": {
    "colab": {},
    "colab_type": "code",
    "id": "SiaTwVHf_RKy"
   },
   "outputs": [],
   "source": [
    "def generate_with_beam(beam_size, min_n_best, model, batch, batch_size, previous_hyps=None, similarity_metric='hamming', similarity_threshold=0, verbose=False, len_ngram=3):\n",
    "    \"\"\"\n",
    "    This function takes a model, batch, beam settings and performs decoding with a beam\n",
    "    \"\"\"\n",
    "    beams = [Beam(beam_size, min_n_best=min_n_best, eos_token=chat_dict.word2ind['__end__'], padding_token=chat_dict.word2ind['__null__'], bos_token=chat_dict.word2ind['__start__'], device=current_device, similarity_metric=similarity_metric, similarity_threshold=similarity_threshold) for _ in range(batch_size)]\n",
    "    repeated_inds = torch.arange(batch_size).to(current_device).unsqueeze(1).repeat(1, beam_size).view(-1)\n",
    "    #print(batch_size)\n",
    "    text_vecs = batch['text_vecs'].to(current_device)\n",
    "#     print( batch['text_lens'])\n",
    "\n",
    "    encoder_states = model.encoder(text_vecs, batch['text_lens'], use_packed=batch['use_packed'])\n",
    "    \n",
    "    model.eval()\n",
    "    \n",
    "    encoder_states = reorder_encoder_states(encoder_states, repeated_inds)  # no actual reordering here, but repeating beam size times each sample in the minibatch\n",
    "    encoder_output, encoder_hidden, attention_mask = encoder_states\n",
    "    \n",
    "    incr_state = encoder_hidden  # we init decoder hidden with last encoder_hidden\n",
    "    \n",
    "    # 1 is a start token id\n",
    "    starts = torch.Tensor([1]).long().to(model.decoder.embedding.weight.device).expand(batch_size*beam_size, 1).long()  # expand to batch_size * beam_size\n",
    "    decoder_input = starts\n",
    "    \n",
    "    with torch.no_grad():\n",
    "        for ts in range(100):\n",
    "            if all((b.is_done() for b in beams)):\n",
    "                break\n",
    "            score, incr_state, attn_w_log = model.decoder(decoder_input, incr_state, encoder_states)\n",
    "            score = score[:, -1:, :]  # take last time step and eliminate the dimension\n",
    "            score = score.view(batch_size, beam_size, -1)\n",
    "            score = torch.log_softmax(score, dim=-1)\n",
    "         \n",
    "            for i, b in enumerate(beams):\n",
    "                if not b.is_done():\n",
    "                    # make mock previous_hyps if not used #\n",
    "                    if previous_hyps is None:\n",
    "                        previous_hyps = [{} for i in range(batch_size)]\n",
    "\n",
    "                    b.advance(score[i], previous_hyps[i],len_ngram=len_ngram)\n",
    "\n",
    "            incr_state_inds = torch.cat([beam_size * i + b.get_backtrack_from_current_step() for i, b in enumerate(beams)])\n",
    "            incr_state = reorder_decoder_incremental_state(incr_state, incr_state_inds)\n",
    "            selection = torch.cat([b.get_output_from_current_step() for b in beams]).unsqueeze(-1)\n",
    "            decoder_input = selection\n",
    "\n",
    "    beam_preds_scores = [list(b.get_top_hyp()) for b in beams]\n",
    "\n",
    "    if verbose:\n",
    "        for bi in range(batch_size):\n",
    "            #print(f'batch {bi}')\n",
    "            for i in get_nbest_list_from_beam(beams[bi], chat_dict, n_best=min_n_best):\n",
    "                print(i)\n",
    "    \n",
    "    return beam_preds_scores, beams"
   ]
  },
  {
   "cell_type": "markdown",
   "metadata": {
    "colab_type": "text",
    "id": "AFj-bWbM_N_Q"
   },
   "source": [
    "## You present here:"
   ]
  },
  {
   "cell_type": "code",
   "execution_count": 0,
   "metadata": {
    "colab": {},
    "colab_type": "code",
    "id": "aiE6gBP3_N_R"
   },
   "outputs": [],
   "source": [
    "# check pdf to see what you expected to present"
   ]
  },
  {
   "cell_type": "markdown",
   "metadata": {
    "colab_type": "text",
    "id": "plIByjWa_b7l"
   },
   "source": [
    "#### Length of ngram equals *1*"
   ]
  },
  {
   "cell_type": "code",
   "execution_count": 25,
   "metadata": {
    "colab": {
     "base_uri": "https://localhost:8080/",
     "height": 819
    },
    "colab_type": "code",
    "id": "fuAbRMnI_N_U",
    "outputId": "791382d6-c1ba-445e-9b82-53133fe4d111"
   },
   "outputs": [
    {
     "name": "stdout",
     "output_type": "stream",
     "text": [
      "{'text_vecs': tensor([[    7,    10,    12,     5,    31,    14,   294,   931,    23,   323,\n",
      "            24,    19, 10432,     4,    11,     7,    10,    12,     5,    28,\n",
      "            83,  1108,    33,    15,   543,     4,    11,     7,    10,    12,\n",
      "             5,    16,    26,  1873,   144,   141,     4,    11,     7,    10,\n",
      "            12,     5,   253,    21,     5,   388,    72,  1274,     4,    11,\n",
      "            58,    13,    34,    25,     6,    65,    82,     9,    11,    41,\n",
      "            20,     6,    20,  5525,    37,  2874,     3,    11,    68,     4,\n",
      "             5,    16,    26,   216,    97,  1771,   189,    37,    15,   117,\n",
      "             4,    11,    22,    93,    21,    88,     4,     5,    21,   931,\n",
      "            23,   584,    49,    20,    11,   313,     4,     5,   185,    14,\n",
      "            74,     8,   328,   927,    24,     8,   261,  1499,   398,    33,\n",
      "            36,    18,  2307,     4,    11,   134,    20,   479,    21,    22,\n",
      "             6,   388,    72,  1274,    21,    36,    20,    20,    11,    22,\n",
      "            16,    48,   336,     4,    15,    44,   238,    14,  3677,    18,\n",
      "           192,     8,   270,     4,    11,     6,   378,    83,    21,  6735,\n",
      "            13,    40,  1794,    97,   931,    11,   369,    17,     6,   307,\n",
      "           968,   123,   235,     9,    11, 13748,     4,     5,   307,    55,\n",
      "          2754,    23, 13748,     4,     5,   122,  6542,    24,    29,    20,\n",
      "            11,    41,  1044,     4,     5,   142,    21,     8,    68,  1905,\n",
      "           968,   931,     4]]), 'text_lens': [193], 'target_vecs': tensor([[   5,  119,    5,  147,   56, 2767,    8, 5093,  102,   23,   74,   97,\n",
      "          584,   75,   45,    2]]), 'target_lens': [16], 'use_packed': True}\n",
      "your persona : i love to drink wine and dance in the moonlight . \n",
      " your persona : i am very strong for my age . \n",
      " your persona : i ' m 100 years old . \n",
      " your persona : i feel like i might live forever . \n",
      " hi , how are you doing today ? \n",
      " good ! you ! celebrating with fellow __unk__ \n",
      " nice . i ' m playing some card games with my family . \n",
      " that sounds like fun . i like wine and dancing too ! \n",
      " same . i try to get a small workout in a three mile walk for me is key . \n",
      " awesome ! walking like that you might live forever like me ! ! \n",
      " that ' s true . my favorite way to unwind is reading a book . \n",
      " you sound very like minded , just add some wine \n",
      " which do you prefer white or red ? \n",
      " fermented . i prefer well aged and fermented . i could bathe in it ! \n",
      " good choice . i always like a nice dry white wine .\n",
      "('__start__ do you have any hobbies ? __end__', -6.386916160583496)\n",
      "('__start__ what else do you enjoy ? __end__', -7.000218391418457)\n",
      "('__start__ what else do you like ? __end__', -7.003590106964111)\n",
      "('__start__ what do you like to eat ? __end__', -7.7021074295043945)\n",
      "('__start__ what is your favorite food ? __end__', -7.785398006439209)\n",
      "('__start__ what do you like to cook ? __end__', -8.379557609558105)\n",
      "('__start__ what else do you like ? i love it . __end__', -13.439236640930176)\n",
      "('__start__ what do you like to eat ? i love it . __end__', -13.890179634094238)\n",
      "('__start__ what else do you like ? i love it ! __end__', -14.098609924316406)\n",
      "('__start__ what do you like to cook ? i love it . __end__', -14.345126152038574)\n"
     ]
    }
   ],
   "source": [
    "batch_size = 1\n",
    "beam_size = 20\n",
    "beam_n_best = 10\n",
    "len_ngram = 1\n",
    "\n",
    "valid_loader_single = DataLoader(valid_dataset, shuffle=False, collate_fn=batchify, batch_size=batch_size)\n",
    "\n",
    "valid_sample = next(iter(valid_loader_single))\n",
    "\n",
    "\n",
    "for i,valid_sample in enumerate(valid_loader_single):\n",
    "      if i == 56:\n",
    "        print(valid_sample)\n",
    "        print(chat_dict.v2t(list(valid_sample['text_vecs'].numpy()[0])))\n",
    "        beam_preds_scores, beams = generate_with_beam(beam_size, beam_n_best, model, valid_sample, batch_size=batch_size, verbose=True,len_ngram=len_ngram)"
   ]
  },
  {
   "cell_type": "markdown",
   "metadata": {
    "colab_type": "text",
    "id": "fbcZoyJ8_z3b"
   },
   "source": [
    "#### Length of ngram equals 2"
   ]
  },
  {
   "cell_type": "code",
   "execution_count": 26,
   "metadata": {
    "colab": {
     "base_uri": "https://localhost:8080/",
     "height": 819
    },
    "colab_type": "code",
    "id": "P32pVpDU_xEl",
    "outputId": "16abc1b0-d04e-4c31-c26b-ae073ca563b1"
   },
   "outputs": [
    {
     "name": "stdout",
     "output_type": "stream",
     "text": [
      "{'text_vecs': tensor([[    7,    10,    12,     5,    31,    14,   294,   931,    23,   323,\n",
      "            24,    19, 10432,     4,    11,     7,    10,    12,     5,    28,\n",
      "            83,  1108,    33,    15,   543,     4,    11,     7,    10,    12,\n",
      "             5,    16,    26,  1873,   144,   141,     4,    11,     7,    10,\n",
      "            12,     5,   253,    21,     5,   388,    72,  1274,     4,    11,\n",
      "            58,    13,    34,    25,     6,    65,    82,     9,    11,    41,\n",
      "            20,     6,    20,  5525,    37,  2874,     3,    11,    68,     4,\n",
      "             5,    16,    26,   216,    97,  1771,   189,    37,    15,   117,\n",
      "             4,    11,    22,    93,    21,    88,     4,     5,    21,   931,\n",
      "            23,   584,    49,    20,    11,   313,     4,     5,   185,    14,\n",
      "            74,     8,   328,   927,    24,     8,   261,  1499,   398,    33,\n",
      "            36,    18,  2307,     4,    11,   134,    20,   479,    21,    22,\n",
      "             6,   388,    72,  1274,    21,    36,    20,    20,    11,    22,\n",
      "            16,    48,   336,     4,    15,    44,   238,    14,  3677,    18,\n",
      "           192,     8,   270,     4,    11,     6,   378,    83,    21,  6735,\n",
      "            13,    40,  1794,    97,   931,    11,   369,    17,     6,   307,\n",
      "           968,   123,   235,     9,    11, 13748,     4,     5,   307,    55,\n",
      "          2754,    23, 13748,     4,     5,   122,  6542,    24,    29,    20,\n",
      "            11,    41,  1044,     4,     5,   142,    21,     8,    68,  1905,\n",
      "           968,   931,     4]]), 'text_lens': [193], 'target_vecs': tensor([[   5,  119,    5,  147,   56, 2767,    8, 5093,  102,   23,   74,   97,\n",
      "          584,   75,   45,    2]]), 'target_lens': [16], 'use_packed': True}\n",
      "your persona : i love to drink wine and dance in the moonlight . \n",
      " your persona : i am very strong for my age . \n",
      " your persona : i ' m 100 years old . \n",
      " your persona : i feel like i might live forever . \n",
      " hi , how are you doing today ? \n",
      " good ! you ! celebrating with fellow __unk__ \n",
      " nice . i ' m playing some card games with my family . \n",
      " that sounds like fun . i like wine and dancing too ! \n",
      " same . i try to get a small workout in a three mile walk for me is key . \n",
      " awesome ! walking like that you might live forever like me ! ! \n",
      " that ' s true . my favorite way to unwind is reading a book . \n",
      " you sound very like minded , just add some wine \n",
      " which do you prefer white or red ? \n",
      " fermented . i prefer well aged and fermented . i could bathe in it ! \n",
      " good choice . i always like a nice dry white wine .\n",
      "('__start__ what do you do for a living ? __end__', -5.9079060554504395)\n",
      "('__start__ do you have any hobbies ? __end__', -6.386916160583496)\n",
      "('__start__ what do you do for fun ? __end__', -6.53247594833374)\n",
      "('__start__ what do you do for work ? __end__', -6.581830978393555)\n",
      "('__start__ what else do you enjoy ? __end__', -7.000218391418457)\n",
      "('__start__ what else do you like ? __end__', -7.003590106964111)\n",
      "('__start__ what else do you like to do ? __end__', -7.469433307647705)\n",
      "('__start__ what do you like to eat ? __end__', -7.7021074295043945)\n",
      "('__start__ what do you like to do ? __end__', -7.727385520935059)\n",
      "('__start__ what else do you do ? __end__', -7.842296600341797)\n"
     ]
    }
   ],
   "source": [
    "batch_size = 1\n",
    "beam_size = 20\n",
    "beam_n_best = 10\n",
    "len_ngram = 2\n",
    "\n",
    "valid_loader_single = DataLoader(valid_dataset, shuffle=False, collate_fn=batchify, batch_size=batch_size)\n",
    "\n",
    "valid_sample = next(iter(valid_loader_single))\n",
    "\n",
    "\n",
    "for i,valid_sample in enumerate(valid_loader_single):\n",
    "      if i == 56:\n",
    "        print(valid_sample)\n",
    "        print(chat_dict.v2t(list(valid_sample['text_vecs'].numpy()[0])))\n",
    "        beam_preds_scores, beams = generate_with_beam(beam_size, beam_n_best, model, valid_sample, batch_size=batch_size, verbose=True,len_ngram=len_ngram)"
   ]
  },
  {
   "cell_type": "markdown",
   "metadata": {
    "colab_type": "text",
    "id": "BBKyr0xEAAMj"
   },
   "source": [
    "#### Length of ngram equals 3"
   ]
  },
  {
   "cell_type": "code",
   "execution_count": 27,
   "metadata": {
    "colab": {
     "base_uri": "https://localhost:8080/",
     "height": 819
    },
    "colab_type": "code",
    "id": "_-BcQTGdAHh3",
    "outputId": "5bd77786-2f97-4ea6-ea8a-f42d3e63f2fe"
   },
   "outputs": [
    {
     "name": "stdout",
     "output_type": "stream",
     "text": [
      "{'text_vecs': tensor([[    7,    10,    12,     5,    31,    14,   294,   931,    23,   323,\n",
      "            24,    19, 10432,     4,    11,     7,    10,    12,     5,    28,\n",
      "            83,  1108,    33,    15,   543,     4,    11,     7,    10,    12,\n",
      "             5,    16,    26,  1873,   144,   141,     4,    11,     7,    10,\n",
      "            12,     5,   253,    21,     5,   388,    72,  1274,     4,    11,\n",
      "            58,    13,    34,    25,     6,    65,    82,     9,    11,    41,\n",
      "            20,     6,    20,  5525,    37,  2874,     3,    11,    68,     4,\n",
      "             5,    16,    26,   216,    97,  1771,   189,    37,    15,   117,\n",
      "             4,    11,    22,    93,    21,    88,     4,     5,    21,   931,\n",
      "            23,   584,    49,    20,    11,   313,     4,     5,   185,    14,\n",
      "            74,     8,   328,   927,    24,     8,   261,  1499,   398,    33,\n",
      "            36,    18,  2307,     4,    11,   134,    20,   479,    21,    22,\n",
      "             6,   388,    72,  1274,    21,    36,    20,    20,    11,    22,\n",
      "            16,    48,   336,     4,    15,    44,   238,    14,  3677,    18,\n",
      "           192,     8,   270,     4,    11,     6,   378,    83,    21,  6735,\n",
      "            13,    40,  1794,    97,   931,    11,   369,    17,     6,   307,\n",
      "           968,   123,   235,     9,    11, 13748,     4,     5,   307,    55,\n",
      "          2754,    23, 13748,     4,     5,   122,  6542,    24,    29,    20,\n",
      "            11,    41,  1044,     4,     5,   142,    21,     8,    68,  1905,\n",
      "           968,   931,     4]]), 'text_lens': [193], 'target_vecs': tensor([[   5,  119,    5,  147,   56, 2767,    8, 5093,  102,   23,   74,   97,\n",
      "          584,   75,   45,    2]]), 'target_lens': [16], 'use_packed': True}\n",
      "your persona : i love to drink wine and dance in the moonlight . \n",
      " your persona : i am very strong for my age . \n",
      " your persona : i ' m 100 years old . \n",
      " your persona : i feel like i might live forever . \n",
      " hi , how are you doing today ? \n",
      " good ! you ! celebrating with fellow __unk__ \n",
      " nice . i ' m playing some card games with my family . \n",
      " that sounds like fun . i like wine and dancing too ! \n",
      " same . i try to get a small workout in a three mile walk for me is key . \n",
      " awesome ! walking like that you might live forever like me ! ! \n",
      " that ' s true . my favorite way to unwind is reading a book . \n",
      " you sound very like minded , just add some wine \n",
      " which do you prefer white or red ? \n",
      " fermented . i prefer well aged and fermented . i could bathe in it ! \n",
      " good choice . i always like a nice dry white wine .\n",
      "('__start__ what do you do for a living ? __end__', -5.9079060554504395)\n",
      "('__start__ do you have any hobbies ? __end__', -6.386916160583496)\n",
      "('__start__ what do you do for fun ? __end__', -6.53247594833374)\n",
      "('__start__ what do you do for work ? __end__', -6.581830978393555)\n",
      "('__start__ what else do you enjoy ? __end__', -7.000218391418457)\n",
      "('__start__ what else do you like ? __end__', -7.003590106964111)\n",
      "('__start__ what else do you like to do ? __end__', -7.469433307647705)\n",
      "('__start__ what do you like to eat ? __end__', -7.7021074295043945)\n",
      "('__start__ what do you like to do ? __end__', -7.727385520935059)\n",
      "('__start__ what else do you do ? __end__', -7.842296600341797)\n"
     ]
    }
   ],
   "source": [
    "batch_size = 1\n",
    "beam_size = 20\n",
    "beam_n_best = 10\n",
    "len_ngram = 3\n",
    "\n",
    "valid_loader_single = DataLoader(valid_dataset, shuffle=False, collate_fn=batchify, batch_size=batch_size)\n",
    "\n",
    "valid_sample = next(iter(valid_loader_single))\n",
    "\n",
    "\n",
    "for i,valid_sample in enumerate(valid_loader_single):\n",
    "    if i == 56:\n",
    "        print(valid_sample)\n",
    "        print(chat_dict.v2t(list(valid_sample['text_vecs'].numpy()[0])))\n",
    "        beam_preds_scores, beams = generate_with_beam(beam_size, beam_n_best, model, valid_sample, batch_size=batch_size, verbose=True,len_ngram=len_ngram)"
   ]
  },
  {
   "cell_type": "markdown",
   "metadata": {
    "colab_type": "text",
    "id": "WQAXpR1W_N_X"
   },
   "source": [
    "# Part 3 Interactive chat"
   ]
  },
  {
   "cell_type": "code",
   "execution_count": 267,
   "metadata": {
    "colab": {},
    "colab_type": "code",
    "id": "F4QZjbe6_N_Y"
   },
   "outputs": [],
   "source": [
    "# implement logic for interactive chat here\n",
    "# the easiest is to just use python input functionality"
   ]
  },
  {
   "cell_type": "code",
   "execution_count": 268,
   "metadata": {
    "colab": {},
    "colab_type": "code",
    "id": "p49pj5o_yv3m"
   },
   "outputs": [],
   "source": [
    "from ipywidgets import widgets\n",
    "\n",
    "import tkinter as  tk\n",
    "from tkinter import ttk  \n",
    "win = tk.Toplevel()\n",
    "win.wm_title(\"Window\")\n",
    "\n",
    "label = tk.Label(win, text=\"User input\")\n",
    "label.grid(row=0, column=0)\n",
    "\n",
    "button = ttk.Button(win, text=\"Done\", command=win.destroy)\n",
    "button.grid(row=1, column=0)\n",
    "\n"
   ]
  },
  {
   "cell_type": "code",
   "execution_count": 269,
   "metadata": {
    "colab": {},
    "colab_type": "code",
    "id": "5Ng27pDgy0tv"
   },
   "outputs": [],
   "source": [
    "from ipywidgets import interact, interactive, fixed, interact_manual\n",
    "import ipywidgets as widgets\n",
    "from IPython.display import display\n",
    "\n"
   ]
  },
  {
   "cell_type": "code",
   "execution_count": 270,
   "metadata": {
    "colab": {},
    "colab_type": "code",
    "id": "0xRxsXqpWHmB"
   },
   "outputs": [],
   "source": [
    "persona_text = 'your persona : i am a vegan and i love hummus . \\n your persona : i love rollercoasters and sky diving . \\n your persona : i do like watching cooking shows . \\n your persona : i am not a good swimmer at all .' \n",
    "log_history = persona_text"
   ]
  },
  {
   "cell_type": "code",
   "execution_count": 271,
   "metadata": {
    "colab": {},
    "colab_type": "code",
    "id": "kV8JKedny5xU"
   },
   "outputs": [],
   "source": [
    "def interact_function(x,log_history):\n",
    "    print(log_history)\n",
    "    print(x)\n",
    "    return "
   ]
  },
  {
   "cell_type": "code",
   "execution_count": 272,
   "metadata": {
    "colab": {},
    "colab_type": "code",
    "id": "7opINbGyy6sQ"
   },
   "outputs": [],
   "source": [
    "button = widgets.Button(description=\"Run decoding!\")\n",
    "output = widgets.Output()\n",
    "\n",
    "def on_button_clicked(b):\n",
    "    with output:\n",
    "        log_history.value += '\\n'\n",
    "        # append the input dialog to the sequence\n",
    "        log_history.value += x.value\n",
    "        # # append the new line mark\n",
    "        log_history.value += '\\n'\n",
    "        \n",
    "        # process the log_history\n",
    "        persona_text_processed = log_history.value.split(' ')\n",
    "        persona_vector = chat_dict.t2v(persona_text_processed)\n",
    "        valid_sample = {}\n",
    "        valid_sample['text_vecs'] = torch.tensor([persona_vector])\n",
    "        valid_sample['text_lens'] = [len(persona_vector)]\n",
    "        valid_sample['use_packed'] = True\n",
    "        \n",
    "        # conduct beam search\n",
    "        batch_size = 1\n",
    "        beam_size = 20\n",
    "        beam_n_best = 20\n",
    "        len_ngram = 3\n",
    "        \n",
    "        beam_preds_scores, beams = generate_with_beam(beam_size, beam_n_best, model, valid_sample, batch_size=batch_size, verbose=True,len_ngram=len_ngram)\n",
    "#     print(get_nbest_list_from_beam(beams[0], chat_dict, n_best=beam_n_best))\n",
    "\n",
    "    # get the fifth answer\n",
    "        tmpt = get_nbest_list_from_beam(beams[0], chat_dict, n_best=beam_n_best)[10][0]\n",
    "#     print('tmpt')\n",
    "#     print('\\n')\n",
    "#     print(tmpt.split('__')[2])\n",
    "\n",
    "    # append the output to the log history\n",
    "        log_history.value += tmpt.split('__')[2]\n",
    "        x.value = ''\n",
    "        print(tmpt.split('__')[2])"
   ]
  },
  {
   "cell_type": "code",
   "execution_count": 273,
   "metadata": {
    "colab": {},
    "colab_type": "code",
    "id": "HYornbaWWHmK"
   },
   "outputs": [],
   "source": [
    "log_history = widgets.Textarea(\n",
    "    value=persona_text,\n",
    "    placeholder='Type something',\n",
    "    description='Log_history:',\n",
    "    disabled=False\n",
    ")\n",
    "x = widgets.Textarea(\n",
    "        value='',\n",
    "        placeholder='Type something',\n",
    "        description='Input:',\n",
    "        disabled=False\n",
    "    )"
   ]
  },
  {
   "cell_type": "markdown",
   "metadata": {
    "colab_type": "text",
    "id": "GsNssYlX_N_c"
   },
   "source": [
    "## You present here:"
   ]
  },
  {
   "cell_type": "code",
   "execution_count": 274,
   "metadata": {
    "colab": {},
    "colab_type": "code",
    "id": "HrRvmsm__N_d"
   },
   "outputs": [],
   "source": [
    "# check pdf to see what you expected to present"
   ]
  },
  {
   "cell_type": "code",
   "execution_count": 275,
   "metadata": {
    "colab": {},
    "colab_type": "code",
    "id": "9lknY_k3_N_g",
    "outputId": "87aa9a58-b584-473e-e15d-c06c77f5e51e"
   },
   "outputs": [
    {
     "data": {
      "application/vnd.jupyter.widget-view+json": {
       "model_id": "2faef3dad717481fb200295f5561e958",
       "version_major": 2,
       "version_minor": 0
      },
      "text/plain": [
       "interactive(children=(Textarea(value='', description='Input:', placeholder='Type something'), Textarea(value='…"
      ]
     },
     "metadata": {},
     "output_type": "display_data"
    },
    {
     "data": {
      "application/vnd.jupyter.widget-view+json": {
       "model_id": "c41dcd457a7742f7a2740b87a54f0a34",
       "version_major": 2,
       "version_minor": 0
      },
      "text/plain": [
       "Button(description='Run decoding!', style=ButtonStyle())"
      ]
     },
     "metadata": {},
     "output_type": "display_data"
    },
    {
     "data": {
      "application/vnd.jupyter.widget-view+json": {
       "model_id": "2fd847e4524a4118adb75060f9323fcc",
       "version_major": 2,
       "version_minor": 0
      },
      "text/plain": [
       "Output()"
      ]
     },
     "metadata": {},
     "output_type": "display_data"
    }
   ],
   "source": [
    "interact_manual(interact_function,x = x,log_history = log_history)\n",
    "display(button, output)\n",
    "button.on_click(on_button_clicked)"
   ]
  },
  {
   "cell_type": "markdown",
   "metadata": {},
   "source": [
    "#### A conversation generated by our model"
   ]
  },
  {
   "cell_type": "markdown",
   "metadata": {},
   "source": [
    "your persona : i am a vegan and i love hummus . \n",
    "\n",
    "your persona : i love rollercoasters and sky diving . \n",
    "\n",
    "your persona : i do like watching cooking shows . \n",
    "\n",
    "your persona : i am not a good swimmer at all .' \n",
    "\n",
    "Hi, how are you?\n",
    "\n",
    "hi , i ' m doing great . how are you ? \n",
    "\n",
    "I am really great! I played tennis this afternoon. It makes tired but happy. Do you like doing any sports?\n",
    "\n",
    "hi , i ' m good . i just got back from the gym .\n",
    "\n",
    "Sounds good. I love playing tennis. I feel excited about it. I forget all my troubles when playing tennis. What about you? \n",
    "\n",
    "i just got back from the gym . what do you do for fun ? \n",
    "\n",
    "I like cooking. But I am not a cook. I am a student, living in New York now.\n",
    "\n",
    "i don ' t have a job but i ' m not much into sports . what do you do ? \n"
   ]
  },
  {
   "cell_type": "code",
   "execution_count": null,
   "metadata": {},
   "outputs": [],
   "source": []
  }
 ],
 "metadata": {
  "accelerator": "GPU",
  "colab": {
   "collapsed_sections": [],
   "name": "HW4_The_One.ipynb",
   "provenance": [],
   "toc_visible": true
  },
  "kernelspec": {
   "display_name": "Python 3",
   "language": "python",
   "name": "python3"
  },
  "language_info": {
   "codemirror_mode": {
    "name": "ipython",
    "version": 3
   },
   "file_extension": ".py",
   "mimetype": "text/x-python",
   "name": "python",
   "nbconvert_exporter": "python",
   "pygments_lexer": "ipython3",
   "version": "3.7.4"
  }
 },
 "nbformat": 4,
 "nbformat_minor": 1
}
